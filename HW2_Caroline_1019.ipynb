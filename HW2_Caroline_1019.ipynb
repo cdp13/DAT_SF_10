{
 "metadata": {
  "name": "",
  "signature": "sha256:835689c296758b88e155c61d43560e6d51786ef16281e60e03b9ed15bf8b0e38"
 },
 "nbformat": 3,
 "nbformat_minor": 0,
 "worksheets": [
  {
   "cells": [
    {
     "cell_type": "code",
     "collapsed": false,
     "input": [
      "import csv\n",
      "\n",
      "iris_data = csv.reader(open('iris.csv'), delimiter=',')"
     ],
     "language": "python",
     "metadata": {},
     "outputs": [],
     "prompt_number": 6
    },
    {
     "cell_type": "code",
     "collapsed": false,
     "input": [
      "print iris_data"
     ],
     "language": "python",
     "metadata": {},
     "outputs": [
      {
       "output_type": "stream",
       "stream": "stdout",
       "text": [
        "<_csv.reader object at 0x103db8980>\n"
       ]
      }
     ],
     "prompt_number": 7
    },
    {
     "cell_type": "code",
     "collapsed": false,
     "input": [
      "# Moving CSV data into arrays.\n",
      "\n",
      "data = []\n",
      "names = []\n",
      "\n",
      "for line in iris_data:\n",
      "    data.append(line[0:4])\n",
      "    names.append(line[4:])"
     ],
     "language": "python",
     "metadata": {},
     "outputs": [],
     "prompt_number": 8
    },
    {
     "cell_type": "code",
     "collapsed": false,
     "input": [
      "# df = pd.read_csv('iris.csv', names=['SepalLength', 'SepalWidth','PetalLength', 'PetalWidth', 'Name'], header=None)"
     ],
     "language": "python",
     "metadata": {},
     "outputs": [],
     "prompt_number": 80
    },
    {
     "cell_type": "code",
     "collapsed": false,
     "input": [
      "print data"
     ],
     "language": "python",
     "metadata": {},
     "outputs": [
      {
       "output_type": "stream",
       "stream": "stdout",
       "text": [
        "[['5.1', '3.5', '1.4', '0.2'], ['4.9', '3.0', '1.4', '0.2'], ['4.7', '3.2', '1.3', '0.2'], ['4.6', '3.1', '1.5', '0.2'], ['5.0', '3.6', '1.4', '0.2'], ['5.4', '3.9', '1.7', '0.4'], ['4.6', '3.4', '1.4', '0.3'], ['5.0', '3.4', '1.5', '0.2'], ['4.4', '2.9', '1.4', '0.2'], ['4.9', '3.1', '1.5', '0.1'], ['5.4', '3.7', '1.5', '0.2'], ['4.8', '3.4', '1.6', '0.2'], ['4.8', '3.0', '1.4', '0.1'], ['4.3', '3.0', '1.1', '0.1'], ['5.8', '4.0', '1.2', '0.2'], ['5.7', '4.4', '1.5', '0.4'], ['5.4', '3.9', '1.3', '0.4'], ['5.1', '3.5', '1.4', '0.3'], ['5.7', '3.8', '1.7', '0.3'], ['5.1', '3.8', '1.5', '0.3'], ['5.4', '3.4', '1.7', '0.2'], ['5.1', '3.7', '1.5', '0.4'], ['4.6', '3.6', '1.0', '0.2'], ['5.1', '3.3', '1.7', '0.5'], ['4.8', '3.4', '1.9', '0.2'], ['5.0', '3.0', '1.6', '0.2'], ['5.0', '3.4', '1.6', '0.4'], ['5.2', '3.5', '1.5', '0.2'], ['5.2', '3.4', '1.4', '0.2'], ['4.7', '3.2', '1.6', '0.2'], ['4.8', '3.1', '1.6', '0.2'], ['5.4', '3.4', '1.5', '0.4'], ['5.2', '4.1', '1.5', '0.1'], ['5.5', '4.2', '1.4', '0.2'], ['4.9', '3.1', '1.5', '0.1'], ['5.0', '3.2', '1.2', '0.2'], ['5.5', '3.5', '1.3', '0.2'], ['4.9', '3.1', '1.5', '0.1'], ['4.4', '3.0', '1.3', '0.2'], ['5.1', '3.4', '1.5', '0.2'], ['5.0', '3.5', '1.3', '0.3'], ['4.5', '2.3', '1.3', '0.3'], ['4.4', '3.2', '1.3', '0.2'], ['5.0', '3.5', '1.6', '0.6'], ['5.1', '3.8', '1.9', '0.4'], ['4.8', '3.0', '1.4', '0.3'], ['5.1', '3.8', '1.6', '0.2'], ['4.6', '3.2', '1.4', '0.2'], ['5.3', '3.7', '1.5', '0.2'], ['5.0', '3.3', '1.4', '0.2'], ['7.0', '3.2', '4.7', '1.4'], ['6.4', '3.2', '4.5', '1.5'], ['6.9', '3.1', '4.9', '1.5'], ['5.5', '2.3', '4.0', '1.3'], ['6.5', '2.8', '4.6', '1.5'], ['5.7', '2.8', '4.5', '1.3'], ['6.3', '3.3', '4.7', '1.6'], ['4.9', '2.4', '3.3', '1.0'], ['6.6', '2.9', '4.6', '1.3'], ['5.2', '2.7', '3.9', '1.4'], ['5.0', '2.0', '3.5', '1.0'], ['5.9', '3.0', '4.2', '1.5'], ['6.0', '2.2', '4.0', '1.0'], ['6.1', '2.9', '4.7', '1.4'], ['5.6', '2.9', '3.6', '1.3'], ['6.7', '3.1', '4.4', '1.4'], ['5.6', '3.0', '4.5', '1.5'], ['5.8', '2.7', '4.1', '1.0'], ['6.2', '2.2', '4.5', '1.5'], ['5.6', '2.5', '3.9', '1.1'], ['5.9', '3.2', '4.8', '1.8'], ['6.1', '2.8', '4.0', '1.3'], ['6.3', '2.5', '4.9', '1.5'], ['6.1', '2.8', '4.7', '1.2'], ['6.4', '2.9', '4.3', '1.3'], ['6.6', '3.0', '4.4', '1.4'], ['6.8', '2.8', '4.8', '1.4'], ['6.7', '3.0', '5.0', '1.7'], ['6.0', '2.9', '4.5', '1.5'], ['5.7', '2.6', '3.5', '1.0'], ['5.5', '2.4', '3.8', '1.1'], ['5.5', '2.4', '3.7', '1.0'], ['5.8', '2.7', '3.9', '1.2'], ['6.0', '2.7', '5.1', '1.6'], ['5.4', '3.0', '4.5', '1.5'], ['6.0', '3.4', '4.5', '1.6'], ['6.7', '3.1', '4.7', '1.5'], ['6.3', '2.3', '4.4', '1.3'], ['5.6', '3.0', '4.1', '1.3'], ['5.5', '2.5', '4.0', '1.3'], ['5.5', '2.6', '4.4', '1.2'], ['6.1', '3.0', '4.6', '1.4'], ['5.8', '2.6', '4.0', '1.2'], ['5.0', '2.3', '3.3', '1.0'], ['5.6', '2.7', '4.2', '1.3'], ['5.7', '3.0', '4.2', '1.2'], ['5.7', '2.9', '4.2', '1.3'], ['6.2', '2.9', '4.3', '1.3'], ['5.1', '2.5', '3.0', '1.1'], ['5.7', '2.8', '4.1', '1.3'], ['6.3', '3.3', '6.0', '2.5'], ['5.8', '2.7', '5.1', '1.9'], ['7.1', '3.0', '5.9', '2.1'], ['6.3', '2.9', '5.6', '1.8'], ['6.5', '3.0', '5.8', '2.2'], ['7.6', '3.0', '6.6', '2.1'], ['4.9', '2.5', '4.5', '1.7'], ['7.3', '2.9', '6.3', '1.8'], ['6.7', '2.5', '5.8', '1.8'], ['7.2', '3.6', '6.1', '2.5'], ['6.5', '3.2', '5.1', '2.0'], ['6.4', '2.7', '5.3', '1.9'], ['6.8', '3.0', '5.5', '2.1'], ['5.7', '2.5', '5.0', '2.0'], ['5.8', '2.8', '5.1', '2.4'], ['6.4', '3.2', '5.3', '2.3'], ['6.5', '3.0', '5.5', '1.8'], ['7.7', '3.8', '6.7', '2.2'], ['7.7', '2.6', '6.9', '2.3'], ['6.0', '2.2', '5.0', '1.5'], ['6.9', '3.2', '5.7', '2.3'], ['5.6', '2.8', '4.9', '2.0'], ['7.7', '2.8', '6.7', '2.0'], ['6.3', '2.7', '4.9', '1.8'], ['6.7', '3.3', '5.7', '2.1'], ['7.2', '3.2', '6.0', '1.8'], ['6.2', '2.8', '4.8', '1.8'], ['6.1', '3.0', '4.9', '1.8'], ['6.4', '2.8', '5.6', '2.1'], ['7.2', '3.0', '5.8', '1.6'], ['7.4', '2.8', '6.1', '1.9'], ['7.9', '3.8', '6.4', '2.0'], ['6.4', '2.8', '5.6', '2.2'], ['6.3', '2.8', '5.1', '1.5'], ['6.1', '2.6', '5.6', '1.4'], ['7.7', '3.0', '6.1', '2.3'], ['6.3', '3.4', '5.6', '2.4'], ['6.4', '3.1', '5.5', '1.8'], ['6.0', '3.0', '4.8', '1.8'], ['6.9', '3.1', '5.4', '2.1'], ['6.7', '3.1', '5.6', '2.4'], ['6.9', '3.1', '5.1', '2.3'], ['5.8', '2.7', '5.1', '1.9'], ['6.8', '3.2', '5.9', '2.3'], ['6.7', '3.3', '5.7', '2.5'], ['6.7', '3.0', '5.2', '2.3'], ['6.3', '2.5', '5.0', '1.9'], ['6.5', '3.0', '5.2', '2.0'], ['6.2', '3.4', '5.4', '2.3'], ['5.9', '3.0', '5.1', '1.8'], []]\n"
       ]
      }
     ],
     "prompt_number": 9
    },
    {
     "cell_type": "code",
     "collapsed": false,
     "input": [
      "data.pop(150)"
     ],
     "language": "python",
     "metadata": {},
     "outputs": [
      {
       "metadata": {},
       "output_type": "pyout",
       "prompt_number": 10,
       "text": [
        "[]"
       ]
      }
     ],
     "prompt_number": 10
    },
    {
     "cell_type": "code",
     "collapsed": false,
     "input": [
      "print data"
     ],
     "language": "python",
     "metadata": {},
     "outputs": [
      {
       "output_type": "stream",
       "stream": "stdout",
       "text": [
        "[['5.1', '3.5', '1.4', '0.2'], ['4.9', '3.0', '1.4', '0.2'], ['4.7', '3.2', '1.3', '0.2'], ['4.6', '3.1', '1.5', '0.2'], ['5.0', '3.6', '1.4', '0.2'], ['5.4', '3.9', '1.7', '0.4'], ['4.6', '3.4', '1.4', '0.3'], ['5.0', '3.4', '1.5', '0.2'], ['4.4', '2.9', '1.4', '0.2'], ['4.9', '3.1', '1.5', '0.1'], ['5.4', '3.7', '1.5', '0.2'], ['4.8', '3.4', '1.6', '0.2'], ['4.8', '3.0', '1.4', '0.1'], ['4.3', '3.0', '1.1', '0.1'], ['5.8', '4.0', '1.2', '0.2'], ['5.7', '4.4', '1.5', '0.4'], ['5.4', '3.9', '1.3', '0.4'], ['5.1', '3.5', '1.4', '0.3'], ['5.7', '3.8', '1.7', '0.3'], ['5.1', '3.8', '1.5', '0.3'], ['5.4', '3.4', '1.7', '0.2'], ['5.1', '3.7', '1.5', '0.4'], ['4.6', '3.6', '1.0', '0.2'], ['5.1', '3.3', '1.7', '0.5'], ['4.8', '3.4', '1.9', '0.2'], ['5.0', '3.0', '1.6', '0.2'], ['5.0', '3.4', '1.6', '0.4'], ['5.2', '3.5', '1.5', '0.2'], ['5.2', '3.4', '1.4', '0.2'], ['4.7', '3.2', '1.6', '0.2'], ['4.8', '3.1', '1.6', '0.2'], ['5.4', '3.4', '1.5', '0.4'], ['5.2', '4.1', '1.5', '0.1'], ['5.5', '4.2', '1.4', '0.2'], ['4.9', '3.1', '1.5', '0.1'], ['5.0', '3.2', '1.2', '0.2'], ['5.5', '3.5', '1.3', '0.2'], ['4.9', '3.1', '1.5', '0.1'], ['4.4', '3.0', '1.3', '0.2'], ['5.1', '3.4', '1.5', '0.2'], ['5.0', '3.5', '1.3', '0.3'], ['4.5', '2.3', '1.3', '0.3'], ['4.4', '3.2', '1.3', '0.2'], ['5.0', '3.5', '1.6', '0.6'], ['5.1', '3.8', '1.9', '0.4'], ['4.8', '3.0', '1.4', '0.3'], ['5.1', '3.8', '1.6', '0.2'], ['4.6', '3.2', '1.4', '0.2'], ['5.3', '3.7', '1.5', '0.2'], ['5.0', '3.3', '1.4', '0.2'], ['7.0', '3.2', '4.7', '1.4'], ['6.4', '3.2', '4.5', '1.5'], ['6.9', '3.1', '4.9', '1.5'], ['5.5', '2.3', '4.0', '1.3'], ['6.5', '2.8', '4.6', '1.5'], ['5.7', '2.8', '4.5', '1.3'], ['6.3', '3.3', '4.7', '1.6'], ['4.9', '2.4', '3.3', '1.0'], ['6.6', '2.9', '4.6', '1.3'], ['5.2', '2.7', '3.9', '1.4'], ['5.0', '2.0', '3.5', '1.0'], ['5.9', '3.0', '4.2', '1.5'], ['6.0', '2.2', '4.0', '1.0'], ['6.1', '2.9', '4.7', '1.4'], ['5.6', '2.9', '3.6', '1.3'], ['6.7', '3.1', '4.4', '1.4'], ['5.6', '3.0', '4.5', '1.5'], ['5.8', '2.7', '4.1', '1.0'], ['6.2', '2.2', '4.5', '1.5'], ['5.6', '2.5', '3.9', '1.1'], ['5.9', '3.2', '4.8', '1.8'], ['6.1', '2.8', '4.0', '1.3'], ['6.3', '2.5', '4.9', '1.5'], ['6.1', '2.8', '4.7', '1.2'], ['6.4', '2.9', '4.3', '1.3'], ['6.6', '3.0', '4.4', '1.4'], ['6.8', '2.8', '4.8', '1.4'], ['6.7', '3.0', '5.0', '1.7'], ['6.0', '2.9', '4.5', '1.5'], ['5.7', '2.6', '3.5', '1.0'], ['5.5', '2.4', '3.8', '1.1'], ['5.5', '2.4', '3.7', '1.0'], ['5.8', '2.7', '3.9', '1.2'], ['6.0', '2.7', '5.1', '1.6'], ['5.4', '3.0', '4.5', '1.5'], ['6.0', '3.4', '4.5', '1.6'], ['6.7', '3.1', '4.7', '1.5'], ['6.3', '2.3', '4.4', '1.3'], ['5.6', '3.0', '4.1', '1.3'], ['5.5', '2.5', '4.0', '1.3'], ['5.5', '2.6', '4.4', '1.2'], ['6.1', '3.0', '4.6', '1.4'], ['5.8', '2.6', '4.0', '1.2'], ['5.0', '2.3', '3.3', '1.0'], ['5.6', '2.7', '4.2', '1.3'], ['5.7', '3.0', '4.2', '1.2'], ['5.7', '2.9', '4.2', '1.3'], ['6.2', '2.9', '4.3', '1.3'], ['5.1', '2.5', '3.0', '1.1'], ['5.7', '2.8', '4.1', '1.3'], ['6.3', '3.3', '6.0', '2.5'], ['5.8', '2.7', '5.1', '1.9'], ['7.1', '3.0', '5.9', '2.1'], ['6.3', '2.9', '5.6', '1.8'], ['6.5', '3.0', '5.8', '2.2'], ['7.6', '3.0', '6.6', '2.1'], ['4.9', '2.5', '4.5', '1.7'], ['7.3', '2.9', '6.3', '1.8'], ['6.7', '2.5', '5.8', '1.8'], ['7.2', '3.6', '6.1', '2.5'], ['6.5', '3.2', '5.1', '2.0'], ['6.4', '2.7', '5.3', '1.9'], ['6.8', '3.0', '5.5', '2.1'], ['5.7', '2.5', '5.0', '2.0'], ['5.8', '2.8', '5.1', '2.4'], ['6.4', '3.2', '5.3', '2.3'], ['6.5', '3.0', '5.5', '1.8'], ['7.7', '3.8', '6.7', '2.2'], ['7.7', '2.6', '6.9', '2.3'], ['6.0', '2.2', '5.0', '1.5'], ['6.9', '3.2', '5.7', '2.3'], ['5.6', '2.8', '4.9', '2.0'], ['7.7', '2.8', '6.7', '2.0'], ['6.3', '2.7', '4.9', '1.8'], ['6.7', '3.3', '5.7', '2.1'], ['7.2', '3.2', '6.0', '1.8'], ['6.2', '2.8', '4.8', '1.8'], ['6.1', '3.0', '4.9', '1.8'], ['6.4', '2.8', '5.6', '2.1'], ['7.2', '3.0', '5.8', '1.6'], ['7.4', '2.8', '6.1', '1.9'], ['7.9', '3.8', '6.4', '2.0'], ['6.4', '2.8', '5.6', '2.2'], ['6.3', '2.8', '5.1', '1.5'], ['6.1', '2.6', '5.6', '1.4'], ['7.7', '3.0', '6.1', '2.3'], ['6.3', '3.4', '5.6', '2.4'], ['6.4', '3.1', '5.5', '1.8'], ['6.0', '3.0', '4.8', '1.8'], ['6.9', '3.1', '5.4', '2.1'], ['6.7', '3.1', '5.6', '2.4'], ['6.9', '3.1', '5.1', '2.3'], ['5.8', '2.7', '5.1', '1.9'], ['6.8', '3.2', '5.9', '2.3'], ['6.7', '3.3', '5.7', '2.5'], ['6.7', '3.0', '5.2', '2.3'], ['6.3', '2.5', '5.0', '1.9'], ['6.5', '3.0', '5.2', '2.0'], ['6.2', '3.4', '5.4', '2.3'], ['5.9', '3.0', '5.1', '1.8']]\n"
       ]
      }
     ],
     "prompt_number": 11
    },
    {
     "cell_type": "code",
     "collapsed": false,
     "input": [
      "import numpy as np\n",
      "data2 = np.asarray(data)"
     ],
     "language": "python",
     "metadata": {},
     "outputs": [],
     "prompt_number": 12
    },
    {
     "cell_type": "code",
     "collapsed": false,
     "input": [
      "data2"
     ],
     "language": "python",
     "metadata": {},
     "outputs": [
      {
       "metadata": {},
       "output_type": "pyout",
       "prompt_number": 13,
       "text": [
        "array([['5.1', '3.5', '1.4', '0.2'],\n",
        "       ['4.9', '3.0', '1.4', '0.2'],\n",
        "       ['4.7', '3.2', '1.3', '0.2'],\n",
        "       ['4.6', '3.1', '1.5', '0.2'],\n",
        "       ['5.0', '3.6', '1.4', '0.2'],\n",
        "       ['5.4', '3.9', '1.7', '0.4'],\n",
        "       ['4.6', '3.4', '1.4', '0.3'],\n",
        "       ['5.0', '3.4', '1.5', '0.2'],\n",
        "       ['4.4', '2.9', '1.4', '0.2'],\n",
        "       ['4.9', '3.1', '1.5', '0.1'],\n",
        "       ['5.4', '3.7', '1.5', '0.2'],\n",
        "       ['4.8', '3.4', '1.6', '0.2'],\n",
        "       ['4.8', '3.0', '1.4', '0.1'],\n",
        "       ['4.3', '3.0', '1.1', '0.1'],\n",
        "       ['5.8', '4.0', '1.2', '0.2'],\n",
        "       ['5.7', '4.4', '1.5', '0.4'],\n",
        "       ['5.4', '3.9', '1.3', '0.4'],\n",
        "       ['5.1', '3.5', '1.4', '0.3'],\n",
        "       ['5.7', '3.8', '1.7', '0.3'],\n",
        "       ['5.1', '3.8', '1.5', '0.3'],\n",
        "       ['5.4', '3.4', '1.7', '0.2'],\n",
        "       ['5.1', '3.7', '1.5', '0.4'],\n",
        "       ['4.6', '3.6', '1.0', '0.2'],\n",
        "       ['5.1', '3.3', '1.7', '0.5'],\n",
        "       ['4.8', '3.4', '1.9', '0.2'],\n",
        "       ['5.0', '3.0', '1.6', '0.2'],\n",
        "       ['5.0', '3.4', '1.6', '0.4'],\n",
        "       ['5.2', '3.5', '1.5', '0.2'],\n",
        "       ['5.2', '3.4', '1.4', '0.2'],\n",
        "       ['4.7', '3.2', '1.6', '0.2'],\n",
        "       ['4.8', '3.1', '1.6', '0.2'],\n",
        "       ['5.4', '3.4', '1.5', '0.4'],\n",
        "       ['5.2', '4.1', '1.5', '0.1'],\n",
        "       ['5.5', '4.2', '1.4', '0.2'],\n",
        "       ['4.9', '3.1', '1.5', '0.1'],\n",
        "       ['5.0', '3.2', '1.2', '0.2'],\n",
        "       ['5.5', '3.5', '1.3', '0.2'],\n",
        "       ['4.9', '3.1', '1.5', '0.1'],\n",
        "       ['4.4', '3.0', '1.3', '0.2'],\n",
        "       ['5.1', '3.4', '1.5', '0.2'],\n",
        "       ['5.0', '3.5', '1.3', '0.3'],\n",
        "       ['4.5', '2.3', '1.3', '0.3'],\n",
        "       ['4.4', '3.2', '1.3', '0.2'],\n",
        "       ['5.0', '3.5', '1.6', '0.6'],\n",
        "       ['5.1', '3.8', '1.9', '0.4'],\n",
        "       ['4.8', '3.0', '1.4', '0.3'],\n",
        "       ['5.1', '3.8', '1.6', '0.2'],\n",
        "       ['4.6', '3.2', '1.4', '0.2'],\n",
        "       ['5.3', '3.7', '1.5', '0.2'],\n",
        "       ['5.0', '3.3', '1.4', '0.2'],\n",
        "       ['7.0', '3.2', '4.7', '1.4'],\n",
        "       ['6.4', '3.2', '4.5', '1.5'],\n",
        "       ['6.9', '3.1', '4.9', '1.5'],\n",
        "       ['5.5', '2.3', '4.0', '1.3'],\n",
        "       ['6.5', '2.8', '4.6', '1.5'],\n",
        "       ['5.7', '2.8', '4.5', '1.3'],\n",
        "       ['6.3', '3.3', '4.7', '1.6'],\n",
        "       ['4.9', '2.4', '3.3', '1.0'],\n",
        "       ['6.6', '2.9', '4.6', '1.3'],\n",
        "       ['5.2', '2.7', '3.9', '1.4'],\n",
        "       ['5.0', '2.0', '3.5', '1.0'],\n",
        "       ['5.9', '3.0', '4.2', '1.5'],\n",
        "       ['6.0', '2.2', '4.0', '1.0'],\n",
        "       ['6.1', '2.9', '4.7', '1.4'],\n",
        "       ['5.6', '2.9', '3.6', '1.3'],\n",
        "       ['6.7', '3.1', '4.4', '1.4'],\n",
        "       ['5.6', '3.0', '4.5', '1.5'],\n",
        "       ['5.8', '2.7', '4.1', '1.0'],\n",
        "       ['6.2', '2.2', '4.5', '1.5'],\n",
        "       ['5.6', '2.5', '3.9', '1.1'],\n",
        "       ['5.9', '3.2', '4.8', '1.8'],\n",
        "       ['6.1', '2.8', '4.0', '1.3'],\n",
        "       ['6.3', '2.5', '4.9', '1.5'],\n",
        "       ['6.1', '2.8', '4.7', '1.2'],\n",
        "       ['6.4', '2.9', '4.3', '1.3'],\n",
        "       ['6.6', '3.0', '4.4', '1.4'],\n",
        "       ['6.8', '2.8', '4.8', '1.4'],\n",
        "       ['6.7', '3.0', '5.0', '1.7'],\n",
        "       ['6.0', '2.9', '4.5', '1.5'],\n",
        "       ['5.7', '2.6', '3.5', '1.0'],\n",
        "       ['5.5', '2.4', '3.8', '1.1'],\n",
        "       ['5.5', '2.4', '3.7', '1.0'],\n",
        "       ['5.8', '2.7', '3.9', '1.2'],\n",
        "       ['6.0', '2.7', '5.1', '1.6'],\n",
        "       ['5.4', '3.0', '4.5', '1.5'],\n",
        "       ['6.0', '3.4', '4.5', '1.6'],\n",
        "       ['6.7', '3.1', '4.7', '1.5'],\n",
        "       ['6.3', '2.3', '4.4', '1.3'],\n",
        "       ['5.6', '3.0', '4.1', '1.3'],\n",
        "       ['5.5', '2.5', '4.0', '1.3'],\n",
        "       ['5.5', '2.6', '4.4', '1.2'],\n",
        "       ['6.1', '3.0', '4.6', '1.4'],\n",
        "       ['5.8', '2.6', '4.0', '1.2'],\n",
        "       ['5.0', '2.3', '3.3', '1.0'],\n",
        "       ['5.6', '2.7', '4.2', '1.3'],\n",
        "       ['5.7', '3.0', '4.2', '1.2'],\n",
        "       ['5.7', '2.9', '4.2', '1.3'],\n",
        "       ['6.2', '2.9', '4.3', '1.3'],\n",
        "       ['5.1', '2.5', '3.0', '1.1'],\n",
        "       ['5.7', '2.8', '4.1', '1.3'],\n",
        "       ['6.3', '3.3', '6.0', '2.5'],\n",
        "       ['5.8', '2.7', '5.1', '1.9'],\n",
        "       ['7.1', '3.0', '5.9', '2.1'],\n",
        "       ['6.3', '2.9', '5.6', '1.8'],\n",
        "       ['6.5', '3.0', '5.8', '2.2'],\n",
        "       ['7.6', '3.0', '6.6', '2.1'],\n",
        "       ['4.9', '2.5', '4.5', '1.7'],\n",
        "       ['7.3', '2.9', '6.3', '1.8'],\n",
        "       ['6.7', '2.5', '5.8', '1.8'],\n",
        "       ['7.2', '3.6', '6.1', '2.5'],\n",
        "       ['6.5', '3.2', '5.1', '2.0'],\n",
        "       ['6.4', '2.7', '5.3', '1.9'],\n",
        "       ['6.8', '3.0', '5.5', '2.1'],\n",
        "       ['5.7', '2.5', '5.0', '2.0'],\n",
        "       ['5.8', '2.8', '5.1', '2.4'],\n",
        "       ['6.4', '3.2', '5.3', '2.3'],\n",
        "       ['6.5', '3.0', '5.5', '1.8'],\n",
        "       ['7.7', '3.8', '6.7', '2.2'],\n",
        "       ['7.7', '2.6', '6.9', '2.3'],\n",
        "       ['6.0', '2.2', '5.0', '1.5'],\n",
        "       ['6.9', '3.2', '5.7', '2.3'],\n",
        "       ['5.6', '2.8', '4.9', '2.0'],\n",
        "       ['7.7', '2.8', '6.7', '2.0'],\n",
        "       ['6.3', '2.7', '4.9', '1.8'],\n",
        "       ['6.7', '3.3', '5.7', '2.1'],\n",
        "       ['7.2', '3.2', '6.0', '1.8'],\n",
        "       ['6.2', '2.8', '4.8', '1.8'],\n",
        "       ['6.1', '3.0', '4.9', '1.8'],\n",
        "       ['6.4', '2.8', '5.6', '2.1'],\n",
        "       ['7.2', '3.0', '5.8', '1.6'],\n",
        "       ['7.4', '2.8', '6.1', '1.9'],\n",
        "       ['7.9', '3.8', '6.4', '2.0'],\n",
        "       ['6.4', '2.8', '5.6', '2.2'],\n",
        "       ['6.3', '2.8', '5.1', '1.5'],\n",
        "       ['6.1', '2.6', '5.6', '1.4'],\n",
        "       ['7.7', '3.0', '6.1', '2.3'],\n",
        "       ['6.3', '3.4', '5.6', '2.4'],\n",
        "       ['6.4', '3.1', '5.5', '1.8'],\n",
        "       ['6.0', '3.0', '4.8', '1.8'],\n",
        "       ['6.9', '3.1', '5.4', '2.1'],\n",
        "       ['6.7', '3.1', '5.6', '2.4'],\n",
        "       ['6.9', '3.1', '5.1', '2.3'],\n",
        "       ['5.8', '2.7', '5.1', '1.9'],\n",
        "       ['6.8', '3.2', '5.9', '2.3'],\n",
        "       ['6.7', '3.3', '5.7', '2.5'],\n",
        "       ['6.7', '3.0', '5.2', '2.3'],\n",
        "       ['6.3', '2.5', '5.0', '1.9'],\n",
        "       ['6.5', '3.0', '5.2', '2.0'],\n",
        "       ['6.2', '3.4', '5.4', '2.3'],\n",
        "       ['5.9', '3.0', '5.1', '1.8']], \n",
        "      dtype='|S3')"
       ]
      }
     ],
     "prompt_number": 13
    },
    {
     "cell_type": "code",
     "collapsed": false,
     "input": [
      "import numpy as np\n",
      "names2 = np.asarray(names)"
     ],
     "language": "python",
     "metadata": {},
     "outputs": [],
     "prompt_number": 92
    },
    {
     "cell_type": "code",
     "collapsed": false,
     "input": [
      "print names2"
     ],
     "language": "python",
     "metadata": {},
     "outputs": [
      {
       "output_type": "stream",
       "stream": "stdout",
       "text": [
        "[['Iris-setosa'] ['Iris-setosa'] ['Iris-setosa'] ['Iris-setosa']\n",
        " ['Iris-setosa'] ['Iris-setosa'] ['Iris-setosa'] ['Iris-setosa']\n",
        " ['Iris-setosa'] ['Iris-setosa'] ['Iris-setosa'] ['Iris-setosa']\n",
        " ['Iris-setosa'] ['Iris-setosa'] ['Iris-setosa'] ['Iris-setosa']\n",
        " ['Iris-setosa'] ['Iris-setosa'] ['Iris-setosa'] ['Iris-setosa']\n",
        " ['Iris-setosa'] ['Iris-setosa'] ['Iris-setosa'] ['Iris-setosa']\n",
        " ['Iris-setosa'] ['Iris-setosa'] ['Iris-setosa'] ['Iris-setosa']\n",
        " ['Iris-setosa'] ['Iris-setosa'] ['Iris-setosa'] ['Iris-setosa']\n",
        " ['Iris-setosa'] ['Iris-setosa'] ['Iris-setosa'] ['Iris-setosa']\n",
        " ['Iris-setosa'] ['Iris-setosa'] ['Iris-setosa'] ['Iris-setosa']\n",
        " ['Iris-setosa'] ['Iris-setosa'] ['Iris-setosa'] ['Iris-setosa']\n",
        " ['Iris-setosa'] ['Iris-setosa'] ['Iris-setosa'] ['Iris-setosa']\n",
        " ['Iris-setosa'] ['Iris-setosa'] ['Iris-versicolor'] ['Iris-versicolor']\n",
        " ['Iris-versicolor'] ['Iris-versicolor'] ['Iris-versicolor']\n",
        " ['Iris-versicolor'] ['Iris-versicolor'] ['Iris-versicolor']\n",
        " ['Iris-versicolor'] ['Iris-versicolor'] ['Iris-versicolor']\n",
        " ['Iris-versicolor'] ['Iris-versicolor'] ['Iris-versicolor']\n",
        " ['Iris-versicolor'] ['Iris-versicolor'] ['Iris-versicolor']\n",
        " ['Iris-versicolor'] ['Iris-versicolor'] ['Iris-versicolor']\n",
        " ['Iris-versicolor'] ['Iris-versicolor'] ['Iris-versicolor']\n",
        " ['Iris-versicolor'] ['Iris-versicolor'] ['Iris-versicolor']\n",
        " ['Iris-versicolor'] ['Iris-versicolor'] ['Iris-versicolor']\n",
        " ['Iris-versicolor'] ['Iris-versicolor'] ['Iris-versicolor']\n",
        " ['Iris-versicolor'] ['Iris-versicolor'] ['Iris-versicolor']\n",
        " ['Iris-versicolor'] ['Iris-versicolor'] ['Iris-versicolor']\n",
        " ['Iris-versicolor'] ['Iris-versicolor'] ['Iris-versicolor']\n",
        " ['Iris-versicolor'] ['Iris-versicolor'] ['Iris-versicolor']\n",
        " ['Iris-versicolor'] ['Iris-versicolor'] ['Iris-versicolor']\n",
        " ['Iris-versicolor'] ['Iris-versicolor'] ['Iris-versicolor']\n",
        " ['Iris-virginica'] ['Iris-virginica'] ['Iris-virginica']\n",
        " ['Iris-virginica'] ['Iris-virginica'] ['Iris-virginica']\n",
        " ['Iris-virginica'] ['Iris-virginica'] ['Iris-virginica']\n",
        " ['Iris-virginica'] ['Iris-virginica'] ['Iris-virginica']\n",
        " ['Iris-virginica'] ['Iris-virginica'] ['Iris-virginica']\n",
        " ['Iris-virginica'] ['Iris-virginica'] ['Iris-virginica']\n",
        " ['Iris-virginica'] ['Iris-virginica'] ['Iris-virginica']\n",
        " ['Iris-virginica'] ['Iris-virginica'] ['Iris-virginica']\n",
        " ['Iris-virginica'] ['Iris-virginica'] ['Iris-virginica']\n",
        " ['Iris-virginica'] ['Iris-virginica'] ['Iris-virginica']\n",
        " ['Iris-virginica'] ['Iris-virginica'] ['Iris-virginica']\n",
        " ['Iris-virginica'] ['Iris-virginica'] ['Iris-virginica']\n",
        " ['Iris-virginica'] ['Iris-virginica'] ['Iris-virginica']\n",
        " ['Iris-virginica'] ['Iris-virginica'] ['Iris-virginica']\n",
        " ['Iris-virginica'] ['Iris-virginica'] ['Iris-virginica']\n",
        " ['Iris-virginica'] ['Iris-virginica'] ['Iris-virginica']\n",
        " ['Iris-virginica'] ['Iris-virginica'] []]\n"
       ]
      }
     ],
     "prompt_number": 93
    },
    {
     "cell_type": "code",
     "collapsed": false,
     "input": [
      "names.pop(150)"
     ],
     "language": "python",
     "metadata": {},
     "outputs": [
      {
       "metadata": {},
       "output_type": "pyout",
       "prompt_number": 14,
       "text": [
        "[]"
       ]
      }
     ],
     "prompt_number": 14
    },
    {
     "cell_type": "code",
     "collapsed": false,
     "input": [
      "import numpy as np\n",
      "names2 = np.asarray(names)"
     ],
     "language": "python",
     "metadata": {},
     "outputs": [],
     "prompt_number": 17
    },
    {
     "cell_type": "code",
     "collapsed": false,
     "input": [
      "print names2"
     ],
     "language": "python",
     "metadata": {},
     "outputs": [
      {
       "output_type": "stream",
       "stream": "stdout",
       "text": [
        "[['Iris-setosa']\n",
        " ['Iris-setosa']\n",
        " ['Iris-setosa']\n",
        " ['Iris-setosa']\n",
        " ['Iris-setosa']\n",
        " ['Iris-setosa']\n",
        " ['Iris-setosa']\n",
        " ['Iris-setosa']\n",
        " ['Iris-setosa']\n",
        " ['Iris-setosa']\n",
        " ['Iris-setosa']\n",
        " ['Iris-setosa']\n",
        " ['Iris-setosa']\n",
        " ['Iris-setosa']\n",
        " ['Iris-setosa']\n",
        " ['Iris-setosa']\n",
        " ['Iris-setosa']\n",
        " ['Iris-setosa']\n",
        " ['Iris-setosa']\n",
        " ['Iris-setosa']\n",
        " ['Iris-setosa']\n",
        " ['Iris-setosa']\n",
        " ['Iris-setosa']\n",
        " ['Iris-setosa']\n",
        " ['Iris-setosa']\n",
        " ['Iris-setosa']\n",
        " ['Iris-setosa']\n",
        " ['Iris-setosa']\n",
        " ['Iris-setosa']\n",
        " ['Iris-setosa']\n",
        " ['Iris-setosa']\n",
        " ['Iris-setosa']\n",
        " ['Iris-setosa']\n",
        " ['Iris-setosa']\n",
        " ['Iris-setosa']\n",
        " ['Iris-setosa']\n",
        " ['Iris-setosa']\n",
        " ['Iris-setosa']\n",
        " ['Iris-setosa']\n",
        " ['Iris-setosa']\n",
        " ['Iris-setosa']\n",
        " ['Iris-setosa']\n",
        " ['Iris-setosa']\n",
        " ['Iris-setosa']\n",
        " ['Iris-setosa']\n",
        " ['Iris-setosa']\n",
        " ['Iris-setosa']\n",
        " ['Iris-setosa']\n",
        " ['Iris-setosa']\n",
        " ['Iris-setosa']\n",
        " ['Iris-versicolor']\n",
        " ['Iris-versicolor']\n",
        " ['Iris-versicolor']\n",
        " ['Iris-versicolor']\n",
        " ['Iris-versicolor']\n",
        " ['Iris-versicolor']\n",
        " ['Iris-versicolor']\n",
        " ['Iris-versicolor']\n",
        " ['Iris-versicolor']\n",
        " ['Iris-versicolor']\n",
        " ['Iris-versicolor']\n",
        " ['Iris-versicolor']\n",
        " ['Iris-versicolor']\n",
        " ['Iris-versicolor']\n",
        " ['Iris-versicolor']\n",
        " ['Iris-versicolor']\n",
        " ['Iris-versicolor']\n",
        " ['Iris-versicolor']\n",
        " ['Iris-versicolor']\n",
        " ['Iris-versicolor']\n",
        " ['Iris-versicolor']\n",
        " ['Iris-versicolor']\n",
        " ['Iris-versicolor']\n",
        " ['Iris-versicolor']\n",
        " ['Iris-versicolor']\n",
        " ['Iris-versicolor']\n",
        " ['Iris-versicolor']\n",
        " ['Iris-versicolor']\n",
        " ['Iris-versicolor']\n",
        " ['Iris-versicolor']\n",
        " ['Iris-versicolor']\n",
        " ['Iris-versicolor']\n",
        " ['Iris-versicolor']\n",
        " ['Iris-versicolor']\n",
        " ['Iris-versicolor']\n",
        " ['Iris-versicolor']\n",
        " ['Iris-versicolor']\n",
        " ['Iris-versicolor']\n",
        " ['Iris-versicolor']\n",
        " ['Iris-versicolor']\n",
        " ['Iris-versicolor']\n",
        " ['Iris-versicolor']\n",
        " ['Iris-versicolor']\n",
        " ['Iris-versicolor']\n",
        " ['Iris-versicolor']\n",
        " ['Iris-versicolor']\n",
        " ['Iris-versicolor']\n",
        " ['Iris-versicolor']\n",
        " ['Iris-versicolor']\n",
        " ['Iris-versicolor']\n",
        " ['Iris-virginica']\n",
        " ['Iris-virginica']\n",
        " ['Iris-virginica']\n",
        " ['Iris-virginica']\n",
        " ['Iris-virginica']\n",
        " ['Iris-virginica']\n",
        " ['Iris-virginica']\n",
        " ['Iris-virginica']\n",
        " ['Iris-virginica']\n",
        " ['Iris-virginica']\n",
        " ['Iris-virginica']\n",
        " ['Iris-virginica']\n",
        " ['Iris-virginica']\n",
        " ['Iris-virginica']\n",
        " ['Iris-virginica']\n",
        " ['Iris-virginica']\n",
        " ['Iris-virginica']\n",
        " ['Iris-virginica']\n",
        " ['Iris-virginica']\n",
        " ['Iris-virginica']\n",
        " ['Iris-virginica']\n",
        " ['Iris-virginica']\n",
        " ['Iris-virginica']\n",
        " ['Iris-virginica']\n",
        " ['Iris-virginica']\n",
        " ['Iris-virginica']\n",
        " ['Iris-virginica']\n",
        " ['Iris-virginica']\n",
        " ['Iris-virginica']\n",
        " ['Iris-virginica']\n",
        " ['Iris-virginica']\n",
        " ['Iris-virginica']\n",
        " ['Iris-virginica']\n",
        " ['Iris-virginica']\n",
        " ['Iris-virginica']\n",
        " ['Iris-virginica']\n",
        " ['Iris-virginica']\n",
        " ['Iris-virginica']\n",
        " ['Iris-virginica']\n",
        " ['Iris-virginica']\n",
        " ['Iris-virginica']\n",
        " ['Iris-virginica']\n",
        " ['Iris-virginica']\n",
        " ['Iris-virginica']\n",
        " ['Iris-virginica']\n",
        " ['Iris-virginica']\n",
        " ['Iris-virginica']\n",
        " ['Iris-virginica']\n",
        " ['Iris-virginica']\n",
        " ['Iris-virginica']]\n"
       ]
      }
     ],
     "prompt_number": 19
    },
    {
     "cell_type": "code",
     "collapsed": false,
     "input": [
      "target = []\n",
      "\n",
      "for item in names2:\n",
      "    if item == ['Iris-virginica']:\n",
      "        target.append('2')\n",
      "    elif item ==['Iris-versicolor']:\n",
      "        target.append('1')\n",
      "    elif item == ['Iris-setosa']:\n",
      "        target.append('0')"
     ],
     "language": "python",
     "metadata": {},
     "outputs": [],
     "prompt_number": 20
    },
    {
     "cell_type": "code",
     "collapsed": false,
     "input": [
      "print target"
     ],
     "language": "python",
     "metadata": {},
     "outputs": [
      {
       "output_type": "stream",
       "stream": "stdout",
       "text": [
        "['0', '0', '0', '0', '0', '0', '0', '0', '0', '0', '0', '0', '0', '0', '0', '0', '0', '0', '0', '0', '0', '0', '0', '0', '0', '0', '0', '0', '0', '0', '0', '0', '0', '0', '0', '0', '0', '0', '0', '0', '0', '0', '0', '0', '0', '0', '0', '0', '0', '0', '1', '1', '1', '1', '1', '1', '1', '1', '1', '1', '1', '1', '1', '1', '1', '1', '1', '1', '1', '1', '1', '1', '1', '1', '1', '1', '1', '1', '1', '1', '1', '1', '1', '1', '1', '1', '1', '1', '1', '1', '1', '1', '1', '1', '1', '1', '1', '1', '1', '1', '2', '2', '2', '2', '2', '2', '2', '2', '2', '2', '2', '2', '2', '2', '2', '2', '2', '2', '2', '2', '2', '2', '2', '2', '2', '2', '2', '2', '2', '2', '2', '2', '2', '2', '2', '2', '2', '2', '2', '2', '2', '2', '2', '2', '2', '2', '2', '2', '2', '2']\n"
       ]
      }
     ],
     "prompt_number": 21
    },
    {
     "cell_type": "code",
     "collapsed": false,
     "input": [
      "import numpy as np\n",
      "target2 = np.asarray(target)"
     ],
     "language": "python",
     "metadata": {},
     "outputs": [],
     "prompt_number": 22
    },
    {
     "cell_type": "code",
     "collapsed": false,
     "input": [
      "print target2"
     ],
     "language": "python",
     "metadata": {},
     "outputs": [
      {
       "output_type": "stream",
       "stream": "stdout",
       "text": [
        "['0' '0' '0' '0' '0' '0' '0' '0' '0' '0' '0' '0' '0' '0' '0' '0' '0' '0'\n",
        " '0' '0' '0' '0' '0' '0' '0' '0' '0' '0' '0' '0' '0' '0' '0' '0' '0' '0'\n",
        " '0' '0' '0' '0' '0' '0' '0' '0' '0' '0' '0' '0' '0' '0' '1' '1' '1' '1'\n",
        " '1' '1' '1' '1' '1' '1' '1' '1' '1' '1' '1' '1' '1' '1' '1' '1' '1' '1'\n",
        " '1' '1' '1' '1' '1' '1' '1' '1' '1' '1' '1' '1' '1' '1' '1' '1' '1' '1'\n",
        " '1' '1' '1' '1' '1' '1' '1' '1' '1' '1' '2' '2' '2' '2' '2' '2' '2' '2'\n",
        " '2' '2' '2' '2' '2' '2' '2' '2' '2' '2' '2' '2' '2' '2' '2' '2' '2' '2'\n",
        " '2' '2' '2' '2' '2' '2' '2' '2' '2' '2' '2' '2' '2' '2' '2' '2' '2' '2'\n",
        " '2' '2' '2' '2' '2' '2']\n"
       ]
      }
     ],
     "prompt_number": 23
    },
    {
     "cell_type": "code",
     "collapsed": false,
     "input": [
      "target_names = ['setosa', 'versicolor', 'virginica']"
     ],
     "language": "python",
     "metadata": {},
     "outputs": [],
     "prompt_number": 25
    },
    {
     "cell_type": "code",
     "collapsed": false,
     "input": [
      "## Now we have data, target, and target name arrays created and ready to apply in KNN.\n",
      "## Rename the data:\n",
      "\n",
      "X = data2\n",
      "y = target2\n",
      "Names = target_names"
     ],
     "language": "python",
     "metadata": {},
     "outputs": [],
     "prompt_number": 26
    },
    {
     "cell_type": "code",
     "collapsed": false,
     "input": [
      "## Splitting dat into train and testing chunks (like we did in class).\n",
      "\n",
      "from sklearn.cross_validation import train_test_split"
     ],
     "language": "python",
     "metadata": {},
     "outputs": [],
     "prompt_number": 27
    },
    {
     "cell_type": "code",
     "collapsed": false,
     "input": [
      "X_train, X_test, y_train, y_test = train_test_split(X, y, test_size=0.20, random_state=0)"
     ],
     "language": "python",
     "metadata": {},
     "outputs": [],
     "prompt_number": 43
    },
    {
     "cell_type": "code",
     "collapsed": false,
     "input": [
      "from sklearn.neighbors import KNeighborsClassifier\n",
      "\n",
      "myknn = KNeighborsClassifier(5).fit(X_train,y_train)"
     ],
     "language": "python",
     "metadata": {},
     "outputs": [],
     "prompt_number": 44
    },
    {
     "cell_type": "code",
     "collapsed": false,
     "input": [
      "## Test the KNN\n",
      "\n",
      "myknn.predict(['5.9', '3.0', '5.1', '1.8'])"
     ],
     "language": "python",
     "metadata": {},
     "outputs": [
      {
       "metadata": {},
       "output_type": "pyout",
       "prompt_number": 45,
       "text": [
        "array(['2'], \n",
        "      dtype='|S1')"
       ]
      }
     ],
     "prompt_number": 45
    },
    {
     "cell_type": "code",
     "collapsed": false,
     "input": [
      "## Implementing cross-validation\n",
      "\n",
      "from sklearn.neighbors import KNeighborsClassifier\n",
      "from sklearn.cross_validation import KFold\n",
      "from sklearn import cross_validation\n",
      "\n",
      "\n",
      "# generic cross validation function\n",
      "def cross_validate(X, y, classifier, k_fold):\n",
      "\n",
      "    # derive a set of (random) training and testing indices\n",
      "    k_fold_indices = cross_validation.KFold(len(y), n_folds=k_fold,\n",
      "                           indices=True, shuffle=True,\n",
      "                           random_state=0)\n",
      "\n",
      "    k_score_total = 0\n",
      "    # for each training and testing slices run the classifier, and score the results\n",
      "    for train_slice, test_slice in k_fold_indices :\n",
      "\n",
      "        model = classifier(X_train, y_train)\n",
      "\n",
      "        k_score = model.score(X_test, y_test)\n",
      "\n",
      "        k_score_total += k_score\n",
      "\n",
      "    # return the average accuracy\n",
      "    return k_score_total/k_fold"
     ],
     "language": "python",
     "metadata": {},
     "outputs": [],
     "prompt_number": 55
    },
    {
     "cell_type": "code",
     "collapsed": false,
     "input": [
      "cross_validate(X, y, KNeighborsClassifier(5).fit, 5)"
     ],
     "language": "python",
     "metadata": {},
     "outputs": [
      {
       "metadata": {},
       "output_type": "pyout",
       "prompt_number": 58,
       "text": [
        "0.96666666666666656"
       ]
      }
     ],
     "prompt_number": 58
    },
    {
     "cell_type": "code",
     "collapsed": false,
     "input": [
      "##Plotting accuracu vs. number of neighbors\n",
      "\n",
      "import pandas as pd\n",
      "import pylab as pl\n",
      "import numpy as np\n",
      "from sklearn.neighbors import KNeighborsClassifier\n",
      "\n",
      "results = []\n",
      "\n",
      "for n in range(1, 151, 1):\n",
      "    cv_score = cross_validate(X, y, KNeighborsClassifier(n).fit, 5)\n",
      "    print \"Neighbors: %d, Cross Validation Score: %3f\" % (n, cv_score)\n",
      " \n",
      "    results.append([n, cv_score])"
     ],
     "language": "python",
     "metadata": {},
     "outputs": [
      {
       "output_type": "stream",
       "stream": "stdout",
       "text": [
        "Neighbors: 1, Cross Validation Score: 1.000000\n",
        "Neighbors: 2, Cross Validation Score: 0.966667\n",
        "Neighbors: 3, Cross Validation Score: 0.966667\n",
        "Neighbors: 4, Cross Validation Score: 1.000000\n",
        "Neighbors: 5, Cross Validation Score: 0.966667\n",
        "Neighbors: 6, Cross Validation Score: 1.000000\n",
        "Neighbors: 7, Cross Validation Score: 1.000000"
       ]
      },
      {
       "output_type": "stream",
       "stream": "stdout",
       "text": [
        "\n",
        "Neighbors: 8, Cross Validation Score: 1.000000\n",
        "Neighbors: 9, Cross Validation Score: 1.000000\n",
        "Neighbors: 10, Cross Validation Score: 1.000000\n",
        "Neighbors: 11, Cross Validation Score: 1.000000\n",
        "Neighbors: 12, Cross Validation Score: 1.000000"
       ]
      },
      {
       "output_type": "stream",
       "stream": "stdout",
       "text": [
        "\n",
        "Neighbors: 13, Cross Validation Score: 1.000000\n",
        "Neighbors: 14, Cross Validation Score: 1.000000\n",
        "Neighbors: 15, Cross Validation Score: 1.000000\n",
        "Neighbors: 16, Cross Validation Score: 1.000000\n",
        "Neighbors: 17, Cross Validation Score: 1.000000"
       ]
      },
      {
       "output_type": "stream",
       "stream": "stdout",
       "text": [
        "\n",
        "Neighbors: 18, Cross Validation Score: 1.000000\n",
        "Neighbors: 19, Cross Validation Score: 1.000000\n",
        "Neighbors: 20, Cross Validation Score: 1.000000\n",
        "Neighbors: 21, Cross Validation Score: 1.000000\n",
        "Neighbors: 22, Cross Validation Score: 1.000000\n",
        "Neighbors: 23, Cross Validation Score: 1.000000"
       ]
      },
      {
       "output_type": "stream",
       "stream": "stdout",
       "text": [
        "\n",
        "Neighbors: 24, Cross Validation Score: 1.000000\n",
        "Neighbors: 25, Cross Validation Score: 1.000000\n",
        "Neighbors: 26, Cross Validation Score: 0.966667\n",
        "Neighbors: 27, Cross Validation Score: 0.933333\n",
        "Neighbors: 28, Cross Validation Score: 0.966667"
       ]
      },
      {
       "output_type": "stream",
       "stream": "stdout",
       "text": [
        "\n",
        "Neighbors: 29, Cross Validation Score: 0.966667\n",
        "Neighbors: 30, Cross Validation Score: 0.966667\n",
        "Neighbors: 31, Cross Validation Score: 0.933333\n",
        "Neighbors: 32, Cross Validation Score: 0.900000\n",
        "Neighbors: 33, Cross Validation Score: 0.933333"
       ]
      },
      {
       "output_type": "stream",
       "stream": "stdout",
       "text": [
        "\n",
        "Neighbors: 34, Cross Validation Score: 0.966667\n",
        "Neighbors: 35, Cross Validation Score: 0.933333\n",
        "Neighbors: 36, Cross Validation Score: 0.933333\n",
        "Neighbors: 37, Cross Validation Score: 0.933333\n",
        "Neighbors: 38, Cross Validation Score: 0.933333\n",
        "Neighbors: 39, Cross Validation Score: 0.933333"
       ]
      },
      {
       "output_type": "stream",
       "stream": "stdout",
       "text": [
        "\n",
        "Neighbors: 40, Cross Validation Score: 0.933333\n",
        "Neighbors: 41, Cross Validation Score: 0.933333\n",
        "Neighbors: 42, Cross Validation Score: 0.933333\n",
        "Neighbors: 43, Cross Validation Score: 0.933333\n",
        "Neighbors: 44, Cross Validation Score: 0.933333\n",
        "Neighbors: 45, Cross Validation Score: 0.933333"
       ]
      },
      {
       "output_type": "stream",
       "stream": "stdout",
       "text": [
        "\n",
        "Neighbors: 46, Cross Validation Score: 0.900000\n",
        "Neighbors: 47, Cross Validation Score: 0.900000\n",
        "Neighbors: 48, Cross Validation Score: 0.866667\n",
        "Neighbors: 49, Cross Validation Score: 0.900000\n",
        "Neighbors: 50, Cross Validation Score: 0.866667\n",
        "Neighbors: 51, Cross Validation Score: 0.900000"
       ]
      },
      {
       "output_type": "stream",
       "stream": "stdout",
       "text": [
        "\n",
        "Neighbors: 52, Cross Validation Score: 0.900000\n",
        "Neighbors: 53, Cross Validation Score: 0.900000\n",
        "Neighbors: 54, Cross Validation Score: 0.900000\n",
        "Neighbors: 55, Cross Validation Score: 0.900000\n",
        "Neighbors: 56, Cross Validation Score: 0.900000"
       ]
      },
      {
       "output_type": "stream",
       "stream": "stdout",
       "text": [
        "\n",
        "Neighbors: 57, Cross Validation Score: 0.900000\n",
        "Neighbors: 58, Cross Validation Score: 0.900000\n",
        "Neighbors: 59, Cross Validation Score: 0.933333\n",
        "Neighbors: 60, Cross Validation Score: 0.900000\n",
        "Neighbors: 61, Cross Validation Score: 0.900000"
       ]
      },
      {
       "output_type": "stream",
       "stream": "stdout",
       "text": [
        "\n",
        "Neighbors: 62, Cross Validation Score: 0.900000\n",
        "Neighbors: 63, Cross Validation Score: 0.900000\n",
        "Neighbors: 64, Cross Validation Score: 0.900000\n",
        "Neighbors: 65, Cross Validation Score: 0.900000\n",
        "Neighbors: 66, Cross Validation Score: 0.900000\n",
        "Neighbors: 67, Cross Validation Score: 0.900000"
       ]
      },
      {
       "output_type": "stream",
       "stream": "stdout",
       "text": [
        "\n",
        "Neighbors: 68, Cross Validation Score: 0.900000\n",
        "Neighbors: 69, Cross Validation Score: 0.800000\n",
        "Neighbors: 70, Cross Validation Score: 0.800000\n",
        "Neighbors: 71, Cross Validation Score: 0.800000\n",
        "Neighbors: 72, Cross Validation Score: 0.833333"
       ]
      },
      {
       "output_type": "stream",
       "stream": "stdout",
       "text": [
        "\n",
        "Neighbors: 73, Cross Validation Score: 0.833333\n",
        "Neighbors: 74, Cross Validation Score: 0.833333\n",
        "Neighbors: 75, Cross Validation Score: 0.700000\n",
        "Neighbors: 76, Cross Validation Score: 0.666667\n",
        "Neighbors: 77, Cross Validation Score: 0.666667"
       ]
      },
      {
       "output_type": "stream",
       "stream": "stdout",
       "text": [
        "\n",
        "Neighbors: 78, Cross Validation Score: 0.633333\n",
        "Neighbors: 79, Cross Validation Score: 0.600000\n",
        "Neighbors: 80, Cross Validation Score: 0.600000\n",
        "Neighbors: 81, Cross Validation Score: 0.600000\n",
        "Neighbors: 82, Cross Validation Score: 0.600000"
       ]
      },
      {
       "output_type": "stream",
       "stream": "stdout",
       "text": [
        "\n",
        "Neighbors: 83, Cross Validation Score: 0.600000\n",
        "Neighbors: 84, Cross Validation Score: 0.600000\n",
        "Neighbors: 85, Cross Validation Score: 0.633333\n",
        "Neighbors: 86, Cross Validation Score: 0.633333\n",
        "Neighbors: 87, Cross Validation Score: 0.600000"
       ]
      },
      {
       "output_type": "stream",
       "stream": "stdout",
       "text": [
        "\n",
        "Neighbors: 88, Cross Validation Score: 0.600000\n",
        "Neighbors: 89, Cross Validation Score: 0.600000\n",
        "Neighbors: 90, Cross Validation Score: 0.600000\n",
        "Neighbors: 91, Cross Validation Score: 0.600000\n",
        "Neighbors: 92, Cross Validation Score: 0.600000\n",
        "Neighbors: 93, Cross Validation Score: 0.566667"
       ]
      },
      {
       "output_type": "stream",
       "stream": "stdout",
       "text": [
        "\n",
        "Neighbors: 94, Cross Validation Score: 0.566667\n",
        "Neighbors: 95, Cross Validation Score: 0.566667\n",
        "Neighbors: 96, Cross Validation Score: 0.566667\n",
        "Neighbors: 97, Cross Validation Score: 0.566667\n",
        "Neighbors: 98, Cross Validation Score: 0.566667\n",
        "Neighbors: 99, Cross Validation Score: 0.566667"
       ]
      },
      {
       "output_type": "stream",
       "stream": "stdout",
       "text": [
        "\n",
        "Neighbors: 100, Cross Validation Score: 0.566667\n",
        "Neighbors: 101, Cross Validation Score: 0.566667\n",
        "Neighbors: 102, Cross Validation Score: 0.566667\n",
        "Neighbors: 103, Cross Validation Score: 0.566667\n",
        "Neighbors: 104, Cross Validation Score: 0.566667\n",
        "Neighbors: 105, Cross Validation Score: 0.566667"
       ]
      },
      {
       "output_type": "stream",
       "stream": "stdout",
       "text": [
        "\n",
        "Neighbors: 106, Cross Validation Score: 0.566667\n",
        "Neighbors: 107, Cross Validation Score: 0.566667\n",
        "Neighbors: 108, Cross Validation Score: 0.566667\n",
        "Neighbors: 109, Cross Validation Score: 0.566667\n",
        "Neighbors: 110, Cross Validation Score: 0.566667"
       ]
      },
      {
       "output_type": "stream",
       "stream": "stdout",
       "text": [
        "\n",
        "Neighbors: 111, Cross Validation Score: 0.566667\n",
        "Neighbors: 112, Cross Validation Score: 0.566667\n",
        "Neighbors: 113, Cross Validation Score: 0.566667\n",
        "Neighbors: 114, Cross Validation Score: 0.566667\n",
        "Neighbors: 115, Cross Validation Score: 0.566667"
       ]
      },
      {
       "output_type": "stream",
       "stream": "stdout",
       "text": [
        "\n",
        "Neighbors: 116, Cross Validation Score: 0.200000\n",
        "Neighbors: 117, Cross Validation Score: 0.200000\n",
        "Neighbors: 118, Cross Validation Score: 0.200000\n",
        "Neighbors: 119, Cross Validation Score: 0.200000\n",
        "Neighbors: 120, Cross Validation Score: 0.200000"
       ]
      },
      {
       "output_type": "stream",
       "stream": "stdout",
       "text": [
        "\n",
        "Neighbors: 121, Cross Validation Score: 0.200000\n",
        "Neighbors: 122, Cross Validation Score: 0.200000\n",
        "Neighbors: 123, Cross Validation Score: 0.200000\n",
        "Neighbors: 124, Cross Validation Score: 0.200000\n",
        "Neighbors: 125, Cross Validation Score: 0.200000"
       ]
      },
      {
       "output_type": "stream",
       "stream": "stdout",
       "text": [
        "\n",
        "Neighbors: 126, Cross Validation Score: 0.200000\n",
        "Neighbors: 127, Cross Validation Score: 0.200000\n",
        "Neighbors: 128, Cross Validation Score: 0.200000\n",
        "Neighbors: 129, Cross Validation Score: 0.200000"
       ]
      },
      {
       "output_type": "stream",
       "stream": "stdout",
       "text": [
        "\n",
        "Neighbors: 130, Cross Validation Score: 0.200000\n",
        "Neighbors: 131, Cross Validation Score: 0.200000\n",
        "Neighbors: 132, Cross Validation Score: 0.200000\n",
        "Neighbors: 133, Cross Validation Score: 0.200000\n",
        "Neighbors: 134, Cross Validation Score: 0.200000"
       ]
      },
      {
       "output_type": "stream",
       "stream": "stdout",
       "text": [
        "\n",
        "Neighbors: 135, Cross Validation Score: 0.200000\n",
        "Neighbors: 136, Cross Validation Score: 0.200000\n",
        "Neighbors: 137, Cross Validation Score: 0.200000\n",
        "Neighbors: 138, Cross Validation Score: 0.200000"
       ]
      },
      {
       "output_type": "stream",
       "stream": "stdout",
       "text": [
        "\n",
        "Neighbors: 139, Cross Validation Score: 0.200000\n",
        "Neighbors: 140, Cross Validation Score: 0.200000\n",
        "Neighbors: 141, Cross Validation Score: 0.200000\n",
        "Neighbors: 142, Cross Validation Score: 0.200000"
       ]
      },
      {
       "output_type": "stream",
       "stream": "stdout",
       "text": [
        "\n",
        "Neighbors: 143, Cross Validation Score: 0.200000\n",
        "Neighbors: 144, Cross Validation Score: 0.200000\n",
        "Neighbors: 145, Cross Validation Score: 0.200000\n",
        "Neighbors: 146, Cross Validation Score: 0.200000"
       ]
      },
      {
       "output_type": "stream",
       "stream": "stdout",
       "text": [
        "\n",
        "Neighbors: 147, Cross Validation Score: 0.200000\n",
        "Neighbors: 148, Cross Validation Score: 0.200000\n",
        "Neighbors: 149, Cross Validation Score: 0.200000\n",
        "Neighbors: 150, Cross Validation Score: 0.200000"
       ]
      },
      {
       "output_type": "stream",
       "stream": "stdout",
       "text": [
        "\n"
       ]
      }
     ],
     "prompt_number": 60
    },
    {
     "cell_type": "code",
     "collapsed": false,
     "input": [
      "results = pd.DataFrame(results, columns=[\"n\", \"cv_score\"])\n",
      " \n",
      "pl.plot(results.n, results.cv_score)\n",
      "pl.title(\"Accuracy with Increasing K\")\n",
      "pl.show()"
     ],
     "language": "python",
     "metadata": {},
     "outputs": []
    },
    {
     "cell_type": "code",
     "collapsed": false,
     "input": [],
     "language": "python",
     "metadata": {},
     "outputs": []
    }
   ],
   "metadata": {}
  }
 ]
}