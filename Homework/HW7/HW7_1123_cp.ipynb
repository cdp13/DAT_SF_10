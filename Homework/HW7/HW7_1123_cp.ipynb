{
 "metadata": {
  "name": "",
  "signature": "sha256:8ff29fb1888a8df11137c8821cefcda2fb8da290139ad94d9cf0d201b37ef609"
 },
 "nbformat": 3,
 "nbformat_minor": 0,
 "worksheets": [
  {
   "cells": [
    {
     "cell_type": "code",
     "collapsed": false,
     "input": [
      "import pandas as pd\n",
      "import numpy as np"
     ],
     "language": "python",
     "metadata": {},
     "outputs": [],
     "prompt_number": 1
    },
    {
     "cell_type": "code",
     "collapsed": false,
     "input": [
      "data = pd.read_csv('wine.csv', sep=';', index_col=False, header=None, names=['cultivar', 'alcohol', 'malic', 'ash', 'alcalinity', 'magnesium','tot_phenols', 'flavanoids', 'nonflav_phen', 'proanthro',\n",
      "                            'color', 'hue', 'OD280', 'proline'])\n",
      "\n",
      "data.info()"
     ],
     "language": "python",
     "metadata": {},
     "outputs": [
      {
       "output_type": "stream",
       "stream": "stdout",
       "text": [
        "<class 'pandas.core.frame.DataFrame'>\n",
        "Int64Index: 178 entries, 0 to 177\n",
        "Data columns (total 14 columns):\n",
        "cultivar        178 non-null int64\n",
        "alcohol         178 non-null float64\n",
        "malic           178 non-null float64\n",
        "ash             178 non-null float64\n",
        "alcalinity      178 non-null float64\n",
        "magnesium       178 non-null int64\n",
        "tot_phenols     178 non-null float64\n",
        "flavanoids      178 non-null float64\n",
        "nonflav_phen    178 non-null float64\n",
        "proanthro       178 non-null float64\n",
        "color           178 non-null float64\n",
        "hue             178 non-null float64\n",
        "OD280           178 non-null float64\n",
        "proline         178 non-null int64\n",
        "dtypes: float64(11), int64(3)"
       ]
      }
     ],
     "prompt_number": 2
    },
    {
     "cell_type": "code",
     "collapsed": false,
     "input": [
      "data.head()"
     ],
     "language": "python",
     "metadata": {},
     "outputs": [
      {
       "html": [
        "<div style=\"max-height:1000px;max-width:1500px;overflow:auto;\">\n",
        "<table border=\"1\" class=\"dataframe\">\n",
        "  <thead>\n",
        "    <tr style=\"text-align: right;\">\n",
        "      <th></th>\n",
        "      <th>cultivar</th>\n",
        "      <th>alcohol</th>\n",
        "      <th>malic</th>\n",
        "      <th>ash</th>\n",
        "      <th>alcalinity</th>\n",
        "      <th>magnesium</th>\n",
        "      <th>tot_phenols</th>\n",
        "      <th>flavanoids</th>\n",
        "      <th>nonflav_phen</th>\n",
        "      <th>proanthro</th>\n",
        "      <th>color</th>\n",
        "      <th>hue</th>\n",
        "      <th>OD280</th>\n",
        "      <th>proline</th>\n",
        "    </tr>\n",
        "  </thead>\n",
        "  <tbody>\n",
        "    <tr>\n",
        "      <th>0</th>\n",
        "      <td> 1</td>\n",
        "      <td> 14.23</td>\n",
        "      <td> 1.71</td>\n",
        "      <td> 2.43</td>\n",
        "      <td> 15.6</td>\n",
        "      <td> 127</td>\n",
        "      <td> 2.80</td>\n",
        "      <td> 3.06</td>\n",
        "      <td> 0.28</td>\n",
        "      <td> 2.29</td>\n",
        "      <td> 5.64</td>\n",
        "      <td> 1.04</td>\n",
        "      <td> 3.92</td>\n",
        "      <td> 1065</td>\n",
        "    </tr>\n",
        "    <tr>\n",
        "      <th>1</th>\n",
        "      <td> 1</td>\n",
        "      <td> 13.20</td>\n",
        "      <td> 1.78</td>\n",
        "      <td> 2.14</td>\n",
        "      <td> 11.2</td>\n",
        "      <td> 100</td>\n",
        "      <td> 2.65</td>\n",
        "      <td> 2.76</td>\n",
        "      <td> 0.26</td>\n",
        "      <td> 1.28</td>\n",
        "      <td> 4.38</td>\n",
        "      <td> 1.05</td>\n",
        "      <td> 3.40</td>\n",
        "      <td> 1050</td>\n",
        "    </tr>\n",
        "    <tr>\n",
        "      <th>2</th>\n",
        "      <td> 1</td>\n",
        "      <td> 13.16</td>\n",
        "      <td> 2.36</td>\n",
        "      <td> 2.67</td>\n",
        "      <td> 18.6</td>\n",
        "      <td> 101</td>\n",
        "      <td> 2.80</td>\n",
        "      <td> 3.24</td>\n",
        "      <td> 0.30</td>\n",
        "      <td> 2.81</td>\n",
        "      <td> 5.68</td>\n",
        "      <td> 1.03</td>\n",
        "      <td> 3.17</td>\n",
        "      <td> 1185</td>\n",
        "    </tr>\n",
        "    <tr>\n",
        "      <th>3</th>\n",
        "      <td> 1</td>\n",
        "      <td> 14.37</td>\n",
        "      <td> 1.95</td>\n",
        "      <td> 2.50</td>\n",
        "      <td> 16.8</td>\n",
        "      <td> 113</td>\n",
        "      <td> 3.85</td>\n",
        "      <td> 3.49</td>\n",
        "      <td> 0.24</td>\n",
        "      <td> 2.18</td>\n",
        "      <td> 7.80</td>\n",
        "      <td> 0.86</td>\n",
        "      <td> 3.45</td>\n",
        "      <td> 1480</td>\n",
        "    </tr>\n",
        "    <tr>\n",
        "      <th>4</th>\n",
        "      <td> 1</td>\n",
        "      <td> 13.24</td>\n",
        "      <td> 2.59</td>\n",
        "      <td> 2.87</td>\n",
        "      <td> 21.0</td>\n",
        "      <td> 118</td>\n",
        "      <td> 2.80</td>\n",
        "      <td> 2.69</td>\n",
        "      <td> 0.39</td>\n",
        "      <td> 1.82</td>\n",
        "      <td> 4.32</td>\n",
        "      <td> 1.04</td>\n",
        "      <td> 2.93</td>\n",
        "      <td>  735</td>\n",
        "    </tr>\n",
        "  </tbody>\n",
        "</table>\n",
        "</div>"
       ],
       "metadata": {},
       "output_type": "pyout",
       "prompt_number": 3,
       "text": [
        "   cultivar  alcohol  malic   ash  alcalinity  magnesium  tot_phenols  \\\n",
        "0         1    14.23   1.71  2.43        15.6        127         2.80   \n",
        "1         1    13.20   1.78  2.14        11.2        100         2.65   \n",
        "2         1    13.16   2.36  2.67        18.6        101         2.80   \n",
        "3         1    14.37   1.95  2.50        16.8        113         3.85   \n",
        "4         1    13.24   2.59  2.87        21.0        118         2.80   \n",
        "\n",
        "   flavanoids  nonflav_phen  proanthro  color   hue  OD280  proline  \n",
        "0        3.06          0.28       2.29   5.64  1.04   3.92     1065  \n",
        "1        2.76          0.26       1.28   4.38  1.05   3.40     1050  \n",
        "2        3.24          0.30       2.81   5.68  1.03   3.17     1185  \n",
        "3        3.49          0.24       2.18   7.80  0.86   3.45     1480  \n",
        "4        2.69          0.39       1.82   4.32  1.04   2.93      735  "
       ]
      }
     ],
     "prompt_number": 3
    },
    {
     "cell_type": "heading",
     "level": 4,
     "metadata": {},
     "source": [
      "Question 1: Implement Multi-Class SVM"
     ]
    },
    {
     "cell_type": "code",
     "collapsed": false,
     "input": [
      "from sklearn import svm"
     ],
     "language": "python",
     "metadata": {},
     "outputs": [],
     "prompt_number": 4
    },
    {
     "cell_type": "code",
     "collapsed": false,
     "input": [
      "X = data.copy(deep=True)"
     ],
     "language": "python",
     "metadata": {},
     "outputs": [],
     "prompt_number": 5
    },
    {
     "cell_type": "code",
     "collapsed": false,
     "input": [
      "X = X.drop('cultivar', axis=1)"
     ],
     "language": "python",
     "metadata": {},
     "outputs": [],
     "prompt_number": 6
    },
    {
     "cell_type": "code",
     "collapsed": false,
     "input": [
      "y = data['cultivar']"
     ],
     "language": "python",
     "metadata": {},
     "outputs": [],
     "prompt_number": 7
    },
    {
     "cell_type": "code",
     "collapsed": false,
     "input": [
      "lin_clf = svm.LinearSVC()"
     ],
     "language": "python",
     "metadata": {},
     "outputs": [],
     "prompt_number": 8
    },
    {
     "cell_type": "code",
     "collapsed": false,
     "input": [
      "lin_clf.fit(X, y)"
     ],
     "language": "python",
     "metadata": {},
     "outputs": [
      {
       "metadata": {},
       "output_type": "pyout",
       "prompt_number": 9,
       "text": [
        "LinearSVC(C=1.0, class_weight=None, dual=True, fit_intercept=True,\n",
        "     intercept_scaling=1, loss='l2', multi_class='ovr', penalty='l2',\n",
        "     random_state=None, tol=0.0001, verbose=0)"
       ]
      }
     ],
     "prompt_number": 9
    },
    {
     "cell_type": "code",
     "collapsed": false,
     "input": [
      "lin_clf.get_params()"
     ],
     "language": "python",
     "metadata": {},
     "outputs": [
      {
       "metadata": {},
       "output_type": "pyout",
       "prompt_number": 10,
       "text": [
        "{'C': 1.0,\n",
        " 'class_weight': None,\n",
        " 'dual': True,\n",
        " 'fit_intercept': True,\n",
        " 'intercept_scaling': 1,\n",
        " 'loss': 'l2',\n",
        " 'multi_class': 'ovr',\n",
        " 'penalty': 'l2',\n",
        " 'random_state': None,\n",
        " 'tol': 0.0001,\n",
        " 'verbose': 0}"
       ]
      }
     ],
     "prompt_number": 10
    },
    {
     "cell_type": "heading",
     "level": 4,
     "metadata": {},
     "source": [
      "Question 2: Cross Validate the Result"
     ]
    },
    {
     "cell_type": "code",
     "collapsed": false,
     "input": [
      "from sklearn.cross_validation import KFold\n",
      "from sklearn import cross_validation\n",
      "\n",
      "# generic cross validation function\n",
      "def cross_validate(X, y, classifier, k_fold):\n",
      "\n",
      "    # derive a set of (random) training and testing indices\n",
      "    k_fold_indices = cross_validation.KFold(len(y), n_folds=k_fold,\n",
      "                           indices=True, shuffle=True,\n",
      "                           random_state=0)\n",
      "\n",
      "    k_score_total = 0\n",
      "    # for each training and testing slices run the classifier, and score the results\n",
      "    for train_slice, test_slice in k_fold_indices :\n",
      "\n",
      "        model = classifier(X_train, y_train)\n",
      "\n",
      "        k_score = model.score(X_test, y_test)\n",
      "\n",
      "        k_score_total += k_score\n",
      "\n",
      "    # return the average accuracy\n",
      "    return k_score_total/k_fold"
     ],
     "language": "python",
     "metadata": {},
     "outputs": [],
     "prompt_number": 15
    },
    {
     "cell_type": "code",
     "collapsed": false,
     "input": [
      "from sklearn.cross_validation import train_test_split\n",
      "\n",
      "X_train, X_test, y_train, y_test = train_test_split(X, y, test_size=0.2, random_state=0)"
     ],
     "language": "python",
     "metadata": {},
     "outputs": [],
     "prompt_number": 16
    },
    {
     "cell_type": "code",
     "collapsed": false,
     "input": [
      "cross_validate(X, y, lin_clf.fit, 10)"
     ],
     "language": "python",
     "metadata": {},
     "outputs": [
      {
       "metadata": {},
       "output_type": "pyout",
       "prompt_number": 20,
       "text": [
        "0.82500000000000018"
       ]
      }
     ],
     "prompt_number": 20
    },
    {
     "cell_type": "code",
     "collapsed": false,
     "input": [
      "scores = cross_validation.cross_val_score(lin_clf, X, y, cv=5)\n",
      "scores"
     ],
     "language": "python",
     "metadata": {},
     "outputs": [
      {
       "metadata": {},
       "output_type": "pyout",
       "prompt_number": 21,
       "text": [
        "array([ 0.86111111,  0.61111111,  0.83333333,  0.97142857,  0.68571429])"
       ]
      }
     ],
     "prompt_number": 21
    },
    {
     "cell_type": "code",
     "collapsed": false,
     "input": [
      "scores.mean()"
     ],
     "language": "python",
     "metadata": {},
     "outputs": [
      {
       "metadata": {},
       "output_type": "pyout",
       "prompt_number": 22,
       "text": [
        "0.79253968253968254"
       ]
      }
     ],
     "prompt_number": 22
    },
    {
     "cell_type": "heading",
     "level": 4,
     "metadata": {},
     "source": [
      "Quesstion 3: Pre-Process the Data with Normalization Step"
     ]
    },
    {
     "cell_type": "code",
     "collapsed": false,
     "input": [
      "from sklearn import preprocessing"
     ],
     "language": "python",
     "metadata": {},
     "outputs": [],
     "prompt_number": 23
    },
    {
     "cell_type": "code",
     "collapsed": false,
     "input": [
      "normalizer = preprocessing.Normalizer().fit(X)\n",
      "normalizer"
     ],
     "language": "python",
     "metadata": {},
     "outputs": [
      {
       "metadata": {},
       "output_type": "pyout",
       "prompt_number": 24,
       "text": [
        "Normalizer(copy=True, norm='l2')"
       ]
      }
     ],
     "prompt_number": 24
    },
    {
     "cell_type": "code",
     "collapsed": false,
     "input": [
      "X_norm = normalizer.transform(X)"
     ],
     "language": "python",
     "metadata": {},
     "outputs": [],
     "prompt_number": 25
    },
    {
     "cell_type": "heading",
     "level": 4,
     "metadata": {},
     "source": [
      "Question 4: Repeat Classification Performed in Question 1 Using Lnear SVM and Cross-Validate to compare scores"
     ]
    },
    {
     "cell_type": "code",
     "collapsed": false,
     "input": [
      "lin_clf.fit(X_norm, y)"
     ],
     "language": "python",
     "metadata": {},
     "outputs": [
      {
       "metadata": {},
       "output_type": "pyout",
       "prompt_number": 26,
       "text": [
        "LinearSVC(C=1.0, class_weight=None, dual=True, fit_intercept=True,\n",
        "     intercept_scaling=1, loss='l2', multi_class='ovr', penalty='l2',\n",
        "     random_state=None, tol=0.0001, verbose=0)"
       ]
      }
     ],
     "prompt_number": 26
    },
    {
     "cell_type": "code",
     "collapsed": false,
     "input": [
      "norm_scores = cross_validation.cross_val_score(lin_clf, X_norm, y, cv=5)\n",
      "norm_scores"
     ],
     "language": "python",
     "metadata": {},
     "outputs": [
      {
       "metadata": {},
       "output_type": "pyout",
       "prompt_number": 27,
       "text": [
        "array([ 0.63888889,  0.63888889,  0.66666667,  0.68571429,  0.51428571])"
       ]
      }
     ],
     "prompt_number": 27
    },
    {
     "cell_type": "code",
     "collapsed": false,
     "input": [
      "norm_scores.mean()"
     ],
     "language": "python",
     "metadata": {},
     "outputs": [
      {
       "metadata": {},
       "output_type": "pyout",
       "prompt_number": 28,
       "text": [
        "0.62888888888888883"
       ]
      }
     ],
     "prompt_number": 28
    },
    {
     "cell_type": "heading",
     "level": 4,
     "metadata": {},
     "source": [
      "Question 5: Implement Pipline that Comprises a Preprocessing Step and a Classification Step"
     ]
    },
    {
     "cell_type": "code",
     "collapsed": false,
     "input": [
      "from sklearn.pipeline import Pipeline"
     ],
     "language": "python",
     "metadata": {},
     "outputs": [],
     "prompt_number": 29
    },
    {
     "cell_type": "code",
     "collapsed": false,
     "input": [
      "pip_clf = Pipeline([('normalize', normalizer), ('classification', svm.SVC())])"
     ],
     "language": "python",
     "metadata": {},
     "outputs": [],
     "prompt_number": 30
    },
    {
     "cell_type": "code",
     "collapsed": false,
     "input": [
      "pip_clf.fit(X, y)"
     ],
     "language": "python",
     "metadata": {},
     "outputs": [
      {
       "metadata": {},
       "output_type": "pyout",
       "prompt_number": 31,
       "text": [
        "Pipeline(steps=[('normalize', Normalizer(copy=True, norm='l2')), ('classification', SVC(C=1.0, cache_size=200, class_weight=None, coef0=0.0, degree=3, gamma=0.0,\n",
        "  kernel='rbf', max_iter=-1, probability=False, random_state=None,\n",
        "  shrinking=True, tol=0.001, verbose=False))])"
       ]
      }
     ],
     "prompt_number": 31
    },
    {
     "cell_type": "code",
     "collapsed": false,
     "input": [
      "pip_clf.get_params()"
     ],
     "language": "python",
     "metadata": {},
     "outputs": [
      {
       "metadata": {},
       "output_type": "pyout",
       "prompt_number": 32,
       "text": [
        "{'classification': SVC(C=1.0, cache_size=200, class_weight=None, coef0=0.0, degree=3, gamma=0.0,\n",
        "   kernel='rbf', max_iter=-1, probability=False, random_state=None,\n",
        "   shrinking=True, tol=0.001, verbose=False),\n",
        " 'classification__C': 1.0,\n",
        " 'classification__cache_size': 200,\n",
        " 'classification__class_weight': None,\n",
        " 'classification__coef0': 0.0,\n",
        " 'classification__degree': 3,\n",
        " 'classification__gamma': 0.0,\n",
        " 'classification__kernel': 'rbf',\n",
        " 'classification__max_iter': -1,\n",
        " 'classification__probability': False,\n",
        " 'classification__random_state': None,\n",
        " 'classification__shrinking': True,\n",
        " 'classification__tol': 0.001,\n",
        " 'classification__verbose': False,\n",
        " 'normalize': Normalizer(copy=True, norm='l2'),\n",
        " 'normalize__copy': True,\n",
        " 'normalize__norm': 'l2'}"
       ]
      }
     ],
     "prompt_number": 32
    },
    {
     "cell_type": "heading",
     "level": 4,
     "metadata": {},
     "source": [
      "Question 6: Try Varying Value of C or type of Kernal"
     ]
    },
    {
     "cell_type": "code",
     "collapsed": false,
     "input": [
      "for k in ['linear', 'rbf', 'sigmoid']:\n",
      "    pip_clf = Pipeline([('normalize', normalizer), ('classification', svm.SVC(kernel=k))])\n",
      "    pip_clf.fit(X, y)\n",
      "    \n",
      "    scores = cross_validation.cross_val_score(pip_clf, X, y, cv=5)\n",
      "    mean = scores.mean() \n",
      "    \n",
      "    print k, ':', mean"
     ],
     "language": "python",
     "metadata": {},
     "outputs": [
      {
       "output_type": "stream",
       "stream": "stdout",
       "text": [
        "linear : 0.399047619048\n",
        "rbf : 0.399047619048\n",
        "sigmoid"
       ]
      },
      {
       "output_type": "stream",
       "stream": "stdout",
       "text": [
        " : 0.399047619048\n"
       ]
      }
     ],
     "prompt_number": 43
    },
    {
     "cell_type": "code",
     "collapsed": false,
     "input": [
      "for n in range(1,11):\n",
      "    pip_clf = Pipeline([('normalize', normalizer), ('classification', svm.SVC(C=n))])\n",
      "    pip_clf.fit(X, y)\n",
      "    \n",
      "    scores = cross_validation.cross_val_score(pip_clf, X, y, cv=5)\n",
      "    mean = scores.mean() \n",
      "    \n",
      "    print n, ':', mean"
     ],
     "language": "python",
     "metadata": {},
     "outputs": [
      {
       "output_type": "stream",
       "stream": "stdout",
       "text": [
        "1 : 0.399047619048\n",
        "2 : 0.399047619048\n",
        "3"
       ]
      },
      {
       "output_type": "stream",
       "stream": "stdout",
       "text": [
        " : 0.399047619048\n",
        "4 : 0.399047619048\n",
        "5"
       ]
      },
      {
       "output_type": "stream",
       "stream": "stdout",
       "text": [
        " : 0.399047619048\n",
        "6 : 0.399047619048\n",
        "7"
       ]
      },
      {
       "output_type": "stream",
       "stream": "stdout",
       "text": [
        " : 0.399047619048\n",
        "8 : 0.399047619048\n",
        "9"
       ]
      },
      {
       "output_type": "stream",
       "stream": "stdout",
       "text": [
        " : 0.399047619048\n",
        "10 : 0.45\n"
       ]
      }
     ],
     "prompt_number": 58
    },
    {
     "cell_type": "code",
     "collapsed": false,
     "input": [
      "for g in range(1,50):\n",
      "    pip_clf = Pipeline([('normalize', normalizer), ('classification', svm.SVC(kernel='rbf', gamma=g))])\n",
      "    pip_clf.fit(X, y)\n",
      "    \n",
      "    scores = cross_validation.cross_val_score(pip_clf, X, y, cv=5)\n",
      "    mean = scores.mean() \n",
      "    \n",
      "    print g, ':', mean"
     ],
     "language": "python",
     "metadata": {},
     "outputs": [
      {
       "output_type": "stream",
       "stream": "stdout",
       "text": [
        "1 : 0.618253968254\n",
        "2 : 0.617619047619\n",
        "3"
       ]
      },
      {
       "output_type": "stream",
       "stream": "stdout",
       "text": [
        " : 0.617619047619\n",
        "4 : 0.617619047619\n",
        "5"
       ]
      },
      {
       "output_type": "stream",
       "stream": "stdout",
       "text": [
        " : 0.611904761905\n",
        "6 : 0.611904761905\n",
        "7"
       ]
      },
      {
       "output_type": "stream",
       "stream": "stdout",
       "text": [
        " : 0.611904761905\n",
        "8 : 0.623174603175\n",
        "9"
       ]
      },
      {
       "output_type": "stream",
       "stream": "stdout",
       "text": [
        " : 0.617619047619\n",
        "10 : 0.629047619048\n",
        "11"
       ]
      },
      {
       "output_type": "stream",
       "stream": "stdout",
       "text": [
        " : 0.640317460317\n",
        "12 : 0.640317460317\n",
        "13"
       ]
      },
      {
       "output_type": "stream",
       "stream": "stdout",
       "text": [
        " : 0.646031746032\n",
        "14 : 0.646031746032\n",
        "15"
       ]
      },
      {
       "output_type": "stream",
       "stream": "stdout",
       "text": [
        " : 0.640476190476\n",
        "16 : 0.640476190476\n",
        "17 : 0.640476190476\n",
        "18"
       ]
      },
      {
       "output_type": "stream",
       "stream": "stdout",
       "text": [
        " : 0.634761904762\n",
        "19 : 0.651746031746\n",
        "20"
       ]
      },
      {
       "output_type": "stream",
       "stream": "stdout",
       "text": [
        " : 0.651746031746\n",
        "21 : 0.651746031746\n",
        "22"
       ]
      },
      {
       "output_type": "stream",
       "stream": "stdout",
       "text": [
        " : 0.65746031746\n",
        "23 : 0.663015873016\n",
        "24"
       ]
      },
      {
       "output_type": "stream",
       "stream": "stdout",
       "text": [
        " : 0.663015873016\n",
        "25 : 0.663015873016\n",
        "26"
       ]
      },
      {
       "output_type": "stream",
       "stream": "stdout",
       "text": [
        " : 0.657301587302\n",
        "27 : 0.674126984127\n",
        "28"
       ]
      },
      {
       "output_type": "stream",
       "stream": "stdout",
       "text": [
        " : 0.69126984127\n",
        "29 : 0.685714285714\n",
        "30"
       ]
      },
      {
       "output_type": "stream",
       "stream": "stdout",
       "text": [
        " : 0.685714285714\n",
        "31 : 0.68\n",
        "32 : 0.674285714286\n",
        "33"
       ]
      },
      {
       "output_type": "stream",
       "stream": "stdout",
       "text": [
        " : 0.674444444444\n",
        "34 : 0.674444444444\n",
        "35"
       ]
      },
      {
       "output_type": "stream",
       "stream": "stdout",
       "text": [
        " : 0.668888888889\n",
        "36 : 0.663174603175\n",
        "37 : 0.65746031746\n",
        "38"
       ]
      },
      {
       "output_type": "stream",
       "stream": "stdout",
       "text": [
        " : 0.668571428571\n",
        "39 : 0.668571428571\n",
        "40 :"
       ]
      },
      {
       "output_type": "stream",
       "stream": "stdout",
       "text": [
        " 0.651587301587\n",
        "41 : 0.651587301587\n",
        "42"
       ]
      },
      {
       "output_type": "stream",
       "stream": "stdout",
       "text": [
        " : 0.651587301587\n",
        "43 : 0.651587301587\n",
        "44"
       ]
      },
      {
       "output_type": "stream",
       "stream": "stdout",
       "text": [
        " : 0.645873015873\n",
        "45 : 0.645873015873\n",
        "46"
       ]
      },
      {
       "output_type": "stream",
       "stream": "stdout",
       "text": [
        " : 0.645873015873\n",
        "47 : 0.645873015873\n",
        "48"
       ]
      },
      {
       "output_type": "stream",
       "stream": "stdout",
       "text": [
        " : 0.645873015873\n",
        "49 : 0.651428571429\n"
       ]
      }
     ],
     "prompt_number": 95
    },
    {
     "cell_type": "heading",
     "level": 4,
     "metadata": {},
     "source": [
      "Question 7: Feed Pipeline Classifier to Grid Search"
     ]
    },
    {
     "cell_type": "code",
     "collapsed": false,
     "input": [
      "from sklearn import grid_search"
     ],
     "language": "python",
     "metadata": {},
     "outputs": [],
     "prompt_number": 61
    },
    {
     "cell_type": "code",
     "collapsed": false,
     "input": [
      "parameters = {'classification__kernel':('linear', 'rbf'), \n",
      "              'classification__C':[1, 10], 'classification__gamma':[1,50]}"
     ],
     "language": "python",
     "metadata": {},
     "outputs": [],
     "prompt_number": 102
    },
    {
     "cell_type": "code",
     "collapsed": false,
     "input": [
      "pip2_clf = Pipeline([('normalize', normalizer), ('classification', svm.SVC())])"
     ],
     "language": "python",
     "metadata": {},
     "outputs": [],
     "prompt_number": 103
    },
    {
     "cell_type": "code",
     "collapsed": false,
     "input": [
      "grid = grid_search.GridSearchCV(pip2_clf, param_grid = parameters)"
     ],
     "language": "python",
     "metadata": {},
     "outputs": [],
     "prompt_number": 104
    },
    {
     "cell_type": "code",
     "collapsed": false,
     "input": [
      "grid.fit(X, y)"
     ],
     "language": "python",
     "metadata": {},
     "outputs": [
      {
       "metadata": {},
       "output_type": "pyout",
       "prompt_number": 105,
       "text": [
        "GridSearchCV(cv=None,\n",
        "       estimator=Pipeline(steps=[('normalize', Normalizer(copy=True, norm='l2')), ('classification', SVC(C=1.0, cache_size=200, class_weight=None, coef0=0.0, degree=3, gamma=0.0,\n",
        "  kernel='rbf', max_iter=-1, probability=False, random_state=None,\n",
        "  shrinking=True, tol=0.001, verbose=False))]),\n",
        "       fit_params={}, iid=True, loss_func=None, n_jobs=1,\n",
        "       param_grid={'classification__gamma': [1, 50], 'classification__kernel': ('linear', 'rbf'), 'classification__C': [1, 10]},\n",
        "       pre_dispatch='2*n_jobs', refit=True, score_func=None, scoring=None,\n",
        "       verbose=0)"
       ]
      }
     ],
     "prompt_number": 105
    },
    {
     "cell_type": "code",
     "collapsed": false,
     "input": [
      "grid.grid_scores_"
     ],
     "language": "python",
     "metadata": {},
     "outputs": [
      {
       "metadata": {},
       "output_type": "pyout",
       "prompt_number": 106,
       "text": [
        "[mean: 0.39888, std: 0.00697, params: {'classification__gamma': 1, 'classification__kernel': 'linear', 'classification__C': 1},\n",
        " mean: 0.51124, std: 0.09346, params: {'classification__gamma': 1, 'classification__kernel': 'rbf', 'classification__C': 1},\n",
        " mean: 0.39888, std: 0.00697, params: {'classification__gamma': 50, 'classification__kernel': 'linear', 'classification__C': 1},\n",
        " mean: 0.65169, std: 0.02585, params: {'classification__gamma': 50, 'classification__kernel': 'rbf', 'classification__C': 1},\n",
        " mean: 0.62921, std: 0.04448, params: {'classification__gamma': 1, 'classification__kernel': 'linear', 'classification__C': 10},\n",
        " mean: 0.64045, std: 0.04120, params: {'classification__gamma': 1, 'classification__kernel': 'rbf', 'classification__C': 10},\n",
        " mean: 0.62921, std: 0.04448, params: {'classification__gamma': 50, 'classification__kernel': 'linear', 'classification__C': 10},\n",
        " mean: 0.87079, std: 0.05081, params: {'classification__gamma': 50, 'classification__kernel': 'rbf', 'classification__C': 10}]"
       ]
      }
     ],
     "prompt_number": 106
    },
    {
     "cell_type": "code",
     "collapsed": false,
     "input": [
      "grid.best_score_"
     ],
     "language": "python",
     "metadata": {},
     "outputs": [
      {
       "metadata": {},
       "output_type": "pyout",
       "prompt_number": 107,
       "text": [
        "0.8707865168539326"
       ]
      }
     ],
     "prompt_number": 107
    },
    {
     "cell_type": "code",
     "collapsed": false,
     "input": [
      "grid.best_params_"
     ],
     "language": "python",
     "metadata": {},
     "outputs": [
      {
       "metadata": {},
       "output_type": "pyout",
       "prompt_number": 108,
       "text": [
        "{'classification__C': 10,\n",
        " 'classification__gamma': 50,\n",
        " 'classification__kernel': 'rbf'}"
       ]
      }
     ],
     "prompt_number": 108
    }
   ],
   "metadata": {}
  }
 ]
}