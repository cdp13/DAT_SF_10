{
 "metadata": {
  "name": "",
  "signature": "sha256:9ba2bb63cb618427ca054923c89a4b73d09d63ab5f4fd37ceded3e2e2b6466bf"
 },
 "nbformat": 3,
 "nbformat_minor": 0,
 "worksheets": [
  {
   "cells": [
    {
     "cell_type": "code",
     "collapsed": false,
     "input": [
      "# usual imports\n",
      "import numpy as np\n",
      "import matplotlib.pyplot as plt\n",
      "import pylab as pl\n",
      "import pandas as pd\n",
      "%pylab inline\n",
      "\n",
      "# scikit-learn algorithms\n",
      "import sklearn.datasets\n",
      "from sklearn.decomposition import PCA\n",
      "from sklearn.decomposition import RandomizedPCA"
     ],
     "language": "python",
     "metadata": {},
     "outputs": [
      {
       "output_type": "stream",
       "stream": "stdout",
       "text": [
        "Populating the interactive namespace from numpy and matplotlib\n"
       ]
      }
     ],
     "prompt_number": 1
    },
    {
     "cell_type": "code",
     "collapsed": false,
     "input": [
      "# Import the Olivetti Faces data set\n",
      "\n",
      "data = sklearn.datasets.fetch_olivetti_faces()"
     ],
     "language": "python",
     "metadata": {},
     "outputs": [],
     "prompt_number": 2
    },
    {
     "cell_type": "code",
     "collapsed": false,
     "input": [
      "# print(data.DESCR)"
     ],
     "language": "python",
     "metadata": {},
     "outputs": [],
     "prompt_number": 3
    },
    {
     "cell_type": "heading",
     "level": 4,
     "metadata": {},
     "source": [
      "Question 1: Implement PCA on the data set "
     ]
    },
    {
     "cell_type": "code",
     "collapsed": false,
     "input": [
      "X = data.data\n",
      "y = data.images"
     ],
     "language": "python",
     "metadata": {},
     "outputs": [],
     "prompt_number": 4
    },
    {
     "cell_type": "code",
     "collapsed": false,
     "input": [
      "pca = PCA()\n",
      "X_r = pca.fit(X).transform(X)"
     ],
     "language": "python",
     "metadata": {},
     "outputs": [],
     "prompt_number": 5
    },
    {
     "cell_type": "code",
     "collapsed": false,
     "input": [
      "ratios = pca.explained_variance_ratio_\n",
      "print ratios"
     ],
     "language": "python",
     "metadata": {},
     "outputs": [
      {
       "output_type": "stream",
       "stream": "stdout",
       "text": [
        "[  2.38127351e-01   1.39939710e-01   7.96861574e-02   4.99833040e-02\n",
        "   3.60985026e-02   3.15693133e-02   2.42683198e-02   2.03639511e-02\n",
        "   1.95811428e-02   1.67212207e-02   1.59522314e-02   1.43698165e-02\n",
        "   1.24674058e-02   1.14713339e-02   1.06287729e-02   9.77720134e-03\n",
        "   9.19060223e-03   8.15573242e-03   7.53875403e-03   7.46985292e-03\n",
        "   6.98577939e-03   6.14628382e-03   5.83928078e-03   5.69722941e-03\n",
        "   5.46190981e-03   5.31855738e-03   5.13816392e-03   4.95841540e-03\n",
        "   4.57664160e-03   4.41183243e-03   4.02001711e-03   3.84189957e-03\n",
        "   3.61951161e-03   3.34542384e-03   3.20380623e-03   3.16040893e-03\n",
        "   3.05147213e-03   2.98634940e-03   2.82141007e-03   2.74006440e-03\n",
        "   2.59772246e-03   2.53990479e-03   2.44547008e-03   2.39839638e-03\n",
        "   2.30890443e-03   2.26419140e-03   2.22286279e-03   2.20442750e-03\n",
        "   2.08920892e-03   2.04983144e-03   1.96843036e-03   1.91435905e-03\n",
        "   1.85046159e-03   1.78939046e-03   1.77608186e-03   1.72482780e-03\n",
        "   1.68585021e-03   1.64168258e-03   1.61885459e-03   1.58394268e-03\n",
        "   1.55428378e-03   1.52232975e-03   1.49957440e-03   1.47712103e-03\n",
        "   1.42608874e-03   1.40597625e-03   1.36941101e-03   1.33972778e-03\n",
        "   1.30914932e-03   1.28719653e-03   1.27428025e-03   1.26231613e-03\n",
        "   1.23800780e-03   1.21333764e-03   1.17883331e-03   1.14881538e-03\n",
        "   1.14184374e-03   1.10183796e-03   1.09685585e-03   1.08622923e-03\n",
        "   1.06534886e-03   1.04695698e-03   1.01680565e-03   9.87810083e-04\n",
        "   9.74820403e-04   9.63703962e-04   9.55994532e-04   9.33097384e-04\n",
        "   9.11879586e-04   9.08563903e-04   8.90562893e-04   8.81070213e-04\n",
        "   8.75609170e-04   8.64560134e-04   8.25340685e-04   8.06901546e-04\n",
        "   7.97248853e-04   7.94179621e-04   7.86682882e-04   7.72961474e-04\n",
        "   7.57980102e-04   7.54067441e-04   7.40206859e-04   7.34334462e-04\n",
        "   7.18259544e-04   7.11515138e-04   7.00335833e-04   6.86411513e-04\n",
        "   6.73600822e-04   6.67970569e-04   6.57395984e-04   6.54191477e-04\n",
        "   6.39304053e-04   6.30952534e-04   6.23455155e-04   6.20931212e-04\n",
        "   6.12621428e-04   5.92792814e-04   5.89645235e-04   5.79747721e-04\n",
        "   5.72390156e-04   5.63833979e-04   5.54131926e-04   5.47773030e-04\n",
        "   5.45162417e-04   5.41708141e-04   5.38290129e-04   5.29012701e-04\n",
        "   5.24270989e-04   5.17421402e-04   5.11849124e-04   4.98628186e-04\n",
        "   4.93514934e-04   4.86231787e-04   4.80935763e-04   4.77416441e-04\n",
        "   4.72869171e-04   4.66713012e-04   4.62844095e-04   4.57348186e-04\n",
        "   4.45894286e-04   4.43867058e-04   4.39831550e-04   4.32064728e-04\n",
        "   4.26229992e-04   4.24525148e-04   4.21003322e-04   4.18194395e-04\n",
        "   4.10199777e-04   4.07422165e-04   4.03956597e-04   3.98036791e-04\n",
        "   3.96363495e-04   3.91014852e-04   3.88758868e-04   3.86635365e-04\n",
        "   3.80882440e-04   3.74048715e-04   3.71895323e-04   3.69400484e-04\n",
        "   3.65424901e-04   3.61814222e-04   3.59215337e-04   3.54972231e-04\n",
        "   3.50007729e-04   3.46981396e-04   3.43137042e-04   3.37833655e-04\n",
        "   3.36516678e-04   3.31214716e-04   3.30319046e-04   3.27969494e-04\n",
        "   3.22041975e-04   3.18298698e-04   3.13110446e-04   3.11926909e-04\n",
        "   3.11596727e-04   3.06110422e-04   3.03931040e-04   3.00688873e-04\n",
        "   2.95136328e-04   2.92243843e-04   2.88065028e-04   2.84598209e-04\n",
        "   2.80776992e-04   2.78851774e-04   2.73705344e-04   2.72918027e-04\n",
        "   2.69567448e-04   2.68305826e-04   2.65759416e-04   2.62801565e-04\n",
        "   2.60691944e-04   2.57939537e-04   2.56487663e-04   2.52883445e-04\n",
        "   2.50599376e-04   2.48895987e-04   2.46441603e-04   2.39947418e-04\n",
        "   2.38854409e-04   2.35043248e-04   2.34732011e-04   2.33570885e-04\n",
        "   2.31908547e-04   2.28026227e-04   2.27083845e-04   2.26030999e-04\n",
        "   2.23998140e-04   2.19795620e-04   2.18361427e-04   2.16497385e-04\n",
        "   2.14125350e-04   2.10580722e-04   2.09447971e-04   2.09139136e-04\n",
        "   2.03382922e-04   2.02533236e-04   1.99454735e-04   1.98278416e-04\n",
        "   1.95524422e-04   1.94674431e-04   1.93851680e-04   1.91519270e-04\n",
        "   1.89656785e-04   1.88726990e-04   1.85524448e-04   1.85158278e-04\n",
        "   1.83826749e-04   1.82081640e-04   1.81415089e-04   1.78717703e-04\n",
        "   1.75816764e-04   1.73966677e-04   1.71531909e-04   1.70114974e-04\n",
        "   1.67641352e-04   1.66722923e-04   1.65636637e-04   1.64800149e-04\n",
        "   1.61421791e-04   1.60350202e-04   1.59147239e-04   1.57526534e-04\n",
        "   1.56512469e-04   1.54813708e-04   1.53127039e-04   1.52808439e-04\n",
        "   1.50919659e-04   1.48621897e-04   1.48054023e-04   1.45273298e-04\n",
        "   1.44945152e-04   1.42708930e-04   1.40516495e-04   1.39787255e-04\n",
        "   1.38436633e-04   1.38103147e-04   1.37689727e-04   1.35762675e-04\n",
        "   1.34315545e-04   1.33210240e-04   1.32221438e-04   1.30473811e-04\n",
        "   1.28482861e-04   1.27520296e-04   1.26717627e-04   1.26261861e-04\n",
        "   1.25167368e-04   1.23279955e-04   1.22475176e-04   1.21070421e-04\n",
        "   1.20594472e-04   1.19497134e-04   1.18161217e-04   1.16886513e-04\n",
        "   1.16399293e-04   1.15233706e-04   1.13873582e-04   1.12802190e-04\n",
        "   1.12107897e-04   1.11091882e-04   1.10006316e-04   1.09320245e-04\n",
        "   1.08638334e-04   1.08074943e-04   1.06723426e-04   1.06363055e-04\n",
        "   1.04636645e-04   1.03167615e-04   1.01723250e-04   1.00506753e-04\n",
        "   9.91130946e-05   9.77989985e-05   9.73326896e-05   9.64797146e-05\n",
        "   9.57835800e-05   9.48237721e-05   9.40648242e-05   9.31219765e-05\n",
        "   9.27073415e-05   9.12856849e-05   9.05772686e-05   9.04176559e-05\n",
        "   8.97077043e-05   8.66697519e-05   8.63545793e-05   8.52005687e-05\n",
        "   8.45208560e-05   8.38892738e-05   8.36497129e-05   8.25103707e-05\n",
        "   8.23608352e-05   8.15383028e-05   7.94802545e-05   7.92216379e-05\n",
        "   7.90012418e-05   7.77743844e-05   7.72212370e-05   7.60387848e-05\n",
        "   7.58834794e-05   7.52427513e-05   7.37187293e-05   7.28598752e-05\n",
        "   7.20091193e-05   7.12397596e-05   7.06740539e-05   7.01454992e-05\n",
        "   6.93993570e-05   6.89838707e-05   6.87894208e-05   6.77068310e-05\n",
        "   6.73533432e-05   6.62388557e-05   6.50742368e-05   6.47792476e-05\n",
        "   6.41670049e-05   6.33349700e-05   6.23552041e-05   6.14713936e-05\n",
        "   6.09505842e-05   6.04663146e-05   5.95301935e-05   5.80959895e-05\n",
        "   5.77049686e-05   5.76202110e-05   5.68203286e-05   5.60494664e-05\n",
        "   5.47829331e-05   5.47069285e-05   5.33229359e-05   5.30243124e-05\n",
        "   5.18070992e-05   5.13986233e-05   5.08478552e-05   5.00948809e-05\n",
        "   4.93841726e-05   4.93566877e-05   4.84379052e-05   4.75951238e-05\n",
        "   4.73582622e-05   4.64154364e-05   4.63124597e-05   4.56814960e-05\n",
        "   4.47302737e-05   4.38527750e-05   4.31365843e-05   4.20280703e-05\n",
        "   4.17114497e-05   4.13682428e-05   4.08981759e-05   4.02298137e-05\n",
        "   3.96282376e-05   3.90217756e-05   3.86948450e-05   3.80279853e-05\n",
        "   3.78823970e-05   3.64866355e-05   3.60834129e-05   3.55288757e-05\n",
        "   3.42601161e-05   3.37837228e-05   3.30673829e-05   3.28691458e-05\n",
        "   3.21210791e-05   3.17953054e-05   3.10745854e-05   3.04017885e-05\n",
        "   2.93440098e-05   2.80352742e-05   2.70600704e-05   2.60034649e-05\n",
        "   2.49090463e-05   2.40020272e-05   2.20469374e-05   2.17639463e-05\n",
        "   2.14146039e-05   2.00238646e-05   1.63976056e-05   1.23081222e-12]\n"
       ]
      }
     ],
     "prompt_number": 6
    },
    {
     "cell_type": "code",
     "collapsed": false,
     "input": [
      "print pca.components_"
     ],
     "language": "python",
     "metadata": {},
     "outputs": [
      {
       "output_type": "stream",
       "stream": "stdout",
       "text": [
        "[[-0.00419108 -0.00710953 -0.00933615 ...,  0.0001852   0.0033797\n",
        "   0.00318829]\n",
        " [-0.02859134 -0.03328834 -0.03784649 ...,  0.02962779  0.02721296\n",
        "   0.02488896]\n",
        " [ 0.00135698 -0.00032578 -0.0001979  ..., -0.01541373 -0.01370986\n",
        "  -0.01188349]\n",
        " ..., \n",
        " [ 0.00223523  0.0205671   0.01515893 ..., -0.01273592 -0.05849016\n",
        "  -0.0765036 ]\n",
        " [ 0.01714767  0.02917707 -0.00942507 ...,  0.00159117  0.01249369\n",
        "  -0.0081521 ]\n",
        " [-0.00073125  0.01170934  0.01563891 ..., -0.01165972 -0.016185\n",
        "  -0.00543429]]\n"
       ]
      }
     ],
     "prompt_number": 7
    },
    {
     "cell_type": "code",
     "collapsed": false,
     "input": [
      "comp_id = np.arange(400)             # id number of component\n",
      "\n",
      "fig = plt.figure(figsize=(8,5))\n",
      "plt.plot(comp_id, ratios, 'ro-', linewidth=2)\n",
      "plt.title('PCA Plot')\n",
      "plt.xlabel('Principal Component')\n",
      "plt.ylabel('Eigenvalue')"
     ],
     "language": "python",
     "metadata": {},
     "outputs": [
      {
       "metadata": {},
       "output_type": "pyout",
       "prompt_number": 8,
       "text": [
        "<matplotlib.text.Text at 0x10b85e490>"
       ]
      },
      {
       "metadata": {},
       "output_type": "display_data",
       "png": "[encoded data removed]",
       "text": [
        "<matplotlib.figure.Figure at 0x107ef9690>"
       ]
      }
     ],
     "prompt_number": 8
    },
    {
     "cell_type": "markdown",
     "metadata": {},
     "source": [
      "Let's try normalizing the data with global centering:"
     ]
    },
    {
     "cell_type": "code",
     "collapsed": false,
     "input": [
      "# Let's try normalizing the data with global centering:\n",
      "n_samples, n_features = X.shape\n",
      "\n",
      "X_centered = X - X.mean(axis=0)\n",
      "\n",
      "# local centering\n",
      "X_centered -= X_centered.mean(axis=1).reshape(n_samples, -1)\n",
      "\n",
      "print(\"Dataset consists of %d faces\" % n_samples)"
     ],
     "language": "python",
     "metadata": {},
     "outputs": [
      {
       "output_type": "stream",
       "stream": "stdout",
       "text": [
        "Dataset consists of 400 faces\n"
       ]
      }
     ],
     "prompt_number": 9
    },
    {
     "cell_type": "code",
     "collapsed": false,
     "input": [
      "pca = PCA()\n",
      "X_r1 = pca.fit(X_centered).transform(X_centered)"
     ],
     "language": "python",
     "metadata": {},
     "outputs": [],
     "prompt_number": 10
    },
    {
     "cell_type": "code",
     "collapsed": false,
     "input": [
      "ratios = pca.explained_variance_ratio_\n",
      "print ratios"
     ],
     "language": "python",
     "metadata": {},
     "outputs": [
      {
       "output_type": "stream",
       "stream": "stdout",
       "text": [
        "[  1.81546673e-01   1.01765260e-01   7.10416734e-02   5.59660941e-02\n",
        "   4.06893268e-02   3.34214568e-02   2.61354037e-02   2.58630589e-02\n",
        "   2.15211660e-02   2.03397907e-02   1.82889998e-02   1.62676629e-02\n",
        "   1.52905118e-02   1.35884825e-02   1.27567193e-02   1.19572869e-02\n",
        "   1.07786013e-02   9.58763994e-03   9.53759719e-03   9.04260110e-03\n",
        "   7.99512956e-03   7.61196157e-03   7.33871479e-03   6.97001582e-03\n",
        "   6.76430902e-03   6.59073237e-03   6.30699797e-03   5.88069344e-03\n",
        "   5.63021842e-03   5.14243590e-03   4.98559233e-03   4.66560433e-03\n",
        "   4.31349454e-03   4.15042415e-03   4.02153004e-03   3.99790145e-03\n",
        "   3.80722852e-03   3.58880288e-03   3.51131451e-03   3.31546529e-03\n",
        "   3.26026627e-03   3.17734410e-03   3.10838572e-03   3.00000911e-03\n",
        "   2.93483352e-03   2.85183871e-03   2.82686786e-03   2.71932059e-03\n",
        "   2.60842289e-03   2.52944347e-03   2.45389994e-03   2.42578774e-03\n",
        "   2.31270539e-03   2.27084663e-03   2.21528439e-03   2.18206411e-03\n",
        "   2.10928963e-03   2.06075003e-03   2.01589591e-03   2.00739736e-03\n",
        "   1.94547419e-03   1.92800490e-03   1.87863328e-03   1.83499826e-03\n",
        "   1.79167779e-03   1.74626673e-03   1.72668998e-03   1.69853412e-03\n",
        "   1.64728542e-03   1.62669632e-03   1.60914741e-03   1.57466053e-03\n",
        "   1.54374668e-03   1.50074670e-03   1.48341153e-03   1.45674578e-03\n",
        "   1.41629355e-03   1.40056154e-03   1.39173470e-03   1.35893410e-03\n",
        "   1.33433007e-03   1.30725000e-03   1.26170996e-03   1.24014425e-03\n",
        "   1.22567744e-03   1.21801777e-03   1.18721835e-03   1.16648816e-03\n",
        "   1.15956622e-03   1.14093453e-03   1.12942664e-03   1.11442420e-03\n",
        "   1.11155980e-03   1.07939227e-03   1.03051797e-03   1.02009159e-03\n",
        "   1.01237185e-03   1.00730185e-03   9.85054648e-04   9.80147743e-04\n",
        "   9.61949991e-04   9.55581956e-04   9.40860715e-04   9.18575330e-04\n",
        "   9.05222667e-04   8.91143165e-04   8.76688398e-04   8.63185851e-04\n",
        "   8.50981160e-04   8.37135885e-04   8.32786027e-04   8.13563587e-04\n",
        "   8.09397490e-04   7.96206121e-04   7.92558130e-04   7.81736744e-04\n",
        "   7.56481430e-04   7.51898915e-04   7.39176699e-04   7.32692075e-04\n",
        "   7.22685247e-04   7.06495775e-04   7.04482838e-04   6.96568226e-04\n",
        "   6.91892521e-04   6.88252388e-04   6.76468131e-04   6.66944252e-04\n",
        "   6.59588666e-04   6.50984060e-04   6.40183280e-04   6.30055438e-04\n",
        "   6.20780454e-04   6.14861667e-04   6.07433089e-04   6.01407955e-04\n",
        "   5.93620876e-04   5.93373843e-04   5.83960675e-04   5.67167066e-04\n",
        "   5.64498419e-04   5.60123241e-04   5.55162784e-04   5.45549614e-04\n",
        "   5.40545501e-04   5.36394713e-04   5.32140257e-04   5.24784205e-04\n",
        "   5.18981426e-04   5.17602311e-04   5.07523422e-04   5.04254771e-04\n",
        "   5.01057133e-04   4.94975829e-04   4.91957879e-04   4.84529999e-04\n",
        "   4.75938927e-04   4.74012544e-04   4.71841951e-04   4.66676254e-04\n",
        "   4.60181094e-04   4.59848845e-04   4.51849279e-04   4.45538724e-04\n",
        "   4.41625831e-04   4.41102544e-04   4.30912914e-04   4.29642154e-04\n",
        "   4.22400248e-04   4.20178694e-04   4.17523668e-04   4.15137765e-04\n",
        "   4.09362285e-04   4.00693563e-04   3.98202857e-04   3.96695978e-04\n",
        "   3.89892870e-04   3.88042768e-04   3.83503007e-04   3.75647709e-04\n",
        "   3.73686518e-04   3.66637221e-04   3.61950020e-04   3.57092329e-04\n",
        "   3.56748380e-04   3.53520620e-04   3.48070869e-04   3.47086636e-04\n",
        "   3.42541985e-04   3.38696060e-04   3.35770776e-04   3.34218988e-04\n",
        "   3.31122515e-04   3.26201989e-04   3.25712463e-04   3.21490632e-04\n",
        "   3.18602833e-04   3.15287907e-04   3.10672971e-04   3.04387824e-04\n",
        "   3.00851156e-04   2.98804080e-04   2.98046129e-04   2.95835838e-04\n",
        "   2.92369514e-04   2.89426534e-04   2.88511510e-04   2.87454808e-04\n",
        "   2.82749999e-04   2.78068532e-04   2.75401340e-04   2.74880877e-04\n",
        "   2.67815689e-04   2.67601688e-04   2.66159797e-04   2.62740126e-04\n",
        "   2.58440064e-04   2.55513063e-04   2.52268714e-04   2.49435048e-04\n",
        "   2.48538068e-04   2.46577605e-04   2.46506301e-04   2.42533031e-04\n",
        "   2.41160189e-04   2.38562017e-04   2.35815736e-04   2.35375075e-04\n",
        "   2.32621445e-04   2.31461949e-04   2.27586599e-04   2.26671065e-04\n",
        "   2.23349780e-04   2.20971822e-04   2.17047869e-04   2.14318919e-04\n",
        "   2.12262617e-04   2.10998624e-04   2.09590289e-04   2.05589080e-04\n",
        "   2.05005214e-04   2.03875272e-04   2.01887888e-04   2.00309238e-04\n",
        "   1.96973895e-04   1.96040070e-04   1.94641150e-04   1.93043801e-04\n",
        "   1.90673876e-04   1.88899969e-04   1.88213002e-04   1.84635486e-04\n",
        "   1.84228687e-04   1.79078008e-04   1.78152215e-04   1.76410904e-04\n",
        "   1.75872730e-04   1.75456458e-04   1.73409790e-04   1.72615779e-04\n",
        "   1.69530947e-04   1.69340652e-04   1.68150320e-04   1.65902267e-04\n",
        "   1.62377619e-04   1.62144759e-04   1.61050833e-04   1.59402320e-04\n",
        "   1.58151204e-04   1.56535505e-04   1.54563022e-04   1.53689471e-04\n",
        "   1.53084649e-04   1.50530555e-04   1.49442087e-04   1.48498191e-04\n",
        "   1.47653016e-04   1.46480073e-04   1.44358622e-04   1.43273937e-04\n",
        "   1.42535631e-04   1.40718621e-04   1.39897165e-04   1.39029740e-04\n",
        "   1.38162941e-04   1.37446244e-04   1.35603303e-04   1.34473128e-04\n",
        "   1.32751884e-04   1.31198103e-04   1.29361826e-04   1.27377731e-04\n",
        "   1.26025116e-04   1.23920036e-04   1.23260470e-04   1.21817509e-04\n",
        "   1.21682329e-04   1.20412355e-04   1.19536227e-04   1.18426913e-04\n",
        "   1.17414951e-04   1.15812865e-04   1.15011855e-04   1.14533665e-04\n",
        "   1.14039736e-04   1.10073677e-04   1.09782537e-04   1.07674306e-04\n",
        "   1.06932610e-04   1.06383617e-04   1.05462757e-04   1.04766754e-04\n",
        "   1.03776583e-04   1.02814774e-04   1.01080856e-04   1.00751851e-04\n",
        "   9.98657124e-05   9.85901497e-05   9.81455960e-05   9.66501611e-05\n",
        "   9.62429258e-05   9.46394866e-05   9.35446005e-05   9.26584980e-05\n",
        "   9.15261335e-05   9.03442196e-05   8.95919075e-05   8.90063238e-05\n",
        "   8.78442224e-05   8.75683036e-05   8.63035457e-05   8.58784915e-05\n",
        "   8.45559989e-05   8.38775668e-05   8.27238327e-05   8.20204514e-05\n",
        "   8.15617459e-05   8.03549192e-05   7.92843930e-05   7.78506728e-05\n",
        "   7.73722277e-05   7.68967511e-05   7.56313675e-05   7.38262606e-05\n",
        "   7.33784036e-05   7.29631865e-05   7.22087498e-05   7.05543280e-05\n",
        "   6.96594507e-05   6.93686015e-05   6.77116477e-05   6.68672365e-05\n",
        "   6.57946948e-05   6.48518835e-05   6.46648114e-05   6.36413388e-05\n",
        "   6.28054040e-05   6.20920619e-05   6.15353201e-05   6.05204841e-05\n",
        "   6.00652274e-05   5.89233205e-05   5.81505847e-05   5.76614766e-05\n",
        "   5.68853393e-05   5.56651685e-05   5.47875788e-05   5.31300830e-05\n",
        "   5.28725432e-05   5.26004587e-05   5.13356026e-05   5.11631442e-05\n",
        "   5.00503011e-05   4.96264765e-05   4.89876584e-05   4.82482428e-05\n",
        "   4.81662319e-05   4.62777825e-05   4.53894463e-05   4.49652907e-05\n",
        "   4.35247566e-05   4.28118874e-05   4.20365686e-05   4.17396514e-05\n",
        "   4.07954394e-05   4.04014827e-05   3.95051975e-05   3.86640386e-05\n",
        "   3.72384347e-05   3.56268538e-05   3.43699467e-05   3.26994668e-05\n",
        "   3.11612239e-05   3.04752684e-05   2.80015684e-05   2.76696082e-05\n",
        "   2.71931749e-05   2.54607057e-05   2.08338097e-05   1.01436219e-14]\n"
       ]
      }
     ],
     "prompt_number": 11
    },
    {
     "cell_type": "code",
     "collapsed": false,
     "input": [
      "print pca.components_"
     ],
     "language": "python",
     "metadata": {},
     "outputs": [
      {
       "output_type": "stream",
       "stream": "stdout",
       "text": [
        "[[  2.85011549e-02   3.21027525e-02   3.57245095e-02 ...,  -2.56915465e-02\n",
        "   -2.24477854e-02  -2.03094184e-02]\n",
        " [  9.13847529e-04   5.99071500e-05   1.00983190e-03 ...,  -2.00162306e-02\n",
        "   -1.86901242e-02  -1.66746099e-02]\n",
        " [  1.05346134e-02   3.26595898e-03  -8.05976335e-03 ...,   5.47987260e-02\n",
        "    5.60213141e-02   5.34062646e-02]\n",
        " ..., \n",
        " [ -2.33227247e-03  -2.05312259e-02  -1.49195921e-02 ...,   1.28709041e-02\n",
        "    5.82089685e-02   7.67503753e-02]\n",
        " [  1.76848546e-02   2.91472748e-02  -9.83662531e-03 ...,   1.64154405e-03\n",
        "    1.29785798e-02  -8.14256724e-03]\n",
        " [  9.33604613e-02  -1.03521504e-01   3.99405286e-02 ...,  -7.91854262e-02\n",
        "   -1.11621143e-02  -2.43079402e-02]]\n"
       ]
      }
     ],
     "prompt_number": 12
    },
    {
     "cell_type": "code",
     "collapsed": false,
     "input": [
      "comp_id = np.arange(400)             # id number of component\n",
      "\n",
      "fig = plt.figure(figsize=(8,5))\n",
      "plt.plot(comp_id, ratios, 'ro-', linewidth=2)\n",
      "plt.title('PCA Plot')\n",
      "plt.xlabel('Principal Component')\n",
      "plt.ylabel('Eigenvalue')"
     ],
     "language": "python",
     "metadata": {},
     "outputs": [
      {
       "metadata": {},
       "output_type": "pyout",
       "prompt_number": 13,
       "text": [
        "<matplotlib.text.Text at 0x102789610>"
       ]
      },
      {
       "metadata": {},
       "output_type": "display_data",
       "png": "[encoded data removed]",
       "text": [
        "<matplotlib.figure.Figure at 0x102702190>"
       ]
      }
     ],
     "prompt_number": 13
    },
    {
     "cell_type": "markdown",
     "metadata": {},
     "source": [
      "Although the graphs do not look much different, we can see in the explained variance ratios that the variance reduced after we recentered (i.e., scaled) the faces."
     ]
    },
    {
     "cell_type": "heading",
     "level": 4,
     "metadata": {},
     "source": [
      "Question 2: Implement Randomized PCA on the data set"
     ]
    },
    {
     "cell_type": "code",
     "collapsed": false,
     "input": [
      "pca_rando = sklearn.decomposition.RandomizedPCA(n_components=25)"
     ],
     "language": "python",
     "metadata": {},
     "outputs": [],
     "prompt_number": 14
    },
    {
     "cell_type": "code",
     "collapsed": false,
     "input": [
      "X_r2 = pca_rando.fit(X_centered).transform(X_centered)"
     ],
     "language": "python",
     "metadata": {},
     "outputs": [],
     "prompt_number": 15
    },
    {
     "cell_type": "code",
     "collapsed": false,
     "input": [
      "ratios_rando = pca_rando.explained_variance_ratio_\n",
      "print ratios_rando"
     ],
     "language": "python",
     "metadata": {},
     "outputs": [
      {
       "output_type": "stream",
       "stream": "stdout",
       "text": [
        "[ 0.24478836  0.13721535  0.09578891  0.0754618   0.05486351  0.04506382\n",
        "  0.03523968  0.03487246  0.02901799  0.02742504  0.02465894  0.0219335\n",
        "  0.0206162   0.01832134  0.01719854  0.01611217  0.01452522  0.01289271\n",
        "  0.01281955  0.01216896  0.01077044  0.01021669  0.00986338  0.0091341\n",
        "  0.00903132]\n"
       ]
      }
     ],
     "prompt_number": 16
    },
    {
     "cell_type": "code",
     "collapsed": false,
     "input": [
      "comp_id = np.arange(25)             # id number of component\n",
      "\n",
      "fig = plt.figure(figsize=(8,5))\n",
      "plt.plot(comp_id, ratios_rando, 'ro-', linewidth=2)\n",
      "plt.title('Randomized PCA Plot')\n",
      "plt.xlabel('Principal Component')\n",
      "plt.ylabel('Eigenvalue')"
     ],
     "language": "python",
     "metadata": {},
     "outputs": [
      {
       "metadata": {},
       "output_type": "pyout",
       "prompt_number": 17,
       "text": [
        "<matplotlib.text.Text at 0x107f72050>"
       ]
      },
      {
       "metadata": {},
       "output_type": "display_data",
       "png": "[encoded data removed]",
       "text": [
        "<matplotlib.figure.Figure at 0x1026e2590>"
       ]
      }
     ],
     "prompt_number": 17
    },
    {
     "cell_type": "markdown",
     "metadata": {},
     "source": [
      "Notice, we do not obtain the same principle components, because the RandomizedPCA only considers a limited number of singular vectors in the variance calculation."
     ]
    },
    {
     "cell_type": "heading",
     "level": 4,
     "metadata": {},
     "source": [
      "Question 3: Plot data points in space of 2 principle components"
     ]
    },
    {
     "cell_type": "code",
     "collapsed": false,
     "input": [
      "pca = PCA(n_components=2)\n",
      "X_two = pca.fit(X_centered).transform(X_centered)"
     ],
     "language": "python",
     "metadata": {},
     "outputs": [],
     "prompt_number": 18
    },
    {
     "cell_type": "code",
     "collapsed": false,
     "input": [
      "target = data.target"
     ],
     "language": "python",
     "metadata": {},
     "outputs": [],
     "prompt_number": 19
    },
    {
     "cell_type": "code",
     "collapsed": false,
     "input": [
      "print X_two"
     ],
     "language": "python",
     "metadata": {},
     "outputs": [
      {
       "output_type": "stream",
       "stream": "stdout",
       "text": [
        "[[ -5.05484104e-01  -9.82529223e-01]\n",
        " [  6.50717974e+00   1.85626447e+00]\n",
        " [  5.16524434e-01   6.15495443e-01]\n",
        " [ -1.19065561e+01   8.61075297e-02]\n",
        " [  2.49336433e+00   3.90817714e+00]\n",
        " [ -7.44580841e+00  -4.94705141e-01]\n",
        " [ -9.78401542e-01  -3.36141467e+00]\n",
        " [ -4.87804842e+00   1.87310314e+00]\n",
        " [ -2.82326555e+00  -1.95662272e+00]\n",
        " [  1.70256531e+00   5.71390867e+00]\n",
        " [  7.69455969e-01  -3.58838916e+00]\n",
        " [  3.02208233e+00  -4.31358767e+00]\n",
        " [  2.42552352e+00  -2.64866614e+00]\n",
        " [  3.86697006e+00  -3.12216020e+00]\n",
        " [  2.00795603e+00  -5.10721588e+00]\n",
        " [  4.22258282e+00  -3.41528273e+00]\n",
        " [  1.41307771e+00  -1.35352504e+00]\n",
        " [  2.39352584e+00  -2.24682975e+00]\n",
        " [  4.71242380e+00  -3.79714489e+00]\n",
        " [  1.43047154e+00  -2.11511922e+00]\n",
        " [  2.72204494e+00   2.67247486e+00]\n",
        " [  3.57783175e+00   9.50678110e-01]\n",
        " [  3.61713195e+00   6.25981867e-01]\n",
        " [ -2.11564350e+00   8.58083844e-01]\n",
        " [ -3.63207698e+00   3.48527044e-01]\n",
        " [ -1.49757671e+00   3.74338531e+00]\n",
        " [ -3.89302683e+00   3.83300185e+00]\n",
        " [ -5.45529842e+00   2.84530377e+00]\n",
        " [ -7.80175701e-02   3.18172503e+00]\n",
        " [  8.62187326e-01   3.04648399e+00]\n",
        " [ -6.46937788e-01  -1.74947724e-01]\n",
        " [  2.56476259e+00  -6.33898497e-01]\n",
        " [ -1.77136505e+00  -3.14893007e-01]\n",
        " [  4.13830400e-01   4.98622417e-01]\n",
        " [  2.83130455e+00   1.09946156e+00]\n",
        " [ -6.59740877e+00  -2.66631126e-01]\n",
        " [ -1.36644483e+00  -3.73306751e-01]\n",
        " [ -1.57329810e+00  -7.28345215e-01]\n",
        " [  1.84781015e+00  -2.42425632e+00]\n",
        " [  4.65039825e+00  -4.61059988e-01]\n",
        " [ -5.53140879e-01   1.07664037e+00]\n",
        " [  2.81013370e+00   1.53323591e+00]\n",
        " [  3.49631286e+00   1.86763775e+00]\n",
        " [ -6.69737458e-01   7.58473098e-01]\n",
        " [ -6.63705969e+00   7.19704390e-01]\n",
        " [ -5.70709944e+00   1.49271190e+00]\n",
        " [ -1.43503547e+00  -2.61098057e-01]\n",
        " [ -3.57257509e+00   1.94404972e+00]\n",
        " [ -4.40284872e+00   1.45676076e+00]\n",
        " [ -4.13324785e+00   3.16439807e-01]\n",
        " [  2.13713694e+00  -2.52716362e-01]\n",
        " [  1.60695660e+00  -3.49611402e-01]\n",
        " [  1.53468251e+00  -6.37332082e-01]\n",
        " [ -2.37778664e+00  -2.50838637e-01]\n",
        " [ -4.31318855e+00  -5.42661846e-01]\n",
        " [ -2.24584961e+00  -1.41032732e+00]\n",
        " [ -5.19110107e+00  -9.60444987e-01]\n",
        " [ -3.55066001e-01  -4.97949243e-01]\n",
        " [ -6.46771097e+00  -7.18680918e-01]\n",
        " [ -3.09848452e+00  -4.33268726e-01]\n",
        " [  4.32570130e-01  -1.57856762e+00]\n",
        " [  8.60127509e-01  -1.89910889e+00]\n",
        " [ -3.27926922e+00  -1.02287889e+00]\n",
        " [ -3.04145217e+00   4.92921919e-01]\n",
        " [ -2.72512817e+00  -1.43421197e+00]\n",
        " [ -2.06472015e+00  -1.65066075e+00]\n",
        " [  1.54376149e+00  -1.33675349e+00]\n",
        " [ -5.57427406e-01  -1.66836047e+00]\n",
        " [ -3.97883201e+00  -1.72026515e+00]\n",
        " [ -2.95076966e+00  -3.17894959e+00]\n",
        " [  4.01818752e+00  -1.53586268e+00]\n",
        " [  5.99993324e+00   9.42558050e-01]\n",
        " [  3.89148879e+00   1.35092831e+00]\n",
        " [  1.11485634e+01   2.05394447e-01]\n",
        " [  3.47041440e+00   9.19989824e-01]\n",
        " [  3.27965999e+00  -7.95142055e-01]\n",
        " [  9.87987328e+00   5.69433212e-01]\n",
        " [  2.54101396e+00   1.62964177e+00]\n",
        " [ -7.81644535e+00   6.16144896e-01]\n",
        " [  8.63394260e+00   2.92800927e+00]\n",
        " [  7.35315859e-01   2.34409213e+00]\n",
        " [  2.42577553e+00   3.29398370e+00]\n",
        " [  1.03080595e+00   3.08878088e+00]\n",
        " [ -1.75275493e+00   2.15570378e+00]\n",
        " [ -1.41596365e+00   2.15455103e+00]\n",
        " [ -3.60290623e+00   2.24195099e+00]\n",
        " [ -3.76195621e+00   1.53836596e+00]\n",
        " [ -1.85147834e+00   1.96413267e+00]\n",
        " [ -4.56350148e-01   2.72269034e+00]\n",
        " [  3.23997021e-01   2.61672688e+00]\n",
        " [  6.24518812e-01   8.38248849e-01]\n",
        " [  2.79491162e+00   2.90087938e+00]\n",
        " [  6.74074268e+00   3.82210708e+00]\n",
        " [  6.77227259e+00   3.02730703e+00]\n",
        " [ -4.28517461e-02   4.81762934e+00]\n",
        " [  2.91567039e+00   5.68568134e+00]\n",
        " [  4.02012444e+00   4.30686665e+00]\n",
        " [ -2.91927934e-01   3.93760419e+00]\n",
        " [ -7.73363733e+00   2.02790332e+00]\n",
        " [  6.23656571e-01  -1.20453537e-02]\n",
        " [  3.75707197e+00  -2.05158329e+00]\n",
        " [  2.50817347e+00  -1.95335567e+00]\n",
        " [  2.88481307e+00  -2.27652788e+00]\n",
        " [  4.44644260e+00  -3.37951565e+00]\n",
        " [  4.77392244e+00  -1.94228578e+00]\n",
        " [  3.63813376e+00  -1.79752171e+00]\n",
        " [  5.64768887e+00  -2.49470806e+00]\n",
        " [  5.60782719e+00  -2.98055577e+00]\n",
        " [  4.79195690e+00  -4.14882135e+00]\n",
        " [  4.75228071e+00  -1.63352036e+00]\n",
        " [ -2.34616351e+00   4.71482182e+00]\n",
        " [ -1.31186593e+00   4.24156713e+00]\n",
        " [ -3.33686018e+00   3.06518817e+00]\n",
        " [  1.61283481e+00   2.73467064e+00]\n",
        " [ -3.55643630e-01   4.51426029e+00]\n",
        " [ -5.08917046e+00   3.43164349e+00]\n",
        " [  3.61230850e-01   4.19825888e+00]\n",
        " [  1.43184137e+00   5.82942820e+00]\n",
        " [  5.72318554e-01   5.45591307e+00]\n",
        " [ -1.20964170e+00   5.60053158e+00]\n",
        " [ -5.85157275e-01  -1.55059725e-01]\n",
        " [  1.00109375e+00  -4.70874608e-01]\n",
        " [ -3.40273619e+00  -1.53775275e+00]\n",
        " [ -4.02388239e+00  -2.90648520e-01]\n",
        " [ -1.45521450e+00   2.66906470e-01]\n",
        " [  3.26841211e+00  -2.55672485e-02]\n",
        " [ -6.92430878e+00   5.94685912e-01]\n",
        " [ -5.11260271e+00   1.57465899e+00]\n",
        " [ -2.90390372e-01   1.16709614e+00]\n",
        " [ -2.26888776e+00  -5.53237423e-02]\n",
        " [  1.91450155e+00   1.23476005e+00]\n",
        " [  3.90726042e+00   1.82176590e+00]\n",
        " [  4.13791037e+00   2.59758878e+00]\n",
        " [  5.16576052e-01   1.26848316e+00]\n",
        " [  7.16445148e-01   2.05401421e+00]\n",
        " [  4.44346428e+00   1.71024799e+00]\n",
        " [  2.60717608e-02   1.98174715e+00]\n",
        " [  6.10275209e-01   1.89860749e+00]\n",
        " [  5.02370024e+00   1.47441161e+00]\n",
        " [  1.81827104e+00   2.69128370e+00]\n",
        " [  1.70361292e+00  -4.99744797e+00]\n",
        " [ -8.30840588e-01  -1.39532626e+00]\n",
        " [  1.23321247e+00  -4.58327484e+00]\n",
        " [  1.58873153e+00  -4.07542086e+00]\n",
        " [ -8.58691812e-01  -9.50873613e-01]\n",
        " [  1.38358998e+00  -5.01649141e+00]\n",
        " [  6.52617514e-01  -1.35015273e+00]\n",
        " [  5.64609170e-01  -3.06589365e+00]\n",
        " [ -2.69622982e-01  -9.95083332e-01]\n",
        " [  8.71296749e-02  -1.21160127e-01]\n",
        " [ -4.35765907e-02  -5.12932730e+00]\n",
        " [ -1.06025684e+00  -2.48543549e+00]\n",
        " [ -1.06258297e+00  -1.25762129e+00]\n",
        " [ -3.05276364e-04   2.68149227e-01]\n",
        " [  1.89887419e-01  -5.29109001e-01]\n",
        " [ -2.79185355e-01  -5.78775120e+00]\n",
        " [  3.34147596e+00  -1.76597035e+00]\n",
        " [ -5.05792665e+00  -2.85740733e+00]\n",
        " [ -1.16661620e+00  -3.29783058e+00]\n",
        " [ -7.94891834e-01  -1.18906963e+00]\n",
        " [ -2.51727176e+00   3.23079729e+00]\n",
        " [ -1.73270237e+00   3.98111439e+00]\n",
        " [  2.79916191e+00   2.61083579e+00]\n",
        " [  3.70234919e+00   2.87941885e+00]\n",
        " [ -2.48008919e+00   2.22057343e+00]\n",
        " [ -8.78484344e+00  -5.05296409e-01]\n",
        " [ -9.40487576e+00  -8.68641853e-01]\n",
        " [ -2.59274411e+00   2.21619010e+00]\n",
        " [ -7.50250626e+00   1.04451880e-01]\n",
        " [ -1.04424181e+01  -3.58249992e-01]\n",
        " [  2.22430182e+00   7.79998720e-01]\n",
        " [  1.47212148e+00   7.90718496e-02]\n",
        " [ -2.66184950e+00   7.25245252e-02]\n",
        " [  1.19211113e+00   7.59129107e-01]\n",
        " [ -1.01373947e+00  -4.53079998e-01]\n",
        " [ -2.38981366e+00   1.67376757e+00]\n",
        " [  6.61078572e-01   6.60337746e-01]\n",
        " [ -1.31921160e+00  -1.58695847e-01]\n",
        " [ -1.72082409e-01   1.70068038e+00]\n",
        " [ -3.66679573e+00   3.79341602e-01]\n",
        " [ -5.18721938e-01   1.54950273e+00]\n",
        " [  4.10097897e-01   1.40241218e+00]\n",
        " [  8.49738479e-01   7.78732061e-01]\n",
        " [  3.32479715e+00  -1.29304159e+00]\n",
        " [  3.37553644e+00  -1.06741059e+00]\n",
        " [  9.13976014e-01   9.92296755e-01]\n",
        " [  3.13008428e+00  -1.86218607e+00]\n",
        " [  3.32665563e+00  -2.38209224e+00]\n",
        " [  3.67520261e+00  -2.22966743e+00]\n",
        " [  1.22462487e+00  -3.37608188e-01]\n",
        " [  3.23909283e+00  -2.22379112e+00]\n",
        " [  2.73641992e+00  -2.23317099e+00]\n",
        " [  1.74195230e+00  -2.16554308e+00]\n",
        " [ -1.21127605e+00  -8.66224408e-01]\n",
        " [ -2.59105062e+00  -1.58004493e-01]\n",
        " [ -1.32730198e+00  -1.46318924e+00]\n",
        " [ -3.15852165e+00  -8.29155967e-02]\n",
        " [ -3.79506302e+00   6.89478219e-02]\n",
        " [ -4.10327101e+00   2.24111095e-01]\n",
        " [  2.84405255e+00  -2.43226695e+00]\n",
        " [ -1.70503110e-02  -4.18814495e-02]\n",
        " [ -2.49333715e+00  -4.80593145e-01]\n",
        " [ -1.74740148e+00  -7.75237799e-01]\n",
        " [ -2.14029288e+00   9.99128938e-01]\n",
        " [ -6.24159575e-01   6.54451072e-01]\n",
        " [ -5.16988933e-01   6.72730923e-01]\n",
        " [ -5.80055571e+00   5.14522672e-01]\n",
        " [ -5.47349405e+00  -6.99942946e-01]\n",
        " [ -3.52208436e-01  -2.79448777e-01]\n",
        " [ -5.29803610e+00   4.99055237e-01]\n",
        " [  1.06850827e+00  -9.16947544e-01]\n",
        " [  8.74838084e-02  -1.01509809e+00]\n",
        " [  1.73353541e+00  -7.08977342e-01]\n",
        " [  6.47964954e-01  -1.77319074e+00]\n",
        " [  8.69661689e-01  -1.13345361e+00]\n",
        " [ -7.45425045e-01  -7.52806842e-01]\n",
        " [  1.61136329e+00  -7.52399862e-01]\n",
        " [  1.72921300e+00  -9.15488362e-01]\n",
        " [  1.41709197e+00  -1.09293783e+00]\n",
        " [  8.30485404e-01  -1.06888664e+00]\n",
        " [  9.36347321e-02   1.54107738e+00]\n",
        " [  3.10321689e+00   2.08915234e+00]\n",
        " [  1.56926334e+00   2.34449673e+00]\n",
        " [ -1.46129465e+00   6.75413549e-01]\n",
        " [  2.11322355e+00   2.28067708e+00]\n",
        " [ -2.01289582e+00   1.19357574e+00]\n",
        " [  3.26205552e-01   2.12957048e+00]\n",
        " [  2.22596979e+00   1.91911459e+00]\n",
        " [ -5.15896940e+00   3.67167890e-01]\n",
        " [ -4.31801319e+00   1.61613703e+00]\n",
        " [ -8.40830803e-01  -5.15945244e+00]\n",
        " [ -1.03302014e+00  -4.77867317e+00]\n",
        " [ -9.42693138e+00  -4.35508585e+00]\n",
        " [ -7.12070274e+00  -3.86158872e+00]\n",
        " [  4.06437731e+00  -3.25367808e+00]\n",
        " [ -3.61737037e+00  -4.29799128e+00]\n",
        " [ -2.41485524e+00  -5.09654045e+00]\n",
        " [ -2.29803014e+00  -5.41894245e+00]\n",
        " [ -7.44618845e+00  -3.89874172e+00]\n",
        " [ -7.72233486e+00  -3.73743582e+00]\n",
        " [  2.40057826e+00   2.14726782e+00]\n",
        " [  5.02401447e+00  -6.06610775e-01]\n",
        " [  1.85367453e+00   1.86841285e+00]\n",
        " [  2.23259497e+00  -8.41984093e-01]\n",
        " [ -4.01375182e-02   5.77746272e-01]\n",
        " [  4.35631752e+00  -8.71288776e-02]\n",
        " [  9.80937958e-01   2.14951515e+00]\n",
        " [ -3.70037293e+00   1.03382862e+00]\n",
        " [  3.44682169e+00   6.96215689e-01]\n",
        " [  3.58497000e+00   2.17940784e+00]\n",
        " [  1.53968430e+00   4.63243580e+00]\n",
        " [ -7.62806475e-01   4.04013395e+00]\n",
        " [  2.00346923e+00   2.78536201e+00]\n",
        " [  4.29351950e+00   3.51849842e+00]\n",
        " [  5.06182814e+00   2.45579767e+00]\n",
        " [ -9.41835165e-01   3.97072601e+00]\n",
        " [ -1.66579783e-01   1.31855679e+00]\n",
        " [  3.69271922e+00   2.71860456e+00]\n",
        " [  3.92093152e-01   4.87547350e+00]\n",
        " [  3.83334374e+00   1.68597651e+00]\n",
        " [  2.78393030e+00   7.98221767e-01]\n",
        " [  3.70412326e+00   1.29754007e+00]\n",
        " [  3.13288665e+00   6.16969168e-01]\n",
        " [  3.18493414e+00   1.16410148e+00]\n",
        " [  4.16597223e+00  -9.55850780e-01]\n",
        " [  3.89344215e+00   1.15797865e+00]\n",
        " [  2.86819935e+00   2.05908585e+00]\n",
        " [  3.16198301e+00   3.59274030e-01]\n",
        " [  4.70842695e+00   1.15969431e+00]\n",
        " [  2.67556429e+00   1.44999400e-01]\n",
        " [  8.56589019e-01   4.61892813e-01]\n",
        " [  2.60739994e+00   1.07324636e+00]\n",
        " [ -8.76514256e-01  -5.77731013e-01]\n",
        " [  1.39055610e+00  -1.66507101e+00]\n",
        " [  2.03060031e+00  -3.23380053e-01]\n",
        " [  1.15480494e+00   3.73472393e-01]\n",
        " [  2.09727168e+00  -3.19342166e-01]\n",
        " [  3.40545225e+00   5.70026100e-01]\n",
        " [  2.47344375e+00   1.56344736e+00]\n",
        " [ -2.89681172e+00   4.44220304e-02]\n",
        " [ -5.13695538e-01  -8.49383831e-01]\n",
        " [  1.53036380e+00  -1.25207677e-02]\n",
        " [ -2.18094683e+00  -1.62569880e+00]\n",
        " [ -2.10933900e+00   1.99568141e+00]\n",
        " [ -4.53648043e+00   4.11008120e-01]\n",
        " [ -2.71155643e+00   4.30931807e-01]\n",
        " [ -2.60535049e+00   1.20192170e+00]\n",
        " [ -6.90097952e+00   1.19975150e-01]\n",
        " [ -1.93786490e+00  -2.38676500e+00]\n",
        " [ -5.01791537e-01  -9.11584258e-01]\n",
        " [  1.88917494e+00   5.62808394e-01]\n",
        " [  2.12624645e+00  -1.48283362e+00]\n",
        " [  3.24768829e+00   4.29078728e-01]\n",
        " [ -1.70330971e-01  -2.04301071e+00]\n",
        " [ -2.76994258e-01  -1.74950409e+00]\n",
        " [ -3.58209997e-01   3.54974389e-01]\n",
        " [  5.99007785e-01  -1.67197978e+00]\n",
        " [  3.54232669e-01  -2.00631547e+00]\n",
        " [ -1.67431128e+00   3.00241500e-01]\n",
        " [  1.17179537e+00   4.17471886e-01]\n",
        " [ -2.65456390e+00   8.86280835e-01]\n",
        " [  1.83360398e+00  -4.93081617e+00]\n",
        " [  2.23477769e+00  -5.26884317e+00]\n",
        " [  2.22633338e+00  -4.82048988e+00]\n",
        " [  2.38485360e+00  -5.42963362e+00]\n",
        " [ -1.43122470e+00   1.22911513e+00]\n",
        " [  3.74328822e-01   7.22670853e-01]\n",
        " [ -2.60509777e+00   7.82656014e-01]\n",
        " [ -8.75735283e-01   1.47832894e+00]\n",
        " [  2.11028957e+00  -5.64476013e+00]\n",
        " [  4.48348427e+00  -3.01387548e+00]\n",
        " [  2.98194122e+00  -1.06903508e-01]\n",
        " [  3.97537065e+00   2.30461031e-01]\n",
        " [  3.24191666e+00  -3.40626359e+00]\n",
        " [  4.57238436e+00  -4.09627318e-01]\n",
        " [  4.46460247e+00  -3.71724319e+00]\n",
        " [  3.02845764e+00  -3.05944991e+00]\n",
        " [  2.02214599e+00  -2.12766075e+00]\n",
        " [  3.78487182e+00  -2.44988394e+00]\n",
        " [  3.51240158e+00  -2.07987404e+00]\n",
        " [ -1.82376707e+00  -2.52667785e+00]\n",
        " [  8.17929327e-01  -2.78591156e+00]\n",
        " [  4.43626672e-01  -2.42720151e+00]\n",
        " [  1.42781091e+00  -2.38534093e+00]\n",
        " [ -1.80310559e+00  -6.93271756e-01]\n",
        " [ -4.34632254e+00  -1.72705400e+00]\n",
        " [ -2.38750362e+00  -1.48058391e+00]\n",
        " [ -3.04099202e-01  -1.88023496e+00]\n",
        " [ -3.23996997e+00  -7.95087159e-01]\n",
        " [  8.52174401e-01  -3.00714636e+00]\n",
        " [  2.28727627e+00  -4.53817701e+00]\n",
        " [  2.40717602e+00  -4.65924978e+00]\n",
        " [  2.32234025e+00  -4.00870132e+00]\n",
        " [  5.81250370e-01  -2.84542084e+00]\n",
        " [  1.79186106e+00  -3.36514235e+00]\n",
        " [  2.29186964e+00  -4.45257807e+00]\n",
        " [  2.01520991e+00  -3.87035656e+00]\n",
        " [  2.17912436e+00  -4.13322496e+00]\n",
        " [  2.25068974e+00  -4.10283518e+00]\n",
        " [  2.14940119e+00  -3.99036884e+00]\n",
        " [  9.40178931e-02  -1.08245325e+00]\n",
        " [  1.68446743e+00  -1.45941150e+00]\n",
        " [ -2.45226479e+00  -1.89592838e-01]\n",
        " [  1.84795761e+00  -5.41451871e-01]\n",
        " [ -7.37167740e+00   1.59091508e+00]\n",
        " [  8.91366005e-01   1.80196524e+00]\n",
        " [  2.25213981e+00   1.12975359e+00]\n",
        " [ -2.07373261e-01   1.67454791e+00]\n",
        " [ -7.28440809e+00   9.68251765e-01]\n",
        " [ -6.44217110e+00   1.77045786e+00]\n",
        " [ -1.96356022e+00  -3.72815275e+00]\n",
        " [ -5.03468418e+00  -4.44512320e+00]\n",
        " [ -5.17637730e+00  -2.17360258e+00]\n",
        " [ -4.68188334e+00  -1.80382824e+00]\n",
        " [ -2.16728520e+00  -4.35627413e+00]\n",
        " [ -4.50733328e+00  -5.22517586e+00]\n",
        " [ -5.05371428e+00  -5.11961222e+00]\n",
        " [ -3.51439404e+00  -2.83996034e+00]\n",
        " [ -2.29538965e+00  -2.92555690e+00]\n",
        " [ -3.43160653e+00  -1.61298871e+00]\n",
        " [ -2.26870871e+00   6.14357948e+00]\n",
        " [  2.28529501e+00   2.69748235e+00]\n",
        " [ -2.60853791e+00   5.65799093e+00]\n",
        " [  2.28927612e+00   3.19913626e+00]\n",
        " [  2.80983615e+00   2.89524817e+00]\n",
        " [  2.06545234e+00   3.37351084e+00]\n",
        " [ -7.84430087e-01   6.09704924e+00]\n",
        " [  2.36186886e+00   3.56644893e+00]\n",
        " [ -2.44682479e+00   5.75668478e+00]\n",
        " [ -2.58863735e+00   6.33847523e+00]\n",
        " [ -4.53590584e+00   3.01098490e+00]\n",
        " [  2.05777645e+00   3.59042192e+00]\n",
        " [  2.63670707e+00   3.33531952e+00]\n",
        " [  9.33792949e-01   3.09048343e+00]\n",
        " [  1.89954007e+00   3.68938422e+00]\n",
        " [ -1.94551194e+00   3.64044023e+00]\n",
        " [  2.01606131e+00   3.06930017e+00]\n",
        " [  3.22899556e+00   3.59440637e+00]\n",
        " [ -4.25185633e+00   3.16492820e+00]\n",
        " [  6.63345605e-02   3.54356027e+00]\n",
        " [  1.27819335e+00  -6.70130432e-01]\n",
        " [  3.02113056e+00  -1.35544837e+00]\n",
        " [ -3.59349585e+00  -1.57004356e+00]\n",
        " [ -1.25236392e+00  -1.56564760e+00]\n",
        " [  1.74235511e+00  -1.34703779e+00]\n",
        " [ -3.00932944e-01  -2.16490579e+00]\n",
        " [  2.49696493e+00  -4.56957012e-01]\n",
        " [  2.32890511e+00  -6.38987064e-01]\n",
        " [  1.64182043e+00  -8.14527214e-01]\n",
        " [ -1.02628493e+00  -1.47405314e+00]\n",
        " [  1.79320884e+00   3.33859134e+00]\n",
        " [ -3.28047752e+00   1.90469360e+00]\n",
        " [ -1.71633315e+00   2.49217558e+00]\n",
        " [ -2.71189094e+00   8.83359730e-01]\n",
        " [ -2.84304070e+00   2.02184749e+00]\n",
        " [  9.03362215e-01   2.74297833e+00]\n",
        " [ -6.67284012e+00   1.75289676e-01]\n",
        " [  1.80155659e+00   3.34636736e+00]\n",
        " [ -8.89668465e+00  -5.47777295e-01]\n",
        " [ -2.60682940e+00   1.18248749e+00]]\n"
       ]
      }
     ],
     "prompt_number": 20
    },
    {
     "cell_type": "code",
     "collapsed": false,
     "input": [
      "target = data.target\n",
      "face_range = np.arange(400)\n",
      "len(y)"
     ],
     "language": "python",
     "metadata": {},
     "outputs": [
      {
       "metadata": {},
       "output_type": "pyout",
       "prompt_number": 21,
       "text": [
        "400"
       ]
      }
     ],
     "prompt_number": 21
    },
    {
     "cell_type": "code",
     "collapsed": false,
     "input": [
      "plt.scatter(X_two[:,0], X_two[:,1])\n",
      "plt.show()"
     ],
     "language": "python",
     "metadata": {},
     "outputs": [
      {
       "metadata": {},
       "output_type": "display_data",
       "png": "[encoded data removed]",
       "text": [
        "<matplotlib.figure.Figure at 0x10b81e750>"
       ]
      }
     ],
     "prompt_number": 22
    },
    {
     "cell_type": "markdown",
     "metadata": {},
     "source": [
      "The clustering does not accurately capture enough information to accurately map to specific individuals. "
     ]
    },
    {
     "cell_type": "heading",
     "level": 4,
     "metadata": {},
     "source": [
      "Question 4: Implement K-Clustering on the data set"
     ]
    },
    {
     "cell_type": "code",
     "collapsed": false,
     "input": [
      "from sklearn.cluster import KMeans\n",
      "\n",
      "#Initializing cluster with n_clusters = 64 (the number of people in the data set)\n",
      "km = KMeans(n_clusters=64,  init='random', n_init=1 , max_iter = 1, random_state=1)"
     ],
     "language": "python",
     "metadata": {},
     "outputs": [],
     "prompt_number": 23
    },
    {
     "cell_type": "code",
     "collapsed": false,
     "input": [
      "km.fit(X_centered)"
     ],
     "language": "python",
     "metadata": {},
     "outputs": [
      {
       "metadata": {},
       "output_type": "pyout",
       "prompt_number": 24,
       "text": [
        "KMeans(copy_x=True, init='random', max_iter=1, n_clusters=64, n_init=1,\n",
        "    n_jobs=1, precompute_distances=True, random_state=1, tol=0.0001,\n",
        "    verbose=0)"
       ]
      }
     ],
     "prompt_number": 24
    },
    {
     "cell_type": "code",
     "collapsed": false,
     "input": [
      "centroids = km.cluster_centers_\n",
      "centroids"
     ],
     "language": "python",
     "metadata": {},
     "outputs": [
      {
       "metadata": {},
       "output_type": "pyout",
       "prompt_number": 25,
       "text": [
        "array([[-0.19575296, -0.23729207, -0.23305652, ...,  0.20941232,\n",
        "         0.23536258,  0.2501251 ],\n",
        "       [ 0.2416202 ,  0.20889655,  0.17373815, ..., -0.06809055,\n",
        "        -0.05068022, -0.054375  ],\n",
        "       [-0.19390592, -0.24246984, -0.28141611, ...,  0.44369738,\n",
        "         0.45663111,  0.31519529],\n",
        "       ..., \n",
        "       [-0.19072741, -0.19085238, -0.14520269, ..., -0.1267008 ,\n",
        "        -0.11204529, -0.11757661],\n",
        "       [-0.17432174, -0.16710052, -0.11685946, ..., -0.18513443,\n",
        "        -0.16359187, -0.15764478],\n",
        "       [-0.06530418, -0.05291768, -0.03091353, ..., -0.09815544,\n",
        "        -0.07799029, -0.05568645]])"
       ]
      }
     ],
     "prompt_number": 25
    },
    {
     "cell_type": "code",
     "collapsed": false,
     "input": [
      "y = km.predict(X_centered)\n",
      "print y"
     ],
     "language": "python",
     "metadata": {},
     "outputs": [
      {
       "output_type": "stream",
       "stream": "stdout",
       "text": [
        "[34 31 34  0 31 17 34 55 34 31 24 53 24 24 53 53 24 24 53 24 38 15 15 27 29\n",
        " 26 45 29  8  8 52 15 27 15 15 29 10 52 15  1 27 16 16 27 36 36 27 27 36 36\n",
        "  7  7 54 27 36 27 36 41 36 27 61 61 43 61 61 50 61 61 43 61 62 62 12 25 12\n",
        " 12 25 12 18 25 35 30 35 45 35 45 45 45 35 30  8  8 25 25 38 38 25  8  0 10\n",
        " 37 37 37 37 60 37 60 60 37 37 57 58 51 21 58 52 58 57 57 57 20 21 20 20  8\n",
        "  1 29 52 41 20 39 39 39 39 39 39 39 39 39 39  7 10  7  7  7  7  7 54  7  7\n",
        " 61 34 34 10 10 61  1 22 34 34 58 58 63 63 10 32 32 19 32 32 42 42  4 42 10\n",
        "  4  8  4 42  4 63 63 63 12 12 63 12 12 12 12  7  7  7 10  6 10  6  6  6  7\n",
        " 41 27 27 41 41 41 29 29 41 29 23 23 23 23 23 46 23 23 23 23 58 15 30 19 30\n",
        " 51 51 15 51 52 34 34 32 22 62 22 34 22 22 22 21 21 21 19 51 21 63 51 21 21\n",
        " 58 58 58 58 15 58 58 58 58 21 21 40 40 21 40 40 63 21 40 21 33 49 56 56 49\n",
        " 33 49 33 49 56 46 46 22 55  9 55 55  9 22 46  7  7  7 54 54 54 54 54 27 54\n",
        " 47  3  3  3  3 47 54 47 47  3 12 48 48 12 48 12  7 12 12 12  2 14 14 14 13\n",
        "  2  2 13  2 14  3  3  3  3  3  3  3  3  3  3 54 54  5 54  0 41 41 41  5 36\n",
        " 27 22 36 36 61 20 22 27 10 27 59 28 59 28 28 28 26 28 59 26 52 16 11 11 11\n",
        " 11 11 11 36 11 46  7 22 46 46 44 15 15 46 46 38 55 38 51 55 38  0 38  0  4]\n"
       ]
      }
     ],
     "prompt_number": 26
    },
    {
     "cell_type": "code",
     "collapsed": false,
     "input": [
      "fig, ax = plt.subplots(1,1, figsize=(8,8))\n",
      "for t,marker,c in zip(xrange(64),\">ox+\",\"rgby\") :\n",
      "    ax.scatter(X_centered[y == t,0],\n",
      "                X_centered[y == t,1],\n",
      "                marker=marker,\n",
      "                c=c)\n",
      "\n",
      "ax.scatter(centroids[:,0],centroids[:,1],marker = 's',c='r')"
     ],
     "language": "python",
     "metadata": {},
     "outputs": [
      {
       "metadata": {},
       "output_type": "pyout",
       "prompt_number": 27,
       "text": [
        "<matplotlib.collections.PathCollection at 0x10d253e10>"
       ]
      },
      {
       "metadata": {},
       "output_type": "display_data",
       "png": "[encoded data removed]",
       "text": [
        "<matplotlib.figure.Figure at 0x10d2149d0>"
       ]
      }
     ],
     "prompt_number": 27
    },
    {
     "cell_type": "heading",
     "level": 4,
     "metadata": {},
     "source": [
      "Question 5: Vary number of 1 < K < 4096. "
     ]
    },
    {
     "cell_type": "code",
     "collapsed": false,
     "input": [
      "from sklearn import metrics\n",
      "from sklearn.metrics import pairwise_distances\n",
      "\n",
      "for k in xrange(4096):\n",
      "    km = KMeans(n_clusters=3, random_state=1)\n",
      "    km.fit(X_centered)\n",
      "    labels = km.labels_\n",
      "#     print k, metrics.silhouette_score(X_centered, labels, metric='euclidean')\n"
     ],
     "language": "python",
     "metadata": {},
     "outputs": []
    },
    {
     "cell_type": "code",
     "collapsed": false,
     "input": [
      "fig, ax = plt.subplots(1,1, figsize=(8,8))\n",
      "\n",
      "for t,marker,c,n in zip(xrange(64),\">ox\",\"rgb\",labels):\n",
      "    ax.scatter(X_centered[labels == t,1],\n",
      "               X_centered[labels == t,3],\n",
      "               marker=marker,\n",
      "               c=c,\n",
      "               label=n)\n",
      "    \n",
      "plt.xlabel('Silhouette Score vs. K')\n",
      "plt.ylabel('Silhouette Score')\n",
      "plt.title('K')\n",
      "plt.show()"
     ],
     "language": "python",
     "metadata": {},
     "outputs": [
      {
       "metadata": {},
       "output_type": "display_data",
       "png": "[encoded data removed]",
       "text": [
        "<matplotlib.figure.Figure at 0x10c96c7d0>"
       ]
      }
     ],
     "prompt_number": 32
    }
   ],
   "metadata": {}
  }
 ]
}