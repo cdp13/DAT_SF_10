{
 "metadata": {
  "name": "",
  "signature": "sha256:36897e7c4f4659c9e9d411c590f1f82b88d82da0b838bce79dc1351a8561dd3d"
 },
 "nbformat": 3,
 "nbformat_minor": 0,
 "worksheets": [
  {
   "cells": [
    {
     "cell_type": "heading",
     "level": 4,
     "metadata": {},
     "source": [
      "Question 1: Explor bank.csv data"
     ]
    },
    {
     "cell_type": "code",
     "collapsed": false,
     "input": [
      "import pandas as pd\n",
      "\n",
      "data = pd.read_csv('bank.csv', header=0, sep=';')\n",
      "\n",
      "data.info()"
     ],
     "language": "python",
     "metadata": {},
     "outputs": [
      {
       "output_type": "stream",
       "stream": "stdout",
       "text": [
        "<class 'pandas.core.frame.DataFrame'>\n",
        "Int64Index: 4521 entries, 0 to 4520\n",
        "Data columns (total 17 columns):\n",
        "age          4521 non-null int64\n",
        "job          4521 non-null object\n",
        "marital      4521 non-null object\n",
        "education    4521 non-null object\n",
        "default      4521 non-null object\n",
        "balance      4521 non-null int64\n",
        "housing      4521 non-null object\n",
        "loan         4521 non-null object\n",
        "contact      4521 non-null object\n",
        "day          4521 non-null int64\n",
        "month        4521 non-null object\n",
        "duration     4521 non-null int64\n",
        "campaign     4521 non-null int64\n",
        "pdays        4521 non-null int64\n",
        "previous     4521 non-null int64\n",
        "poutcome     4521 non-null object\n",
        "y            4521 non-null object\n",
        "dtypes: int64(7), object(10)"
       ]
      }
     ],
     "prompt_number": 1
    },
    {
     "cell_type": "markdown",
     "metadata": {},
     "source": [
      "Here, we see that our data is a mix of categorical strings and integers (some binary, some continuous).\n",
      "So we will need to transform all of the object the data and standardize for our analysis."
     ]
    },
    {
     "cell_type": "heading",
     "level": 4,
     "metadata": {},
     "source": [
      "Question 2: Transform the features to numerical features"
     ]
    },
    {
     "cell_type": "code",
     "collapsed": false,
     "input": [
      "import numpy as np\n",
      "from sklearn import preprocessing\n",
      "\n",
      "le = preprocessing.LabelEncoder()"
     ],
     "language": "python",
     "metadata": {},
     "outputs": [],
     "prompt_number": 2
    },
    {
     "cell_type": "code",
     "collapsed": false,
     "input": [
      "data.head()"
     ],
     "language": "python",
     "metadata": {},
     "outputs": [
      {
       "html": [
        "<div style=\"max-height:1000px;max-width:1500px;overflow:auto;\">\n",
        "<table border=\"1\" class=\"dataframe\">\n",
        "  <thead>\n",
        "    <tr style=\"text-align: right;\">\n",
        "      <th></th>\n",
        "      <th>age</th>\n",
        "      <th>job</th>\n",
        "      <th>marital</th>\n",
        "      <th>education</th>\n",
        "      <th>default</th>\n",
        "      <th>balance</th>\n",
        "      <th>housing</th>\n",
        "      <th>loan</th>\n",
        "      <th>contact</th>\n",
        "      <th>day</th>\n",
        "      <th>month</th>\n",
        "      <th>duration</th>\n",
        "      <th>campaign</th>\n",
        "      <th>pdays</th>\n",
        "      <th>previous</th>\n",
        "      <th>poutcome</th>\n",
        "      <th>y</th>\n",
        "    </tr>\n",
        "  </thead>\n",
        "  <tbody>\n",
        "    <tr>\n",
        "      <th>0</th>\n",
        "      <td> 30</td>\n",
        "      <td>  unemployed</td>\n",
        "      <td> married</td>\n",
        "      <td>   primary</td>\n",
        "      <td> no</td>\n",
        "      <td> 1787</td>\n",
        "      <td>  no</td>\n",
        "      <td>  no</td>\n",
        "      <td> cellular</td>\n",
        "      <td> 19</td>\n",
        "      <td> oct</td>\n",
        "      <td>  79</td>\n",
        "      <td> 1</td>\n",
        "      <td>  -1</td>\n",
        "      <td> 0</td>\n",
        "      <td> unknown</td>\n",
        "      <td> no</td>\n",
        "    </tr>\n",
        "    <tr>\n",
        "      <th>1</th>\n",
        "      <td> 33</td>\n",
        "      <td>    services</td>\n",
        "      <td> married</td>\n",
        "      <td> secondary</td>\n",
        "      <td> no</td>\n",
        "      <td> 4789</td>\n",
        "      <td> yes</td>\n",
        "      <td> yes</td>\n",
        "      <td> cellular</td>\n",
        "      <td> 11</td>\n",
        "      <td> may</td>\n",
        "      <td> 220</td>\n",
        "      <td> 1</td>\n",
        "      <td> 339</td>\n",
        "      <td> 4</td>\n",
        "      <td> failure</td>\n",
        "      <td> no</td>\n",
        "    </tr>\n",
        "    <tr>\n",
        "      <th>2</th>\n",
        "      <td> 35</td>\n",
        "      <td>  management</td>\n",
        "      <td>  single</td>\n",
        "      <td>  tertiary</td>\n",
        "      <td> no</td>\n",
        "      <td> 1350</td>\n",
        "      <td> yes</td>\n",
        "      <td>  no</td>\n",
        "      <td> cellular</td>\n",
        "      <td> 16</td>\n",
        "      <td> apr</td>\n",
        "      <td> 185</td>\n",
        "      <td> 1</td>\n",
        "      <td> 330</td>\n",
        "      <td> 1</td>\n",
        "      <td> failure</td>\n",
        "      <td> no</td>\n",
        "    </tr>\n",
        "    <tr>\n",
        "      <th>3</th>\n",
        "      <td> 30</td>\n",
        "      <td>  management</td>\n",
        "      <td> married</td>\n",
        "      <td>  tertiary</td>\n",
        "      <td> no</td>\n",
        "      <td> 1476</td>\n",
        "      <td> yes</td>\n",
        "      <td> yes</td>\n",
        "      <td>  unknown</td>\n",
        "      <td>  3</td>\n",
        "      <td> jun</td>\n",
        "      <td> 199</td>\n",
        "      <td> 4</td>\n",
        "      <td>  -1</td>\n",
        "      <td> 0</td>\n",
        "      <td> unknown</td>\n",
        "      <td> no</td>\n",
        "    </tr>\n",
        "    <tr>\n",
        "      <th>4</th>\n",
        "      <td> 59</td>\n",
        "      <td> blue-collar</td>\n",
        "      <td> married</td>\n",
        "      <td> secondary</td>\n",
        "      <td> no</td>\n",
        "      <td>    0</td>\n",
        "      <td> yes</td>\n",
        "      <td>  no</td>\n",
        "      <td>  unknown</td>\n",
        "      <td>  5</td>\n",
        "      <td> may</td>\n",
        "      <td> 226</td>\n",
        "      <td> 1</td>\n",
        "      <td>  -1</td>\n",
        "      <td> 0</td>\n",
        "      <td> unknown</td>\n",
        "      <td> no</td>\n",
        "    </tr>\n",
        "  </tbody>\n",
        "</table>\n",
        "</div>"
       ],
       "metadata": {},
       "output_type": "pyout",
       "prompt_number": 3,
       "text": [
        "   age          job  marital  education default  balance housing loan  \\\n",
        "0   30   unemployed  married    primary      no     1787      no   no   \n",
        "1   33     services  married  secondary      no     4789     yes  yes   \n",
        "2   35   management   single   tertiary      no     1350     yes   no   \n",
        "3   30   management  married   tertiary      no     1476     yes  yes   \n",
        "4   59  blue-collar  married  secondary      no        0     yes   no   \n",
        "\n",
        "    contact  day month  duration  campaign  pdays  previous poutcome   y  \n",
        "0  cellular   19   oct        79         1     -1         0  unknown  no  \n",
        "1  cellular   11   may       220         1    339         4  failure  no  \n",
        "2  cellular   16   apr       185         1    330         1  failure  no  \n",
        "3   unknown    3   jun       199         4     -1         0  unknown  no  \n",
        "4   unknown    5   may       226         1     -1         0  unknown  no  "
       ]
      }
     ],
     "prompt_number": 3
    },
    {
     "cell_type": "code",
     "collapsed": false,
     "input": [
      "# col_name = data.iloc[0,1]\n",
      "# print col_name\n",
      "\n",
      "def encode_col(col_name, df):\n",
      "    col = df[col_name]\n",
      "    unique_names = np.unique(col)\n",
      "    \n",
      "    classes = []\n",
      "    for i in unique_names:\n",
      "        classes.append(i)\n",
      "        \n",
      "    le.fit(classes)\n",
      "    df[col_name] = le.transform(df[col_name])"
     ],
     "language": "python",
     "metadata": {},
     "outputs": [],
     "prompt_number": 4
    },
    {
     "cell_type": "code",
     "collapsed": false,
     "input": [
      "encode_col('job', data)\n",
      "encode_col('marital', data)\n",
      "encode_col('education', data)\n",
      "encode_col('default', data)\n",
      "encode_col('housing', data)\n",
      "encode_col('loan', data)\n",
      "encode_col('contact', data)\n",
      "encode_col('month', data)\n",
      "encode_col('poutcome', data)\n",
      "encode_col('y', data)"
     ],
     "language": "python",
     "metadata": {},
     "outputs": [],
     "prompt_number": 5
    },
    {
     "cell_type": "code",
     "collapsed": false,
     "input": [
      "data.head()"
     ],
     "language": "python",
     "metadata": {},
     "outputs": [
      {
       "html": [
        "<div style=\"max-height:1000px;max-width:1500px;overflow:auto;\">\n",
        "<table border=\"1\" class=\"dataframe\">\n",
        "  <thead>\n",
        "    <tr style=\"text-align: right;\">\n",
        "      <th></th>\n",
        "      <th>age</th>\n",
        "      <th>job</th>\n",
        "      <th>marital</th>\n",
        "      <th>education</th>\n",
        "      <th>default</th>\n",
        "      <th>balance</th>\n",
        "      <th>housing</th>\n",
        "      <th>loan</th>\n",
        "      <th>contact</th>\n",
        "      <th>day</th>\n",
        "      <th>month</th>\n",
        "      <th>duration</th>\n",
        "      <th>campaign</th>\n",
        "      <th>pdays</th>\n",
        "      <th>previous</th>\n",
        "      <th>poutcome</th>\n",
        "      <th>y</th>\n",
        "    </tr>\n",
        "  </thead>\n",
        "  <tbody>\n",
        "    <tr>\n",
        "      <th>0</th>\n",
        "      <td> 30</td>\n",
        "      <td> 10</td>\n",
        "      <td> 1</td>\n",
        "      <td> 0</td>\n",
        "      <td> 0</td>\n",
        "      <td> 1787</td>\n",
        "      <td> 0</td>\n",
        "      <td> 0</td>\n",
        "      <td> 0</td>\n",
        "      <td> 19</td>\n",
        "      <td> 10</td>\n",
        "      <td>  79</td>\n",
        "      <td> 1</td>\n",
        "      <td>  -1</td>\n",
        "      <td> 0</td>\n",
        "      <td> 3</td>\n",
        "      <td> 0</td>\n",
        "    </tr>\n",
        "    <tr>\n",
        "      <th>1</th>\n",
        "      <td> 33</td>\n",
        "      <td>  7</td>\n",
        "      <td> 1</td>\n",
        "      <td> 1</td>\n",
        "      <td> 0</td>\n",
        "      <td> 4789</td>\n",
        "      <td> 1</td>\n",
        "      <td> 1</td>\n",
        "      <td> 0</td>\n",
        "      <td> 11</td>\n",
        "      <td>  8</td>\n",
        "      <td> 220</td>\n",
        "      <td> 1</td>\n",
        "      <td> 339</td>\n",
        "      <td> 4</td>\n",
        "      <td> 0</td>\n",
        "      <td> 0</td>\n",
        "    </tr>\n",
        "    <tr>\n",
        "      <th>2</th>\n",
        "      <td> 35</td>\n",
        "      <td>  4</td>\n",
        "      <td> 2</td>\n",
        "      <td> 2</td>\n",
        "      <td> 0</td>\n",
        "      <td> 1350</td>\n",
        "      <td> 1</td>\n",
        "      <td> 0</td>\n",
        "      <td> 0</td>\n",
        "      <td> 16</td>\n",
        "      <td>  0</td>\n",
        "      <td> 185</td>\n",
        "      <td> 1</td>\n",
        "      <td> 330</td>\n",
        "      <td> 1</td>\n",
        "      <td> 0</td>\n",
        "      <td> 0</td>\n",
        "    </tr>\n",
        "    <tr>\n",
        "      <th>3</th>\n",
        "      <td> 30</td>\n",
        "      <td>  4</td>\n",
        "      <td> 1</td>\n",
        "      <td> 2</td>\n",
        "      <td> 0</td>\n",
        "      <td> 1476</td>\n",
        "      <td> 1</td>\n",
        "      <td> 1</td>\n",
        "      <td> 2</td>\n",
        "      <td>  3</td>\n",
        "      <td>  6</td>\n",
        "      <td> 199</td>\n",
        "      <td> 4</td>\n",
        "      <td>  -1</td>\n",
        "      <td> 0</td>\n",
        "      <td> 3</td>\n",
        "      <td> 0</td>\n",
        "    </tr>\n",
        "    <tr>\n",
        "      <th>4</th>\n",
        "      <td> 59</td>\n",
        "      <td>  1</td>\n",
        "      <td> 1</td>\n",
        "      <td> 1</td>\n",
        "      <td> 0</td>\n",
        "      <td>    0</td>\n",
        "      <td> 1</td>\n",
        "      <td> 0</td>\n",
        "      <td> 2</td>\n",
        "      <td>  5</td>\n",
        "      <td>  8</td>\n",
        "      <td> 226</td>\n",
        "      <td> 1</td>\n",
        "      <td>  -1</td>\n",
        "      <td> 0</td>\n",
        "      <td> 3</td>\n",
        "      <td> 0</td>\n",
        "    </tr>\n",
        "  </tbody>\n",
        "</table>\n",
        "</div>"
       ],
       "metadata": {},
       "output_type": "pyout",
       "prompt_number": 6,
       "text": [
        "   age  job  marital  education  default  balance  housing  loan  contact  \\\n",
        "0   30   10        1          0        0     1787        0     0        0   \n",
        "1   33    7        1          1        0     4789        1     1        0   \n",
        "2   35    4        2          2        0     1350        1     0        0   \n",
        "3   30    4        1          2        0     1476        1     1        2   \n",
        "4   59    1        1          1        0        0        1     0        2   \n",
        "\n",
        "   day  month  duration  campaign  pdays  previous  poutcome  y  \n",
        "0   19     10        79         1     -1         0         3  0  \n",
        "1   11      8       220         1    339         4         0  0  \n",
        "2   16      0       185         1    330         1         0  0  \n",
        "3    3      6       199         4     -1         0         3  0  \n",
        "4    5      8       226         1     -1         0         3  0  "
       ]
      }
     ],
     "prompt_number": 6
    },
    {
     "cell_type": "heading",
     "level": 4,
     "metadata": {},
     "source": [
      "Question 3: Build a simple decision tree model to predict classification goal"
     ]
    },
    {
     "cell_type": "code",
     "collapsed": false,
     "input": [
      "# decision tree classifier\n",
      "\n",
      "from sklearn import tree\n",
      "\n",
      "model = tree.DecisionTreeClassifier(random_state=0)"
     ],
     "language": "python",
     "metadata": {},
     "outputs": [],
     "prompt_number": 7
    },
    {
     "cell_type": "code",
     "collapsed": false,
     "input": [
      "data_target = data['y']"
     ],
     "language": "python",
     "metadata": {},
     "outputs": [],
     "prompt_number": 8
    },
    {
     "cell_type": "code",
     "collapsed": false,
     "input": [
      "data_features = data.copy(deep=True)\n",
      "data_features = data_features.drop('y', axis=1)"
     ],
     "language": "python",
     "metadata": {},
     "outputs": [],
     "prompt_number": 9
    },
    {
     "cell_type": "code",
     "collapsed": false,
     "input": [
      "from sklearn.cross_validation import train_test_split\n",
      "\n",
      "X_train, X_test, y_train, y_test = train_test_split(data_features, data_target, test_size=0.2, random_state=0)"
     ],
     "language": "python",
     "metadata": {},
     "outputs": [],
     "prompt_number": 10
    },
    {
     "cell_type": "code",
     "collapsed": false,
     "input": [
      "model.fit(X_train, y_train)"
     ],
     "language": "python",
     "metadata": {},
     "outputs": [
      {
       "metadata": {},
       "output_type": "pyout",
       "prompt_number": 11,
       "text": [
        "DecisionTreeClassifier(compute_importances=None, criterion='gini',\n",
        "            max_depth=None, max_features=None, min_density=None,\n",
        "            min_samples_leaf=1, min_samples_split=2, random_state=0,\n",
        "            splitter='best')"
       ]
      }
     ],
     "prompt_number": 11
    },
    {
     "cell_type": "code",
     "collapsed": false,
     "input": [
      "print model.predict(X_test)\n",
      "\n",
      "# print data.y"
     ],
     "language": "python",
     "metadata": {},
     "outputs": [
      {
       "output_type": "stream",
       "stream": "stdout",
       "text": [
        "[0 0 0 0 0 0 0 0 0 1 0 0 0 0 0 1 0 0 0 0 0 1 0 0 0 1 0 0 0 0 0 0 0 0 1 0 0\n",
        " 0 1 0 0 0 0 0 0 1 0 1 0 0 0 0 0 0 0 1 0 0 0 0 1 0 0 0 0 0 0 0 0 0 0 0 0 0\n",
        " 0 0 1 0 0 0 0 1 0 0 0 0 0 0 0 0 0 0 0 0 0 0 0 0 0 0 1 0 0 1 0 0 0 0 0 0 0\n",
        " 0 0 0 0 0 1 0 0 0 0 0 0 0 0 0 0 0 0 0 0 0 0 1 0 0 0 0 0 0 0 0 0 0 0 1 0 0\n",
        " 0 1 0 0 0 0 0 1 0 0 0 0 0 0 1 0 0 0 1 0 0 0 0 0 0 0 0 0 0 0 0 0 0 0 0 0 0\n",
        " 0 0 0 0 1 0 0 0 0 0 0 0 0 0 0 0 0 0 0 1 0 0 0 0 0 1 0 0 0 0 0 0 0 0 0 0 0\n",
        " 1 1 0 1 0 0 0 0 0 0 0 0 0 0 0 0 0 0 0 0 0 0 0 0 1 0 0 0 0 0 0 1 0 0 0 1 0\n",
        " 0 0 0 0 0 0 1 0 0 0 1 0 0 0 0 0 0 0 1 0 0 0 0 0 0 0 0 0 0 0 0 0 0 0 0 0 0\n",
        " 0 1 0 0 0 0 0 0 0 0 0 0 1 1 0 0 0 0 0 0 0 0 0 0 0 0 0 0 0 0 0 0 0 0 0 0 0\n",
        " 0 0 0 1 0 0 0 0 0 0 0 0 0 0 0 0 0 0 0 1 0 0 0 0 1 0 0 0 0 0 0 1 0 0 0 0 0\n",
        " 1 0 0 0 1 0 0 0 1 0 0 0 0 0 0 0 0 0 0 0 0 0 0 0 0 0 1 0 0 0 0 1 0 0 0 0 0\n",
        " 0 0 0 0 0 0 0 0 0 1 0 0 0 1 0 0 0 0 0 0 0 1 1 0 0 0 0 0 0 0 0 0 0 0 0 0 0\n",
        " 0 0 0 1 0 0 1 0 0 0 1 1 0 0 1 0 0 0 0 0 0 0 1 1 0 0 0 0 0 0 0 0 0 0 1 0 0\n",
        " 0 0 0 0 0 0 0 0 0 0 0 0 0 0 0 0 0 0 0 0 0 0 0 0 0 0 1 0 0 0 0 0 0 0 0 0 0\n",
        " 0 0 0 1 0 0 0 0 0 0 0 0 0 0 0 0 0 0 0 0 1 0 1 0 0 0 0 0 0 0 1 0 0 0 0 0 0\n",
        " 1 1 0 0 0 0 0 0 0 0 0 1 0 0 0 0 0 1 0 0 0 0 0 0 0 0 0 0 0 0 0 1 0 0 0 0 0\n",
        " 0 0 0 0 0 0 0 0 0 0 0 0 0 0 0 0 0 0 0 0 0 0 1 0 0 1 0 0 0 0 0 0 1 0 0 0 1\n",
        " 1 0 0 0 0 0 0 0 0 0 0 0 0 1 0 1 0 0 0 0 0 0 1 1 0 0 0 0 0 0 1 0 0 0 0 0 0\n",
        " 0 0 0 0 0 1 0 0 0 0 0 0 0 0 0 0 0 0 0 0 0 0 0 0 0 1 0 0 0 0 0 0 0 0 0 0 0\n",
        " 0 0 0 0 0 0 0 0 1 0 0 0 0 0 0 0 0 0 0 0 0 0 0 0 0 1 1 0 0 0 0 0 0 0 0 0 1\n",
        " 0 0 1 0 0 0 0 0 0 0 0 0 0 0 0 0 0 0 0 0 0 0 0 0 0 0 0 1 0 0 0 0 0 1 0 0 0\n",
        " 1 0 0 0 0 0 0 0 1 1 0 0 0 0 0 0 0 0 0 0 0 0 0 0 0 0 0 0 0 0 0 0 0 1 0 1 0\n",
        " 0 0 0 0 0 0 0 0 0 0 1 0 0 0 0 0 0 0 0 1 0 0 1 0 0 0 0 0 0 0 0 0 0 0 0 0 0\n",
        " 1 0 1 0 0 0 0 0 0 0 0 0 1 0 0 0 0 0 0 1 0 1 0 0 0 0 0 0 0 0 0 0 0 0 0 0 0\n",
        " 1 0 0 0 0 0 0 0 0 0 0 1 0 1 0 0 1]\n"
       ]
      }
     ],
     "prompt_number": 12
    },
    {
     "cell_type": "code",
     "collapsed": false,
     "input": [
      "pd.crosstab(data.y, model.predict(data_features)).apply(lambda r: r/r.sum(), axis=1)"
     ],
     "language": "python",
     "metadata": {},
     "outputs": [
      {
       "html": [
        "<div style=\"max-height:1000px;max-width:1500px;overflow:auto;\">\n",
        "<table border=\"1\" class=\"dataframe\">\n",
        "  <thead>\n",
        "    <tr style=\"text-align: right;\">\n",
        "      <th>col_0</th>\n",
        "      <th>0</th>\n",
        "      <th>1</th>\n",
        "    </tr>\n",
        "    <tr>\n",
        "      <th>y</th>\n",
        "      <th></th>\n",
        "      <th></th>\n",
        "    </tr>\n",
        "  </thead>\n",
        "  <tbody>\n",
        "    <tr>\n",
        "      <th>0</th>\n",
        "      <td> 0.986500</td>\n",
        "      <td> 0.013500</td>\n",
        "    </tr>\n",
        "    <tr>\n",
        "      <th>1</th>\n",
        "      <td> 0.120921</td>\n",
        "      <td> 0.879079</td>\n",
        "    </tr>\n",
        "  </tbody>\n",
        "</table>\n",
        "</div>"
       ],
       "metadata": {},
       "output_type": "pyout",
       "prompt_number": 13,
       "text": [
        "col_0         0         1\n",
        "y                        \n",
        "0      0.986500  0.013500\n",
        "1      0.120921  0.879079"
       ]
      }
     ],
     "prompt_number": 13
    },
    {
     "cell_type": "heading",
     "level": 4,
     "metadata": {},
     "source": [
      "Question 4: Evaluate Classification with Cross-Validation"
     ]
    },
    {
     "cell_type": "code",
     "collapsed": false,
     "input": [
      "from sklearn.cross_validation import KFold\n",
      "\n",
      "def cross_validate(X, y, classifier, k_fold) :\n",
      "\n",
      "    # derive a set of (random) training and testing indices\n",
      "    k_fold_indices = KFold(len(X), n_folds=k_fold,\n",
      "                           shuffle=True, random_state=0)\n",
      "\n",
      "    k_score_total = 0\n",
      "    # for each training and testing slices run the classifier, and score the results\n",
      "    for train_slice, test_slice in k_fold_indices :\n",
      "\n",
      "        model = classifier(X[ train_slice  ],\n",
      "                         y[ train_slice  ])\n",
      "\n",
      "        k_score = model.score(X[ test_slice ],\n",
      "                              y[ test_slice ])\n",
      "\n",
      "        k_score_total += k_score\n",
      "\n",
      "    # return the average accuracy\n",
      "    return k_score_total/k_fold"
     ],
     "language": "python",
     "metadata": {},
     "outputs": [],
     "prompt_number": 14
    },
    {
     "cell_type": "code",
     "collapsed": false,
     "input": [
      "model = tree.DecisionTreeClassifier(random_state=0).fit\n",
      "cross_validate(X_train, y_train, model, 10)"
     ],
     "language": "python",
     "metadata": {},
     "outputs": [
      {
       "metadata": {},
       "output_type": "pyout",
       "prompt_number": 15,
       "text": [
        "0.86312039913683591"
       ]
      }
     ],
     "prompt_number": 15
    },
    {
     "cell_type": "heading",
     "level": 4,
     "metadata": {},
     "source": [
      "Question 5: Extend Analysis to bank-additional-full.csv"
     ]
    },
    {
     "cell_type": "code",
     "collapsed": false,
     "input": [
      "data_full = pd.read_csv('bank-additional-full.csv', header=0, sep=';')\n",
      "\n",
      "data_full.info()"
     ],
     "language": "python",
     "metadata": {},
     "outputs": [
      {
       "output_type": "stream",
       "stream": "stdout",
       "text": [
        "<class 'pandas.core.frame.DataFrame'>\n",
        "Int64Index: 41188 entries, 0 to 41187\n",
        "Data columns (total 21 columns):\n",
        "age               41188 non-null int64\n",
        "job               41188 non-null object\n",
        "marital           41188 non-null object\n",
        "education         41188 non-null object\n",
        "default           41188 non-null object\n",
        "housing           41188 non-null object\n",
        "loan              41188 non-null object\n",
        "contact           41188 non-null object\n",
        "month             41188 non-null object\n",
        "day_of_week       41188 non-null object\n",
        "duration          41188 non-null int64\n",
        "campaign          41188 non-null int64\n",
        "pdays             41188 non-null int64\n",
        "previous          41188 non-null int64\n",
        "poutcome          41188 non-null object\n",
        "emp.var.rate      41188 non-null float64\n",
        "cons.price.idx    41188 non-null float64\n",
        "cons.conf.idx     41188 non-null float64\n",
        "euribor3m         41188 non-null float64\n",
        "nr.employed       41188 non-null float64\n",
        "y                 41188 non-null object\n",
        "dtypes: float64(5), int64(5), object(11)"
       ]
      }
     ],
     "prompt_number": 16
    },
    {
     "cell_type": "code",
     "collapsed": false,
     "input": [
      "data_full.head()"
     ],
     "language": "python",
     "metadata": {},
     "outputs": [
      {
       "html": [
        "<div style=\"max-height:1000px;max-width:1500px;overflow:auto;\">\n",
        "<table border=\"1\" class=\"dataframe\">\n",
        "  <thead>\n",
        "    <tr style=\"text-align: right;\">\n",
        "      <th></th>\n",
        "      <th>age</th>\n",
        "      <th>job</th>\n",
        "      <th>marital</th>\n",
        "      <th>education</th>\n",
        "      <th>default</th>\n",
        "      <th>housing</th>\n",
        "      <th>loan</th>\n",
        "      <th>contact</th>\n",
        "      <th>month</th>\n",
        "      <th>day_of_week</th>\n",
        "      <th>...</th>\n",
        "      <th>campaign</th>\n",
        "      <th>pdays</th>\n",
        "      <th>previous</th>\n",
        "      <th>poutcome</th>\n",
        "      <th>emp.var.rate</th>\n",
        "      <th>cons.price.idx</th>\n",
        "      <th>cons.conf.idx</th>\n",
        "      <th>euribor3m</th>\n",
        "      <th>nr.employed</th>\n",
        "      <th>y</th>\n",
        "    </tr>\n",
        "  </thead>\n",
        "  <tbody>\n",
        "    <tr>\n",
        "      <th>0</th>\n",
        "      <td> 56</td>\n",
        "      <td> housemaid</td>\n",
        "      <td> married</td>\n",
        "      <td>    basic.4y</td>\n",
        "      <td>      no</td>\n",
        "      <td>  no</td>\n",
        "      <td>  no</td>\n",
        "      <td> telephone</td>\n",
        "      <td> may</td>\n",
        "      <td> mon</td>\n",
        "      <td>...</td>\n",
        "      <td> 1</td>\n",
        "      <td> 999</td>\n",
        "      <td> 0</td>\n",
        "      <td> nonexistent</td>\n",
        "      <td> 1.1</td>\n",
        "      <td> 93.994</td>\n",
        "      <td>-36.4</td>\n",
        "      <td> 4.857</td>\n",
        "      <td> 5191</td>\n",
        "      <td> no</td>\n",
        "    </tr>\n",
        "    <tr>\n",
        "      <th>1</th>\n",
        "      <td> 57</td>\n",
        "      <td>  services</td>\n",
        "      <td> married</td>\n",
        "      <td> high.school</td>\n",
        "      <td> unknown</td>\n",
        "      <td>  no</td>\n",
        "      <td>  no</td>\n",
        "      <td> telephone</td>\n",
        "      <td> may</td>\n",
        "      <td> mon</td>\n",
        "      <td>...</td>\n",
        "      <td> 1</td>\n",
        "      <td> 999</td>\n",
        "      <td> 0</td>\n",
        "      <td> nonexistent</td>\n",
        "      <td> 1.1</td>\n",
        "      <td> 93.994</td>\n",
        "      <td>-36.4</td>\n",
        "      <td> 4.857</td>\n",
        "      <td> 5191</td>\n",
        "      <td> no</td>\n",
        "    </tr>\n",
        "    <tr>\n",
        "      <th>2</th>\n",
        "      <td> 37</td>\n",
        "      <td>  services</td>\n",
        "      <td> married</td>\n",
        "      <td> high.school</td>\n",
        "      <td>      no</td>\n",
        "      <td> yes</td>\n",
        "      <td>  no</td>\n",
        "      <td> telephone</td>\n",
        "      <td> may</td>\n",
        "      <td> mon</td>\n",
        "      <td>...</td>\n",
        "      <td> 1</td>\n",
        "      <td> 999</td>\n",
        "      <td> 0</td>\n",
        "      <td> nonexistent</td>\n",
        "      <td> 1.1</td>\n",
        "      <td> 93.994</td>\n",
        "      <td>-36.4</td>\n",
        "      <td> 4.857</td>\n",
        "      <td> 5191</td>\n",
        "      <td> no</td>\n",
        "    </tr>\n",
        "    <tr>\n",
        "      <th>3</th>\n",
        "      <td> 40</td>\n",
        "      <td>    admin.</td>\n",
        "      <td> married</td>\n",
        "      <td>    basic.6y</td>\n",
        "      <td>      no</td>\n",
        "      <td>  no</td>\n",
        "      <td>  no</td>\n",
        "      <td> telephone</td>\n",
        "      <td> may</td>\n",
        "      <td> mon</td>\n",
        "      <td>...</td>\n",
        "      <td> 1</td>\n",
        "      <td> 999</td>\n",
        "      <td> 0</td>\n",
        "      <td> nonexistent</td>\n",
        "      <td> 1.1</td>\n",
        "      <td> 93.994</td>\n",
        "      <td>-36.4</td>\n",
        "      <td> 4.857</td>\n",
        "      <td> 5191</td>\n",
        "      <td> no</td>\n",
        "    </tr>\n",
        "    <tr>\n",
        "      <th>4</th>\n",
        "      <td> 56</td>\n",
        "      <td>  services</td>\n",
        "      <td> married</td>\n",
        "      <td> high.school</td>\n",
        "      <td>      no</td>\n",
        "      <td>  no</td>\n",
        "      <td> yes</td>\n",
        "      <td> telephone</td>\n",
        "      <td> may</td>\n",
        "      <td> mon</td>\n",
        "      <td>...</td>\n",
        "      <td> 1</td>\n",
        "      <td> 999</td>\n",
        "      <td> 0</td>\n",
        "      <td> nonexistent</td>\n",
        "      <td> 1.1</td>\n",
        "      <td> 93.994</td>\n",
        "      <td>-36.4</td>\n",
        "      <td> 4.857</td>\n",
        "      <td> 5191</td>\n",
        "      <td> no</td>\n",
        "    </tr>\n",
        "  </tbody>\n",
        "</table>\n",
        "<p>5 rows \u00d7 21 columns</p>\n",
        "</div>"
       ],
       "metadata": {},
       "output_type": "pyout",
       "prompt_number": 17,
       "text": [
        "   age        job  marital    education  default housing loan    contact  \\\n",
        "0   56  housemaid  married     basic.4y       no      no   no  telephone   \n",
        "1   57   services  married  high.school  unknown      no   no  telephone   \n",
        "2   37   services  married  high.school       no     yes   no  telephone   \n",
        "3   40     admin.  married     basic.6y       no      no   no  telephone   \n",
        "4   56   services  married  high.school       no      no  yes  telephone   \n",
        "\n",
        "  month day_of_week     ...      campaign  pdays  previous     poutcome  \\\n",
        "0   may         mon     ...             1    999         0  nonexistent   \n",
        "1   may         mon     ...             1    999         0  nonexistent   \n",
        "2   may         mon     ...             1    999         0  nonexistent   \n",
        "3   may         mon     ...             1    999         0  nonexistent   \n",
        "4   may         mon     ...             1    999         0  nonexistent   \n",
        "\n",
        "  emp.var.rate  cons.price.idx  cons.conf.idx  euribor3m  nr.employed   y  \n",
        "0          1.1          93.994          -36.4      4.857         5191  no  \n",
        "1          1.1          93.994          -36.4      4.857         5191  no  \n",
        "2          1.1          93.994          -36.4      4.857         5191  no  \n",
        "3          1.1          93.994          -36.4      4.857         5191  no  \n",
        "4          1.1          93.994          -36.4      4.857         5191  no  \n",
        "\n",
        "[5 rows x 21 columns]"
       ]
      }
     ],
     "prompt_number": 17
    },
    {
     "cell_type": "code",
     "collapsed": false,
     "input": [
      "encode_col('job', data_full)\n",
      "encode_col('marital', data_full)\n",
      "encode_col('education', data_full)\n",
      "encode_col('default', data_full)\n",
      "encode_col('housing', data_full)\n",
      "encode_col('loan', data_full)\n",
      "encode_col('contact', data_full)\n",
      "encode_col('month', data_full)\n",
      "encode_col('day_of_week', data_full)\n",
      "encode_col('poutcome', data_full)\n",
      "encode_col('y', data_full)"
     ],
     "language": "python",
     "metadata": {},
     "outputs": [],
     "prompt_number": 18
    },
    {
     "cell_type": "code",
     "collapsed": false,
     "input": [
      "data_full_target = data_full['y']"
     ],
     "language": "python",
     "metadata": {},
     "outputs": [],
     "prompt_number": 19
    },
    {
     "cell_type": "code",
     "collapsed": false,
     "input": [
      "data_full_features = data_full.copy(deep=True)\n",
      "data_full_features = data_full_features.drop('y', axis=1)"
     ],
     "language": "python",
     "metadata": {},
     "outputs": [],
     "prompt_number": 20
    },
    {
     "cell_type": "code",
     "collapsed": false,
     "input": [
      "X_train, X_test, y_train, y_test = train_test_split(data_full_features, data_full_target, test_size=0.2, random_state=0)"
     ],
     "language": "python",
     "metadata": {},
     "outputs": [],
     "prompt_number": 21
    },
    {
     "cell_type": "code",
     "collapsed": false,
     "input": [
      "model = tree.DecisionTreeClassifier(random_state=0)"
     ],
     "language": "python",
     "metadata": {},
     "outputs": [],
     "prompt_number": 22
    },
    {
     "cell_type": "code",
     "collapsed": false,
     "input": [
      "model.fit(X_train, y_train)"
     ],
     "language": "python",
     "metadata": {},
     "outputs": [
      {
       "metadata": {},
       "output_type": "pyout",
       "prompt_number": 23,
       "text": [
        "DecisionTreeClassifier(compute_importances=None, criterion='gini',\n",
        "            max_depth=None, max_features=None, min_density=None,\n",
        "            min_samples_leaf=1, min_samples_split=2, random_state=0,\n",
        "            splitter='best')"
       ]
      }
     ],
     "prompt_number": 23
    },
    {
     "cell_type": "code",
     "collapsed": false,
     "input": [
      "pd.crosstab(data_full.y, model.predict(data_full_features)).apply(lambda r: r/r.sum(), axis=1)"
     ],
     "language": "python",
     "metadata": {},
     "outputs": [
      {
       "html": [
        "<div style=\"max-height:1000px;max-width:1500px;overflow:auto;\">\n",
        "<table border=\"1\" class=\"dataframe\">\n",
        "  <thead>\n",
        "    <tr style=\"text-align: right;\">\n",
        "      <th>col_0</th>\n",
        "      <th>0</th>\n",
        "      <th>1</th>\n",
        "    </tr>\n",
        "    <tr>\n",
        "      <th>y</th>\n",
        "      <th></th>\n",
        "      <th></th>\n",
        "    </tr>\n",
        "  </thead>\n",
        "  <tbody>\n",
        "    <tr>\n",
        "      <th>0</th>\n",
        "      <td> 0.987414</td>\n",
        "      <td> 0.012586</td>\n",
        "    </tr>\n",
        "    <tr>\n",
        "      <th>1</th>\n",
        "      <td> 0.090302</td>\n",
        "      <td> 0.909698</td>\n",
        "    </tr>\n",
        "  </tbody>\n",
        "</table>\n",
        "</div>"
       ],
       "metadata": {},
       "output_type": "pyout",
       "prompt_number": 24,
       "text": [
        "col_0         0         1\n",
        "y                        \n",
        "0      0.987414  0.012586\n",
        "1      0.090302  0.909698"
       ]
      }
     ],
     "prompt_number": 24
    },
    {
     "cell_type": "code",
     "collapsed": false,
     "input": [
      "model = tree.DecisionTreeClassifier(random_state=0).fit\n",
      "cross_validate(X_train, y_train, model, 10)"
     ],
     "language": "python",
     "metadata": {},
     "outputs": [
      {
       "metadata": {},
       "output_type": "pyout",
       "prompt_number": 25,
       "text": [
        "0.88779969650986335"
       ]
      }
     ],
     "prompt_number": 25
    },
    {
     "cell_type": "raw",
     "metadata": {},
     "source": [
      "We see that the larger data set yields an improved accuracy of .88779, up from .86312 from the smaller data set. "
     ]
    },
    {
     "cell_type": "heading",
     "level": 4,
     "metadata": {},
     "source": [
      "Question 6: Improve mdoedl by using an ensamble method (Random Forest)"
     ]
    },
    {
     "cell_type": "code",
     "collapsed": false,
     "input": [
      "from sklearn.ensemble import RandomForestClassifier\n",
      "\n",
      "model = RandomForestClassifier(max_depth=5,random_state=0).fit"
     ],
     "language": "python",
     "metadata": {},
     "outputs": [],
     "prompt_number": 26
    },
    {
     "cell_type": "code",
     "collapsed": false,
     "input": [
      "cross_validate(X_train, y_train, model, 10)"
     ],
     "language": "python",
     "metadata": {},
     "outputs": [
      {
       "metadata": {},
       "output_type": "pyout",
       "prompt_number": 27,
       "text": [
        "0.9074658573596357"
       ]
      }
     ],
     "prompt_number": 27
    },
    {
     "cell_type": "markdown",
     "metadata": {},
     "source": [
      "The Random Forest model further increases cross-validation performance up to .90746, up from the .88779 in the previous step. "
     ]
    },
    {
     "cell_type": "heading",
     "level": 4,
     "metadata": {},
     "source": [
      "Question 7: Plot the Learning Curve"
     ]
    },
    {
     "cell_type": "code",
     "collapsed": false,
     "input": [
      "import matplotlib.pyplot as plt\n",
      "%matplotlib inline\n",
      "\n",
      "from sklearn import metrics"
     ],
     "language": "python",
     "metadata": {},
     "outputs": [],
     "prompt_number": 28
    },
    {
     "cell_type": "code",
     "collapsed": false,
     "input": [
      "data_percentage_array = np.linspace(10, 100, 10)"
     ],
     "language": "python",
     "metadata": {},
     "outputs": [],
     "prompt_number": 29
    },
    {
     "cell_type": "code",
     "collapsed": false,
     "input": [
      "# def plot_learning_curve(degree=3):\n",
      "#     training_error = []\n",
      "#     test_error = []\n",
      "#     mse = metrics.mean_squared_error\n",
      "    \n",
      "#     for N in N_range:\n",
      "#         XN = X_train[:N]\n",
      "#         yN = y_train[:N]\n",
      "    \n",
      "#         model = tree.DecisionTreeClassifier(random_state=0).fit(XN, yN)\n",
      "#         training_error.append(mse(model.predict(XN), yN))\n",
      "#         test_error.append(mse(model.predict(X_test), y_test))\n",
      "      \n",
      "#     plt.plot(N_range, training_error, label='training')\n",
      "#     plt.plot(N_range, test_error, label='test')\n",
      "#     plt.plot(N_range, np.ones_like(N_range), ':k')\n",
      "#     plt.legend()\n",
      "#     plt.title('degree = {0}'.format(degree))\n",
      "#     plt.xlabel('num. training points')\n",
      "#     plt.ylabel('MSE')\n",
      "    \n",
      "# plot_learning_curve(3)"
     ],
     "language": "python",
     "metadata": {},
     "outputs": [],
     "prompt_number": 30
    },
    {
     "cell_type": "code",
     "collapsed": false,
     "input": [],
     "language": "python",
     "metadata": {},
     "outputs": [],
     "prompt_number": 30
    },
    {
     "cell_type": "code",
     "collapsed": false,
     "input": [],
     "language": "python",
     "metadata": {},
     "outputs": [],
     "prompt_number": 30
    }
   ],
   "metadata": {}
  }
 ]
}