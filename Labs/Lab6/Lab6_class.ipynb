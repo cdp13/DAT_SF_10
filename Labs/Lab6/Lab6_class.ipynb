{
 "metadata": {
  "name": "",
  "signature": "sha256:08869640ac81b291be996ea09aeb0a62521b36cca05b6559a6449767e9e01b6b"
 },
 "nbformat": 3,
 "nbformat_minor": 0,
 "worksheets": [
  {
   "cells": [
    {
     "cell_type": "code",
     "collapsed": false,
     "input": [
      "import csv\n",
      "import numpy as np\n",
      "import pandas as pd\n",
      "import matplotlib.pyplot as plt\n",
      "import statsmodels.api as sm"
     ],
     "language": "python",
     "metadata": {},
     "outputs": [],
     "prompt_number": 44
    },
    {
     "cell_type": "code",
     "collapsed": false,
     "input": [
      "data = pd.read_csv('student_logins.csv')"
     ],
     "language": "python",
     "metadata": {},
     "outputs": [],
     "prompt_number": 23
    },
    {
     "cell_type": "code",
     "collapsed": false,
     "input": [
      "# Convert to datetime\n",
      "data.session_start_time = pd.to_datetime(data.session_start_time)"
     ],
     "language": "python",
     "metadata": {},
     "outputs": [],
     "prompt_number": 28
    },
    {
     "cell_type": "code",
     "collapsed": false,
     "input": [
      "data.session_end_time = pd.to_datetime(data.session_end_time)"
     ],
     "language": "python",
     "metadata": {},
     "outputs": [],
     "prompt_number": 50
    },
    {
     "cell_type": "code",
     "collapsed": false,
     "input": [
      "data.info()"
     ],
     "language": "python",
     "metadata": {},
     "outputs": [
      {
       "output_type": "stream",
       "stream": "stdout",
       "text": [
        "<class 'pandas.core.frame.DataFrame'>\n",
        "Int64Index: 48758 entries, 0 to 48757\n",
        "Data columns (total 8 columns):\n",
        "session_start_time               48758 non-null datetime64[ns]\n",
        "session_end_time                 48758 non-null datetime64[ns]\n",
        "class_id                         48758 non-null object\n",
        "problems_completed               48758 non-null int64\n",
        "student_id                       48758 non-null int64\n",
        "student_account_created          48758 non-null object\n",
        "student_previous_logins_total    48758 non-null int64\n",
        "student_previous_class_logins    48758 non-null int64\n",
        "dtypes: datetime64[ns](2), int64(4), object(2)"
       ]
      }
     ],
     "prompt_number": 33
    },
    {
     "cell_type": "code",
     "collapsed": false,
     "input": [
      "data['duration'] = data.session_end_time - data.session_start_time"
     ],
     "language": "python",
     "metadata": {},
     "outputs": [],
     "prompt_number": 40
    },
    {
     "cell_type": "code",
     "collapsed": false,
     "input": [
      "data.head()"
     ],
     "language": "python",
     "metadata": {},
     "outputs": [
      {
       "html": [
        "<div style=\"max-height:1000px;max-width:1500px;overflow:auto;\">\n",
        "<table border=\"1\" class=\"dataframe\">\n",
        "  <thead>\n",
        "    <tr style=\"text-align: right;\">\n",
        "      <th></th>\n",
        "      <th>session_start_time</th>\n",
        "      <th>session_end_time</th>\n",
        "      <th>class_id</th>\n",
        "      <th>problems_completed</th>\n",
        "      <th>student_id</th>\n",
        "      <th>student_account_created</th>\n",
        "      <th>student_previous_logins_total</th>\n",
        "      <th>student_previous_class_logins</th>\n",
        "      <th>duration</th>\n",
        "    </tr>\n",
        "  </thead>\n",
        "  <tbody>\n",
        "    <tr>\n",
        "      <th>0</th>\n",
        "      <td>2012-01-06 16:28:00</td>\n",
        "      <td>2012-01-06 16:55:00</td>\n",
        "      <td> e</td>\n",
        "      <td> 37</td>\n",
        "      <td>  91</td>\n",
        "      <td> 10/26/11 0:00</td>\n",
        "      <td>  76</td>\n",
        "      <td>  27</td>\n",
        "      <td>00:27:00</td>\n",
        "    </tr>\n",
        "    <tr>\n",
        "      <th>1</th>\n",
        "      <td>2012-01-07 11:00:00</td>\n",
        "      <td>2012-01-07 11:27:00</td>\n",
        "      <td> e</td>\n",
        "      <td> 24</td>\n",
        "      <td> 161</td>\n",
        "      <td>   1/6/12 0:00</td>\n",
        "      <td>   2</td>\n",
        "      <td>   0</td>\n",
        "      <td>00:27:00</td>\n",
        "    </tr>\n",
        "    <tr>\n",
        "      <th>2</th>\n",
        "      <td>2012-01-08 09:04:00</td>\n",
        "      <td>2012-01-08 09:31:00</td>\n",
        "      <td> e</td>\n",
        "      <td> 50</td>\n",
        "      <td> 141</td>\n",
        "      <td> 12/31/11 0:00</td>\n",
        "      <td>   8</td>\n",
        "      <td>   5</td>\n",
        "      <td>00:27:00</td>\n",
        "    </tr>\n",
        "    <tr>\n",
        "      <th>3</th>\n",
        "      <td>2012-01-09 12:41:00</td>\n",
        "      <td>2012-01-09 12:48:00</td>\n",
        "      <td> e</td>\n",
        "      <td> 26</td>\n",
        "      <td> 101</td>\n",
        "      <td> 11/16/11 0:00</td>\n",
        "      <td> 199</td>\n",
        "      <td> 104</td>\n",
        "      <td>00:07:00</td>\n",
        "    </tr>\n",
        "    <tr>\n",
        "      <th>4</th>\n",
        "      <td>2012-01-09 16:59:00</td>\n",
        "      <td>2012-01-09 17:43:00</td>\n",
        "      <td> m</td>\n",
        "      <td> 37</td>\n",
        "      <td> 103</td>\n",
        "      <td> 11/23/11 0:00</td>\n",
        "      <td> 100</td>\n",
        "      <td>  41</td>\n",
        "      <td>00:44:00</td>\n",
        "    </tr>\n",
        "  </tbody>\n",
        "</table>\n",
        "</div>"
       ],
       "metadata": {},
       "output_type": "pyout",
       "prompt_number": 42,
       "text": [
        "   session_start_time    session_end_time class_id  problems_completed  \\\n",
        "0 2012-01-06 16:28:00 2012-01-06 16:55:00        e                  37   \n",
        "1 2012-01-07 11:00:00 2012-01-07 11:27:00        e                  24   \n",
        "2 2012-01-08 09:04:00 2012-01-08 09:31:00        e                  50   \n",
        "3 2012-01-09 12:41:00 2012-01-09 12:48:00        e                  26   \n",
        "4 2012-01-09 16:59:00 2012-01-09 17:43:00        m                  37   \n",
        "\n",
        "   student_id student_account_created  student_previous_logins_total  \\\n",
        "0          91           10/26/11 0:00                             76   \n",
        "1         161             1/6/12 0:00                              2   \n",
        "2         141           12/31/11 0:00                              8   \n",
        "3         101           11/16/11 0:00                            199   \n",
        "4         103           11/23/11 0:00                            100   \n",
        "\n",
        "   student_previous_class_logins  duration  \n",
        "0                             27  00:27:00  \n",
        "1                              0  00:27:00  \n",
        "2                              5  00:27:00  \n",
        "3                            104  00:07:00  \n",
        "4                             41  00:44:00  "
       ]
      }
     ],
     "prompt_number": 42
    },
    {
     "cell_type": "code",
     "collapsed": false,
     "input": [],
     "language": "python",
     "metadata": {},
     "outputs": []
    },
    {
     "cell_type": "code",
     "collapsed": false,
     "input": [
      "X = data[['problems_completed','student_id', 'student_previous_logins_total', 'student_previous_class_logins']].values\n",
      "y = data['duration'].values\n",
      "\n",
      "X = sm.add_constant(X, prepend=True)\n",
      "results = sm.OLS(y, X).fit()"
     ],
     "language": "python",
     "metadata": {},
     "outputs": [
      {
       "ename": "ValueError",
       "evalue": "Cannot find a common data type.",
       "output_type": "pyerr",
       "traceback": [
        "\u001b[0;31m---------------------------------------------------------------------------\u001b[0m\n\u001b[0;31mValueError\u001b[0m                                Traceback (most recent call last)",
        "\u001b[0;32m<ipython-input-59-4a3ccac6418a>\u001b[0m in \u001b[0;36m<module>\u001b[0;34m()\u001b[0m\n\u001b[1;32m      3\u001b[0m \u001b[0;34m\u001b[0m\u001b[0m\n\u001b[1;32m      4\u001b[0m \u001b[0mX\u001b[0m \u001b[0;34m=\u001b[0m \u001b[0msm\u001b[0m\u001b[0;34m.\u001b[0m\u001b[0madd_constant\u001b[0m\u001b[0;34m(\u001b[0m\u001b[0mX\u001b[0m\u001b[0;34m,\u001b[0m \u001b[0mprepend\u001b[0m\u001b[0;34m=\u001b[0m\u001b[0mTrue\u001b[0m\u001b[0;34m)\u001b[0m\u001b[0;34m\u001b[0m\u001b[0m\n\u001b[0;32m----> 5\u001b[0;31m \u001b[0mresults\u001b[0m \u001b[0;34m=\u001b[0m \u001b[0msm\u001b[0m\u001b[0;34m.\u001b[0m\u001b[0mOLS\u001b[0m\u001b[0;34m(\u001b[0m\u001b[0my\u001b[0m\u001b[0;34m,\u001b[0m \u001b[0mX\u001b[0m\u001b[0;34m)\u001b[0m\u001b[0;34m.\u001b[0m\u001b[0mfit\u001b[0m\u001b[0;34m(\u001b[0m\u001b[0;34m)\u001b[0m\u001b[0;34m\u001b[0m\u001b[0m\n\u001b[0m",
        "\u001b[0;32m/Users/Caroline/anaconda/lib/python2.7/site-packages/statsmodels/regression/linear_model.pyc\u001b[0m in \u001b[0;36mfit\u001b[0;34m(self, method, **kwargs)\u001b[0m\n\u001b[1;32m    128\u001b[0m                 self.normalized_cov_params = np.dot(pinv_wexog,\n\u001b[1;32m    129\u001b[0m                                                  np.transpose(pinv_wexog))\n\u001b[0;32m--> 130\u001b[0;31m             \u001b[0mbeta\u001b[0m \u001b[0;34m=\u001b[0m \u001b[0mnp\u001b[0m\u001b[0;34m.\u001b[0m\u001b[0mdot\u001b[0m\u001b[0;34m(\u001b[0m\u001b[0mself\u001b[0m\u001b[0;34m.\u001b[0m\u001b[0mpinv_wexog\u001b[0m\u001b[0;34m,\u001b[0m \u001b[0mendog\u001b[0m\u001b[0;34m)\u001b[0m\u001b[0;34m\u001b[0m\u001b[0m\n\u001b[0m\u001b[1;32m    131\u001b[0m \u001b[0;34m\u001b[0m\u001b[0m\n\u001b[1;32m    132\u001b[0m         \u001b[0;32melif\u001b[0m \u001b[0mmethod\u001b[0m \u001b[0;34m==\u001b[0m \u001b[0;34m\"qr\"\u001b[0m\u001b[0;34m:\u001b[0m\u001b[0;34m\u001b[0m\u001b[0m\n",
        "\u001b[0;31mValueError\u001b[0m: Cannot find a common data type."
       ]
      }
     ],
     "prompt_number": 59
    }
   ],
   "metadata": {}
  }
 ]
}